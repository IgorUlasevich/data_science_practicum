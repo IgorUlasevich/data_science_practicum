{
 "cells": [
  {
   "cell_type": "markdown",
   "id": "ed534544",
   "metadata": {
    "deletable": false,
    "editable": false,
    "id": "c81daeeb"
   },
   "source": [
    "# Исследование надежности заемщиков\n"
   ]
  },
  {
   "cell_type": "markdown",
   "id": "8183ff83",
   "metadata": {
    "deletable": false,
    "editable": false,
    "id": "827c20bf"
   },
   "source": [
    "Во второй части проекта вы выполните шаги 3 и 4. Их вручную проверит ревьюер.\n",
    "Чтобы вам не пришлось писать код заново для шагов 1 и 2, мы добавили авторские решения в ячейки с кодом. \n",
    "\n"
   ]
  },
  {
   "cell_type": "markdown",
   "id": "ebb767a2",
   "metadata": {
    "deletable": false,
    "editable": false,
    "id": "744d7639"
   },
   "source": [
    "## Откройте таблицу и изучите общую информацию о данных"
   ]
  },
  {
   "cell_type": "markdown",
   "id": "0d8d39ed",
   "metadata": {
    "deletable": false,
    "editable": false,
    "id": "e7a14c31"
   },
   "source": [
    "**Задание 1. Импортируйте библиотеку pandas. Считайте данные из csv-файла в датафрейм и сохраните в переменную `data`. Путь к файлу:**\n",
    "\n",
    "`/datasets/data.csv`"
   ]
  },
  {
   "cell_type": "code",
   "execution_count": 1,
   "id": "2eaa3ff5",
   "metadata": {
    "deletable": false,
    "id": "7bcf75c9"
   },
   "outputs": [],
   "source": [
    "import pandas as pd\n",
    "\n",
    "try:\n",
    "    data = pd.read_csv('/datasets/data.csv')\n",
    "except:\n",
    "    data = pd.read_csv('https://code.s3.yandex.net/datasets/data.csv')"
   ]
  },
  {
   "cell_type": "markdown",
   "id": "3343b605",
   "metadata": {
    "deletable": false,
    "editable": false,
    "id": "b8038fe3"
   },
   "source": [
    "**Задание 2. Выведите первые 20 строчек датафрейма `data` на экран.**"
   ]
  },
  {
   "cell_type": "code",
   "execution_count": 2,
   "id": "e20824c3",
   "metadata": {
    "deletable": false,
    "id": "2a7cab99",
    "outputId": "1a8f3ef2-d323-4ec2-ddf7-89670b5944c4"
   },
   "outputs": [
    {
     "data": {
      "text/html": [
       "<div>\n",
       "<style scoped>\n",
       "    .dataframe tbody tr th:only-of-type {\n",
       "        vertical-align: middle;\n",
       "    }\n",
       "\n",
       "    .dataframe tbody tr th {\n",
       "        vertical-align: top;\n",
       "    }\n",
       "\n",
       "    .dataframe thead th {\n",
       "        text-align: right;\n",
       "    }\n",
       "</style>\n",
       "<table border=\"1\" class=\"dataframe\">\n",
       "  <thead>\n",
       "    <tr style=\"text-align: right;\">\n",
       "      <th></th>\n",
       "      <th>children</th>\n",
       "      <th>days_employed</th>\n",
       "      <th>dob_years</th>\n",
       "      <th>education</th>\n",
       "      <th>education_id</th>\n",
       "      <th>family_status</th>\n",
       "      <th>family_status_id</th>\n",
       "      <th>gender</th>\n",
       "      <th>income_type</th>\n",
       "      <th>debt</th>\n",
       "      <th>total_income</th>\n",
       "      <th>purpose</th>\n",
       "    </tr>\n",
       "  </thead>\n",
       "  <tbody>\n",
       "    <tr>\n",
       "      <th>0</th>\n",
       "      <td>1</td>\n",
       "      <td>-8437.673028</td>\n",
       "      <td>42</td>\n",
       "      <td>высшее</td>\n",
       "      <td>0</td>\n",
       "      <td>женат / замужем</td>\n",
       "      <td>0</td>\n",
       "      <td>F</td>\n",
       "      <td>сотрудник</td>\n",
       "      <td>0</td>\n",
       "      <td>253875.639453</td>\n",
       "      <td>покупка жилья</td>\n",
       "    </tr>\n",
       "    <tr>\n",
       "      <th>1</th>\n",
       "      <td>1</td>\n",
       "      <td>-4024.803754</td>\n",
       "      <td>36</td>\n",
       "      <td>среднее</td>\n",
       "      <td>1</td>\n",
       "      <td>женат / замужем</td>\n",
       "      <td>0</td>\n",
       "      <td>F</td>\n",
       "      <td>сотрудник</td>\n",
       "      <td>0</td>\n",
       "      <td>112080.014102</td>\n",
       "      <td>приобретение автомобиля</td>\n",
       "    </tr>\n",
       "    <tr>\n",
       "      <th>2</th>\n",
       "      <td>0</td>\n",
       "      <td>-5623.422610</td>\n",
       "      <td>33</td>\n",
       "      <td>Среднее</td>\n",
       "      <td>1</td>\n",
       "      <td>женат / замужем</td>\n",
       "      <td>0</td>\n",
       "      <td>M</td>\n",
       "      <td>сотрудник</td>\n",
       "      <td>0</td>\n",
       "      <td>145885.952297</td>\n",
       "      <td>покупка жилья</td>\n",
       "    </tr>\n",
       "    <tr>\n",
       "      <th>3</th>\n",
       "      <td>3</td>\n",
       "      <td>-4124.747207</td>\n",
       "      <td>32</td>\n",
       "      <td>среднее</td>\n",
       "      <td>1</td>\n",
       "      <td>женат / замужем</td>\n",
       "      <td>0</td>\n",
       "      <td>M</td>\n",
       "      <td>сотрудник</td>\n",
       "      <td>0</td>\n",
       "      <td>267628.550329</td>\n",
       "      <td>дополнительное образование</td>\n",
       "    </tr>\n",
       "    <tr>\n",
       "      <th>4</th>\n",
       "      <td>0</td>\n",
       "      <td>340266.072047</td>\n",
       "      <td>53</td>\n",
       "      <td>среднее</td>\n",
       "      <td>1</td>\n",
       "      <td>гражданский брак</td>\n",
       "      <td>1</td>\n",
       "      <td>F</td>\n",
       "      <td>пенсионер</td>\n",
       "      <td>0</td>\n",
       "      <td>158616.077870</td>\n",
       "      <td>сыграть свадьбу</td>\n",
       "    </tr>\n",
       "    <tr>\n",
       "      <th>5</th>\n",
       "      <td>0</td>\n",
       "      <td>-926.185831</td>\n",
       "      <td>27</td>\n",
       "      <td>высшее</td>\n",
       "      <td>0</td>\n",
       "      <td>гражданский брак</td>\n",
       "      <td>1</td>\n",
       "      <td>M</td>\n",
       "      <td>компаньон</td>\n",
       "      <td>0</td>\n",
       "      <td>255763.565419</td>\n",
       "      <td>покупка жилья</td>\n",
       "    </tr>\n",
       "    <tr>\n",
       "      <th>6</th>\n",
       "      <td>0</td>\n",
       "      <td>-2879.202052</td>\n",
       "      <td>43</td>\n",
       "      <td>высшее</td>\n",
       "      <td>0</td>\n",
       "      <td>женат / замужем</td>\n",
       "      <td>0</td>\n",
       "      <td>F</td>\n",
       "      <td>компаньон</td>\n",
       "      <td>0</td>\n",
       "      <td>240525.971920</td>\n",
       "      <td>операции с жильем</td>\n",
       "    </tr>\n",
       "    <tr>\n",
       "      <th>7</th>\n",
       "      <td>0</td>\n",
       "      <td>-152.779569</td>\n",
       "      <td>50</td>\n",
       "      <td>СРЕДНЕЕ</td>\n",
       "      <td>1</td>\n",
       "      <td>женат / замужем</td>\n",
       "      <td>0</td>\n",
       "      <td>M</td>\n",
       "      <td>сотрудник</td>\n",
       "      <td>0</td>\n",
       "      <td>135823.934197</td>\n",
       "      <td>образование</td>\n",
       "    </tr>\n",
       "    <tr>\n",
       "      <th>8</th>\n",
       "      <td>2</td>\n",
       "      <td>-6929.865299</td>\n",
       "      <td>35</td>\n",
       "      <td>ВЫСШЕЕ</td>\n",
       "      <td>0</td>\n",
       "      <td>гражданский брак</td>\n",
       "      <td>1</td>\n",
       "      <td>F</td>\n",
       "      <td>сотрудник</td>\n",
       "      <td>0</td>\n",
       "      <td>95856.832424</td>\n",
       "      <td>на проведение свадьбы</td>\n",
       "    </tr>\n",
       "    <tr>\n",
       "      <th>9</th>\n",
       "      <td>0</td>\n",
       "      <td>-2188.756445</td>\n",
       "      <td>41</td>\n",
       "      <td>среднее</td>\n",
       "      <td>1</td>\n",
       "      <td>женат / замужем</td>\n",
       "      <td>0</td>\n",
       "      <td>M</td>\n",
       "      <td>сотрудник</td>\n",
       "      <td>0</td>\n",
       "      <td>144425.938277</td>\n",
       "      <td>покупка жилья для семьи</td>\n",
       "    </tr>\n",
       "    <tr>\n",
       "      <th>10</th>\n",
       "      <td>2</td>\n",
       "      <td>-4171.483647</td>\n",
       "      <td>36</td>\n",
       "      <td>высшее</td>\n",
       "      <td>0</td>\n",
       "      <td>женат / замужем</td>\n",
       "      <td>0</td>\n",
       "      <td>M</td>\n",
       "      <td>компаньон</td>\n",
       "      <td>0</td>\n",
       "      <td>113943.491460</td>\n",
       "      <td>покупка недвижимости</td>\n",
       "    </tr>\n",
       "    <tr>\n",
       "      <th>11</th>\n",
       "      <td>0</td>\n",
       "      <td>-792.701887</td>\n",
       "      <td>40</td>\n",
       "      <td>среднее</td>\n",
       "      <td>1</td>\n",
       "      <td>женат / замужем</td>\n",
       "      <td>0</td>\n",
       "      <td>F</td>\n",
       "      <td>сотрудник</td>\n",
       "      <td>0</td>\n",
       "      <td>77069.234271</td>\n",
       "      <td>покупка коммерческой недвижимости</td>\n",
       "    </tr>\n",
       "    <tr>\n",
       "      <th>12</th>\n",
       "      <td>0</td>\n",
       "      <td>NaN</td>\n",
       "      <td>65</td>\n",
       "      <td>среднее</td>\n",
       "      <td>1</td>\n",
       "      <td>гражданский брак</td>\n",
       "      <td>1</td>\n",
       "      <td>M</td>\n",
       "      <td>пенсионер</td>\n",
       "      <td>0</td>\n",
       "      <td>NaN</td>\n",
       "      <td>сыграть свадьбу</td>\n",
       "    </tr>\n",
       "    <tr>\n",
       "      <th>13</th>\n",
       "      <td>0</td>\n",
       "      <td>-1846.641941</td>\n",
       "      <td>54</td>\n",
       "      <td>неоконченное высшее</td>\n",
       "      <td>2</td>\n",
       "      <td>женат / замужем</td>\n",
       "      <td>0</td>\n",
       "      <td>F</td>\n",
       "      <td>сотрудник</td>\n",
       "      <td>0</td>\n",
       "      <td>130458.228857</td>\n",
       "      <td>приобретение автомобиля</td>\n",
       "    </tr>\n",
       "    <tr>\n",
       "      <th>14</th>\n",
       "      <td>0</td>\n",
       "      <td>-1844.956182</td>\n",
       "      <td>56</td>\n",
       "      <td>высшее</td>\n",
       "      <td>0</td>\n",
       "      <td>гражданский брак</td>\n",
       "      <td>1</td>\n",
       "      <td>F</td>\n",
       "      <td>компаньон</td>\n",
       "      <td>1</td>\n",
       "      <td>165127.911772</td>\n",
       "      <td>покупка жилой недвижимости</td>\n",
       "    </tr>\n",
       "    <tr>\n",
       "      <th>15</th>\n",
       "      <td>1</td>\n",
       "      <td>-972.364419</td>\n",
       "      <td>26</td>\n",
       "      <td>среднее</td>\n",
       "      <td>1</td>\n",
       "      <td>женат / замужем</td>\n",
       "      <td>0</td>\n",
       "      <td>F</td>\n",
       "      <td>сотрудник</td>\n",
       "      <td>0</td>\n",
       "      <td>116820.904450</td>\n",
       "      <td>строительство собственной недвижимости</td>\n",
       "    </tr>\n",
       "    <tr>\n",
       "      <th>16</th>\n",
       "      <td>0</td>\n",
       "      <td>-1719.934226</td>\n",
       "      <td>35</td>\n",
       "      <td>среднее</td>\n",
       "      <td>1</td>\n",
       "      <td>женат / замужем</td>\n",
       "      <td>0</td>\n",
       "      <td>F</td>\n",
       "      <td>сотрудник</td>\n",
       "      <td>0</td>\n",
       "      <td>289202.704229</td>\n",
       "      <td>недвижимость</td>\n",
       "    </tr>\n",
       "    <tr>\n",
       "      <th>17</th>\n",
       "      <td>0</td>\n",
       "      <td>-2369.999720</td>\n",
       "      <td>33</td>\n",
       "      <td>высшее</td>\n",
       "      <td>0</td>\n",
       "      <td>гражданский брак</td>\n",
       "      <td>1</td>\n",
       "      <td>M</td>\n",
       "      <td>сотрудник</td>\n",
       "      <td>0</td>\n",
       "      <td>90410.586745</td>\n",
       "      <td>строительство недвижимости</td>\n",
       "    </tr>\n",
       "    <tr>\n",
       "      <th>18</th>\n",
       "      <td>0</td>\n",
       "      <td>400281.136913</td>\n",
       "      <td>53</td>\n",
       "      <td>среднее</td>\n",
       "      <td>1</td>\n",
       "      <td>вдовец / вдова</td>\n",
       "      <td>2</td>\n",
       "      <td>F</td>\n",
       "      <td>пенсионер</td>\n",
       "      <td>0</td>\n",
       "      <td>56823.777243</td>\n",
       "      <td>на покупку подержанного автомобиля</td>\n",
       "    </tr>\n",
       "    <tr>\n",
       "      <th>19</th>\n",
       "      <td>0</td>\n",
       "      <td>-10038.818549</td>\n",
       "      <td>48</td>\n",
       "      <td>СРЕДНЕЕ</td>\n",
       "      <td>1</td>\n",
       "      <td>в разводе</td>\n",
       "      <td>3</td>\n",
       "      <td>F</td>\n",
       "      <td>сотрудник</td>\n",
       "      <td>0</td>\n",
       "      <td>242831.107982</td>\n",
       "      <td>на покупку своего автомобиля</td>\n",
       "    </tr>\n",
       "  </tbody>\n",
       "</table>\n",
       "</div>"
      ],
      "text/plain": [
       "    children  days_employed  dob_years            education  education_id  \\\n",
       "0          1   -8437.673028         42               высшее             0   \n",
       "1          1   -4024.803754         36              среднее             1   \n",
       "2          0   -5623.422610         33              Среднее             1   \n",
       "3          3   -4124.747207         32              среднее             1   \n",
       "4          0  340266.072047         53              среднее             1   \n",
       "5          0    -926.185831         27               высшее             0   \n",
       "6          0   -2879.202052         43               высшее             0   \n",
       "7          0    -152.779569         50              СРЕДНЕЕ             1   \n",
       "8          2   -6929.865299         35               ВЫСШЕЕ             0   \n",
       "9          0   -2188.756445         41              среднее             1   \n",
       "10         2   -4171.483647         36               высшее             0   \n",
       "11         0    -792.701887         40              среднее             1   \n",
       "12         0            NaN         65              среднее             1   \n",
       "13         0   -1846.641941         54  неоконченное высшее             2   \n",
       "14         0   -1844.956182         56               высшее             0   \n",
       "15         1    -972.364419         26              среднее             1   \n",
       "16         0   -1719.934226         35              среднее             1   \n",
       "17         0   -2369.999720         33               высшее             0   \n",
       "18         0  400281.136913         53              среднее             1   \n",
       "19         0  -10038.818549         48              СРЕДНЕЕ             1   \n",
       "\n",
       "       family_status  family_status_id gender income_type  debt  \\\n",
       "0    женат / замужем                 0      F   сотрудник     0   \n",
       "1    женат / замужем                 0      F   сотрудник     0   \n",
       "2    женат / замужем                 0      M   сотрудник     0   \n",
       "3    женат / замужем                 0      M   сотрудник     0   \n",
       "4   гражданский брак                 1      F   пенсионер     0   \n",
       "5   гражданский брак                 1      M   компаньон     0   \n",
       "6    женат / замужем                 0      F   компаньон     0   \n",
       "7    женат / замужем                 0      M   сотрудник     0   \n",
       "8   гражданский брак                 1      F   сотрудник     0   \n",
       "9    женат / замужем                 0      M   сотрудник     0   \n",
       "10   женат / замужем                 0      M   компаньон     0   \n",
       "11   женат / замужем                 0      F   сотрудник     0   \n",
       "12  гражданский брак                 1      M   пенсионер     0   \n",
       "13   женат / замужем                 0      F   сотрудник     0   \n",
       "14  гражданский брак                 1      F   компаньон     1   \n",
       "15   женат / замужем                 0      F   сотрудник     0   \n",
       "16   женат / замужем                 0      F   сотрудник     0   \n",
       "17  гражданский брак                 1      M   сотрудник     0   \n",
       "18    вдовец / вдова                 2      F   пенсионер     0   \n",
       "19         в разводе                 3      F   сотрудник     0   \n",
       "\n",
       "     total_income                                 purpose  \n",
       "0   253875.639453                           покупка жилья  \n",
       "1   112080.014102                 приобретение автомобиля  \n",
       "2   145885.952297                           покупка жилья  \n",
       "3   267628.550329              дополнительное образование  \n",
       "4   158616.077870                         сыграть свадьбу  \n",
       "5   255763.565419                           покупка жилья  \n",
       "6   240525.971920                       операции с жильем  \n",
       "7   135823.934197                             образование  \n",
       "8    95856.832424                   на проведение свадьбы  \n",
       "9   144425.938277                 покупка жилья для семьи  \n",
       "10  113943.491460                    покупка недвижимости  \n",
       "11   77069.234271       покупка коммерческой недвижимости  \n",
       "12            NaN                         сыграть свадьбу  \n",
       "13  130458.228857                 приобретение автомобиля  \n",
       "14  165127.911772              покупка жилой недвижимости  \n",
       "15  116820.904450  строительство собственной недвижимости  \n",
       "16  289202.704229                            недвижимость  \n",
       "17   90410.586745              строительство недвижимости  \n",
       "18   56823.777243      на покупку подержанного автомобиля  \n",
       "19  242831.107982            на покупку своего автомобиля  "
      ]
     },
     "execution_count": 2,
     "metadata": {},
     "output_type": "execute_result"
    }
   ],
   "source": [
    "data.head(20)"
   ]
  },
  {
   "cell_type": "markdown",
   "id": "7102d14c",
   "metadata": {
    "deletable": false,
    "editable": false,
    "id": "1c12e233"
   },
   "source": [
    "**Задание 3. Выведите основную информацию о датафрейме с помощью метода `info()`.**"
   ]
  },
  {
   "cell_type": "code",
   "execution_count": 3,
   "id": "dcdee818",
   "metadata": {
    "deletable": false,
    "id": "2b757bca",
    "outputId": "15376089-8dad-46c9-b520-c05248d43158"
   },
   "outputs": [
    {
     "name": "stdout",
     "output_type": "stream",
     "text": [
      "<class 'pandas.core.frame.DataFrame'>\n",
      "RangeIndex: 21525 entries, 0 to 21524\n",
      "Data columns (total 12 columns):\n",
      " #   Column            Non-Null Count  Dtype  \n",
      "---  ------            --------------  -----  \n",
      " 0   children          21525 non-null  int64  \n",
      " 1   days_employed     19351 non-null  float64\n",
      " 2   dob_years         21525 non-null  int64  \n",
      " 3   education         21525 non-null  object \n",
      " 4   education_id      21525 non-null  int64  \n",
      " 5   family_status     21525 non-null  object \n",
      " 6   family_status_id  21525 non-null  int64  \n",
      " 7   gender            21525 non-null  object \n",
      " 8   income_type       21525 non-null  object \n",
      " 9   debt              21525 non-null  int64  \n",
      " 10  total_income      19351 non-null  float64\n",
      " 11  purpose           21525 non-null  object \n",
      "dtypes: float64(2), int64(5), object(5)\n",
      "memory usage: 2.0+ MB\n"
     ]
    }
   ],
   "source": [
    "data.info()"
   ]
  },
  {
   "cell_type": "markdown",
   "id": "e634db1b",
   "metadata": {
    "deletable": false,
    "editable": false,
    "id": "333ec665"
   },
   "source": [
    "## Предобработка данных"
   ]
  },
  {
   "cell_type": "markdown",
   "id": "107c0e72",
   "metadata": {
    "deletable": false,
    "editable": false,
    "id": "02d92d53"
   },
   "source": [
    "### Удаление пропусков"
   ]
  },
  {
   "cell_type": "markdown",
   "id": "1fef6051",
   "metadata": {
    "deletable": false,
    "editable": false,
    "id": "cd84967c"
   },
   "source": [
    "**Задание 4. Выведите количество пропущенных значений для каждого столбца. Используйте комбинацию двух методов.**"
   ]
  },
  {
   "cell_type": "code",
   "execution_count": 4,
   "id": "62507db7",
   "metadata": {
    "deletable": false,
    "id": "7f9b2309",
    "outputId": "81f4d817-781c-465c-ed15-91ce4446810d"
   },
   "outputs": [
    {
     "data": {
      "text/plain": [
       "children               0\n",
       "days_employed       2174\n",
       "dob_years              0\n",
       "education              0\n",
       "education_id           0\n",
       "family_status          0\n",
       "family_status_id       0\n",
       "gender                 0\n",
       "income_type            0\n",
       "debt                   0\n",
       "total_income        2174\n",
       "purpose                0\n",
       "dtype: int64"
      ]
     },
     "execution_count": 4,
     "metadata": {},
     "output_type": "execute_result"
    }
   ],
   "source": [
    "data.isna().sum()"
   ]
  },
  {
   "cell_type": "markdown",
   "id": "f47b16fe",
   "metadata": {
    "deletable": false,
    "editable": false,
    "id": "db86e27b"
   },
   "source": [
    "**Задание 5. В двух столбцах есть пропущенные значения. Один из них — `days_employed`. Пропуски в этом столбце вы обработаете на следующем этапе. Другой столбец с пропущенными значениями — `total_income` — хранит данные о доходах. На сумму дохода сильнее всего влияет тип занятости, поэтому заполнить пропуски в этом столбце нужно медианным значением по каждому типу из столбца `income_type`. Например, у человека с типом занятости `сотрудник` пропуск в столбце `total_income` должен быть заполнен медианным доходом среди всех записей с тем же типом.**"
   ]
  },
  {
   "cell_type": "code",
   "execution_count": 5,
   "id": "f43e7eda",
   "metadata": {
    "deletable": false,
    "id": "42006a93"
   },
   "outputs": [],
   "source": [
    "for t in data['income_type'].unique():\n",
    "    data.loc[(data['income_type'] == t) & (data['total_income'].isna()), 'total_income'] = \\\n",
    "    data.loc[(data['income_type'] == t), 'total_income'].median()"
   ]
  },
  {
   "cell_type": "markdown",
   "id": "e6161b0a",
   "metadata": {
    "deletable": false,
    "editable": false,
    "id": "89da5ece"
   },
   "source": [
    "### Обработка аномальных значений"
   ]
  },
  {
   "cell_type": "markdown",
   "id": "08d80e7d",
   "metadata": {
    "deletable": false,
    "editable": false,
    "id": "57964554"
   },
   "source": [
    "**Задание 6. В данных могут встречаться артефакты (аномалии) — значения, которые не отражают действительность и появились по какой-то ошибке. таким артефактом будет отрицательное количество дней трудового стажа в столбце `days_employed`. Для реальных данных это нормально. Обработайте значения в этом столбце: замените все отрицательные значения положительными с помощью метода `abs()`.**"
   ]
  },
  {
   "cell_type": "code",
   "execution_count": 6,
   "id": "8c92effd",
   "metadata": {
    "deletable": false,
    "id": "f6f055bf"
   },
   "outputs": [],
   "source": [
    "data['days_employed'] = data['days_employed'].abs()"
   ]
  },
  {
   "cell_type": "markdown",
   "id": "a3f66cb8",
   "metadata": {
    "deletable": false,
    "editable": false,
    "id": "6107dd2f"
   },
   "source": [
    "**Задание 7. Для каждого типа занятости выведите медианное значение трудового стажа `days_employed` в днях.**"
   ]
  },
  {
   "cell_type": "code",
   "execution_count": 7,
   "id": "3afc79be",
   "metadata": {
    "deletable": false,
    "id": "85a5faf6",
    "outputId": "801ef80e-522b-4668-f34e-565af7432bcf"
   },
   "outputs": [
    {
     "data": {
      "text/plain": [
       "income_type\n",
       "безработный        366413.652744\n",
       "в декрете            3296.759962\n",
       "госслужащий          2689.368353\n",
       "компаньон            1547.382223\n",
       "пенсионер          365213.306266\n",
       "предприниматель       520.848083\n",
       "сотрудник            1574.202821\n",
       "студент               578.751554\n",
       "Name: days_employed, dtype: float64"
      ]
     },
     "execution_count": 7,
     "metadata": {},
     "output_type": "execute_result"
    }
   ],
   "source": [
    "data.groupby('income_type')['days_employed'].agg('median')"
   ]
  },
  {
   "cell_type": "markdown",
   "id": "7b5d09a6",
   "metadata": {
    "deletable": false,
    "editable": false,
    "id": "38d1a030"
   },
   "source": [
    "У двух типов (безработные и пенсионеры) получатся аномально большие значения. Исправить такие значения сложно, поэтому оставьте их как есть. Тем более этот столбец не понадобится вам для исследования."
   ]
  },
  {
   "cell_type": "markdown",
   "id": "c94cec44",
   "metadata": {
    "deletable": false,
    "editable": false,
    "id": "d8a9f147"
   },
   "source": [
    "**Задание 8. Выведите перечень уникальных значений столбца `children`.**"
   ]
  },
  {
   "cell_type": "code",
   "execution_count": 8,
   "id": "8b671072",
   "metadata": {
    "deletable": false,
    "id": "ef5056eb",
    "outputId": "6975b15c-7f95-4697-d16d-a0c79b657b03"
   },
   "outputs": [
    {
     "data": {
      "text/plain": [
       "array([ 1,  0,  3,  2, -1,  4, 20,  5])"
      ]
     },
     "execution_count": 8,
     "metadata": {},
     "output_type": "execute_result"
    }
   ],
   "source": [
    "data['children'].unique()"
   ]
  },
  {
   "cell_type": "markdown",
   "id": "ec1c93fd",
   "metadata": {
    "deletable": false,
    "editable": false,
    "id": "40b9ebf2"
   },
   "source": [
    "**Задание 9. В столбце `children` есть два аномальных значения. Удалите строки, в которых встречаются такие аномальные значения из датафрейма `data`.**"
   ]
  },
  {
   "cell_type": "code",
   "execution_count": 9,
   "id": "ef8786c2",
   "metadata": {
    "deletable": false,
    "id": "3ff9801d"
   },
   "outputs": [],
   "source": [
    "data = data[(data['children'] != -1) & (data['children'] != 20)]"
   ]
  },
  {
   "cell_type": "markdown",
   "id": "bf8b72f1",
   "metadata": {
    "deletable": false,
    "editable": false,
    "id": "bbc4d0ce"
   },
   "source": [
    "**Задание 10. Ещё раз выведите перечень уникальных значений столбца `children`, чтобы убедиться, что артефакты удалены.**"
   ]
  },
  {
   "cell_type": "code",
   "execution_count": 10,
   "id": "5d039559",
   "metadata": {
    "deletable": false,
    "id": "ad4fa8b7",
    "outputId": "b2097101-d49d-44d9-901b-32a65c9463d1"
   },
   "outputs": [
    {
     "data": {
      "text/plain": [
       "array([1, 0, 3, 2, 4, 5])"
      ]
     },
     "execution_count": 10,
     "metadata": {},
     "output_type": "execute_result"
    }
   ],
   "source": [
    "data['children'].unique()"
   ]
  },
  {
   "cell_type": "markdown",
   "id": "5d7dcbd8",
   "metadata": {
    "deletable": false,
    "editable": false,
    "id": "75440b63"
   },
   "source": [
    "### Удаление пропусков (продолжение)"
   ]
  },
  {
   "cell_type": "markdown",
   "id": "6f2ae239",
   "metadata": {
    "deletable": false,
    "editable": false,
    "id": "f4ea573f"
   },
   "source": [
    "**Задание 11. Заполните пропуски в столбце `days_employed` медианными значениями по каждого типа занятости `income_type`.**"
   ]
  },
  {
   "cell_type": "code",
   "execution_count": 11,
   "id": "b6ae8d52",
   "metadata": {
    "deletable": false,
    "id": "af6b1a7e"
   },
   "outputs": [],
   "source": [
    "for t in data['income_type'].unique():\n",
    "    data.loc[(data['income_type'] == t) & (data['days_employed'].isna()), 'days_employed'] = \\\n",
    "    data.loc[(data['income_type'] == t), 'days_employed'].median()"
   ]
  },
  {
   "cell_type": "markdown",
   "id": "f4ed2740",
   "metadata": {
    "deletable": false,
    "editable": false,
    "id": "2753f40d"
   },
   "source": [
    "**Задание 12. Убедитесь, что все пропуски заполнены. Проверьте себя и ещё раз выведите количество пропущенных значений для каждого столбца с помощью двух методов.**"
   ]
  },
  {
   "cell_type": "code",
   "execution_count": 12,
   "id": "93d89996",
   "metadata": {
    "deletable": false,
    "id": "55f78bc2",
    "outputId": "8da1e4e1-358e-4e87-98c9-f261bce0a7b2"
   },
   "outputs": [
    {
     "data": {
      "text/plain": [
       "children            0\n",
       "days_employed       0\n",
       "dob_years           0\n",
       "education           0\n",
       "education_id        0\n",
       "family_status       0\n",
       "family_status_id    0\n",
       "gender              0\n",
       "income_type         0\n",
       "debt                0\n",
       "total_income        0\n",
       "purpose             0\n",
       "dtype: int64"
      ]
     },
     "execution_count": 12,
     "metadata": {},
     "output_type": "execute_result"
    }
   ],
   "source": [
    "data.isna().sum()"
   ]
  },
  {
   "cell_type": "markdown",
   "id": "70c3c492",
   "metadata": {
    "deletable": false,
    "editable": false,
    "id": "ddc81e43"
   },
   "source": [
    "### Изменение типов данных"
   ]
  },
  {
   "cell_type": "markdown",
   "id": "1082ae37",
   "metadata": {
    "deletable": false,
    "editable": false,
    "id": "42d19d24"
   },
   "source": [
    "**Задание 13. Замените вещественный тип данных в столбце `total_income` на целочисленный с помощью метода `astype()`.**"
   ]
  },
  {
   "cell_type": "code",
   "execution_count": 13,
   "id": "e878da62",
   "metadata": {
    "deletable": false,
    "id": "920b65ad"
   },
   "outputs": [],
   "source": [
    "data['total_income'] = data['total_income'].astype(int)"
   ]
  },
  {
   "cell_type": "markdown",
   "id": "f9caf012",
   "metadata": {
    "deletable": false,
    "editable": false,
    "id": "80c420ba"
   },
   "source": [
    "### Обработка дубликатов"
   ]
  },
  {
   "cell_type": "markdown",
   "id": "5eee6629",
   "metadata": {
    "deletable": false,
    "editable": false
   },
   "source": [
    "**Задание 14. Обработайте неявные дубликаты в столбце `education`. В этом столбце есть одни и те же значения, но записанные по-разному: с использованием заглавных и строчных букв. Приведите их к нижнему регистру. Проверьте остальные столбцы.**"
   ]
  },
  {
   "cell_type": "code",
   "execution_count": 14,
   "id": "a070a534",
   "metadata": {
    "deletable": false
   },
   "outputs": [],
   "source": [
    "data['education'] = data['education'].str.lower()"
   ]
  },
  {
   "cell_type": "markdown",
   "id": "5a545fc8",
   "metadata": {
    "deletable": false,
    "editable": false,
    "id": "dc587695"
   },
   "source": [
    "**Задание 15. Выведите на экран количество строк-дубликатов в данных. Если такие строки присутствуют, удалите их.**"
   ]
  },
  {
   "cell_type": "code",
   "execution_count": 15,
   "id": "7c148cdf",
   "metadata": {
    "deletable": false,
    "id": "3ee445e4",
    "outputId": "9684deba-1934-42d1-99e1-cda61740f822"
   },
   "outputs": [
    {
     "data": {
      "text/plain": [
       "71"
      ]
     },
     "execution_count": 15,
     "metadata": {},
     "output_type": "execute_result"
    }
   ],
   "source": [
    "data.duplicated().sum()"
   ]
  },
  {
   "cell_type": "code",
   "execution_count": 16,
   "id": "7b16a03a",
   "metadata": {
    "deletable": false,
    "id": "8575fe05"
   },
   "outputs": [],
   "source": [
    "data = data.drop_duplicates()"
   ]
  },
  {
   "cell_type": "markdown",
   "id": "94a58b1b",
   "metadata": {
    "deletable": false,
    "editable": false,
    "id": "9904cf55"
   },
   "source": [
    "### Категоризация данных"
   ]
  },
  {
   "cell_type": "markdown",
   "id": "f60237d4",
   "metadata": {
    "deletable": false,
    "editable": false,
    "id": "72fcc8a2"
   },
   "source": [
    "**Задание 16. На основании диапазонов, указанных ниже, создайте в датафрейме `data` столбец `total_income_category` с категориями:**\n",
    "\n",
    "- 0–30000 — `'E'`;\n",
    "- 30001–50000 — `'D'`;\n",
    "- 50001–200000 — `'C'`;\n",
    "- 200001–1000000 — `'B'`;\n",
    "- 1000001 и выше — `'A'`.\n",
    "\n",
    "\n",
    "**Например, кредитополучателю с доходом 25000 нужно назначить категорию `'E'`, а клиенту, получающему 235000, — `'B'`. Используйте собственную функцию с именем `categorize_income()` и метод `apply()`.**"
   ]
  },
  {
   "cell_type": "code",
   "execution_count": 17,
   "id": "1e71ad82",
   "metadata": {
    "deletable": false,
    "id": "e1771346"
   },
   "outputs": [],
   "source": [
    "def categorize_income(income):\n",
    "    try:\n",
    "        if 0 <= income <= 30000:\n",
    "            return 'E'\n",
    "        elif 30001 <= income <= 50000:\n",
    "            return 'D'\n",
    "        elif 50001 <= income <= 200000:\n",
    "            return 'C'\n",
    "        elif 200001 <= income <= 1000000:\n",
    "            return 'B'\n",
    "        elif income >= 1000001:\n",
    "            return 'A'\n",
    "    except:\n",
    "        pass"
   ]
  },
  {
   "cell_type": "code",
   "execution_count": 18,
   "id": "91803777",
   "metadata": {
    "deletable": false,
    "id": "d5f3586d"
   },
   "outputs": [],
   "source": [
    "data['total_income_category'] = data['total_income'].apply(categorize_income)"
   ]
  },
  {
   "cell_type": "markdown",
   "id": "5ab61636",
   "metadata": {
    "deletable": false,
    "editable": false,
    "id": "dde49b5c"
   },
   "source": [
    "**Задание 17. Выведите на экран перечень уникальных целей взятия кредита из столбца `purpose`.**"
   ]
  },
  {
   "cell_type": "code",
   "execution_count": 19,
   "id": "697ce7d9",
   "metadata": {
    "deletable": false,
    "id": "f67ce9b3",
    "outputId": "673c12d9-7d7e-4ae0-9812-c622c89dd244"
   },
   "outputs": [
    {
     "data": {
      "text/plain": [
       "array(['покупка жилья', 'приобретение автомобиля',\n",
       "       'дополнительное образование', 'сыграть свадьбу',\n",
       "       'операции с жильем', 'образование', 'на проведение свадьбы',\n",
       "       'покупка жилья для семьи', 'покупка недвижимости',\n",
       "       'покупка коммерческой недвижимости', 'покупка жилой недвижимости',\n",
       "       'строительство собственной недвижимости', 'недвижимость',\n",
       "       'строительство недвижимости', 'на покупку подержанного автомобиля',\n",
       "       'на покупку своего автомобиля',\n",
       "       'операции с коммерческой недвижимостью',\n",
       "       'строительство жилой недвижимости', 'жилье',\n",
       "       'операции со своей недвижимостью', 'автомобили',\n",
       "       'заняться образованием', 'сделка с подержанным автомобилем',\n",
       "       'получение образования', 'автомобиль', 'свадьба',\n",
       "       'получение дополнительного образования', 'покупка своего жилья',\n",
       "       'операции с недвижимостью', 'получение высшего образования',\n",
       "       'свой автомобиль', 'сделка с автомобилем',\n",
       "       'профильное образование', 'высшее образование',\n",
       "       'покупка жилья для сдачи', 'на покупку автомобиля', 'ремонт жилью',\n",
       "       'заняться высшим образованием'], dtype=object)"
      ]
     },
     "execution_count": 19,
     "metadata": {},
     "output_type": "execute_result"
    }
   ],
   "source": [
    "data['purpose'].unique()"
   ]
  },
  {
   "cell_type": "markdown",
   "id": "7bbbf3fa",
   "metadata": {
    "deletable": false,
    "editable": false,
    "id": "85d0aef0"
   },
   "source": [
    "**Задание 18. Создайте функцию, которая на основании данных из столбца `purpose` сформирует новый столбец `purpose_category`, в который войдут следующие категории:**\n",
    "\n",
    "- `'операции с автомобилем'`,\n",
    "- `'операции с недвижимостью'`,\n",
    "- `'проведение свадьбы'`,\n",
    "- `'получение образования'`.\n",
    "\n",
    "**Например, если в столбце `purpose` находится подстрока `'на покупку автомобиля'`, то в столбце `purpose_category` должна появиться строка `'операции с автомобилем'`.**\n",
    "\n",
    "**Используйте собственную функцию с именем `categorize_purpose()` и метод `apply()`. Изучите данные в столбце `purpose` и определите, какие подстроки помогут вам правильно определить категорию.**"
   ]
  },
  {
   "cell_type": "code",
   "execution_count": 20,
   "id": "7d5c7726",
   "metadata": {
    "deletable": false,
    "id": "e149fab4"
   },
   "outputs": [],
   "source": [
    "def categorize_purpose(row):\n",
    "    try:\n",
    "        if 'автом' in row:\n",
    "            return 'операции с автомобилем'\n",
    "        elif 'жил' in row or 'недвиж' in row:\n",
    "            return 'операции с недвижимостью'\n",
    "        elif 'свад' in row:\n",
    "            return 'проведение свадьбы'\n",
    "        elif 'образов' in row:\n",
    "            return 'получение образования'\n",
    "    except:\n",
    "        return 'нет категории'"
   ]
  },
  {
   "cell_type": "code",
   "execution_count": 21,
   "id": "b25545d9",
   "metadata": {
    "deletable": false,
    "id": "bf36e69b"
   },
   "outputs": [],
   "source": [
    "data['purpose_category'] = data['purpose'].apply(categorize_purpose)"
   ]
  },
  {
   "cell_type": "markdown",
   "id": "6747a17f",
   "metadata": {
    "deletable": false,
    "editable": false,
    "id": "09b242bf"
   },
   "source": [
    "### Шаг 3. Исследуйте данные и ответьте на вопросы"
   ]
  },
  {
   "cell_type": "markdown",
   "id": "eeeaefcd",
   "metadata": {},
   "source": [
    "**Описание данных:**\n",
    "- **`children`** — количество детей в семье\n",
    "- **`days_employed`** — общий трудовой стаж в днях\n",
    "- **`dob_years`** — возраст клиента в годах\n",
    "- **`education`** — уровень образования клиента\n",
    "- **`education_id`** — идентификатор уровня образования\n",
    "- **`family_status`** — семейное положение\n",
    "- **`family_status_id`** — идентификатор семейного положения\n",
    "- **`gender`** — пол клиента\n",
    "- **`income_type`** — тип занятости\n",
    "- **`debt`** — имел ли задолженность по возврату кредитов\n",
    "- **`total_income`** — ежемесячный доход\n",
    "- **`purpose`** — цель получения кредита"
   ]
  },
  {
   "cell_type": "code",
   "execution_count": 22,
   "id": "3e68fe1b",
   "metadata": {},
   "outputs": [],
   "source": [
    "# Создадим функцию, которая позволит строить сводную таблицу, подставляя релевантные данные\n",
    "def create_pivot(data, index_column):\n",
    "    # Создаём сводную таблицу\n",
    "    pivot_table = pd.pivot_table(\n",
    "        data,\n",
    "        index=index_column,\n",
    "        values='debt',\n",
    "        aggfunc=[\n",
    "            len,                       # Всего кредитополучателей\n",
    "            sum,                       # Всего должников\n",
    "            lambda x: sum(x) / len(x)  # Доля должников\n",
    "        ]\n",
    "    )\n",
    "    \n",
    "    # Переименовываем столбцы\n",
    "    pivot_table.columns = ['Всего кредитополучателей', 'Всего должников', 'Доля должников']\n",
    "    \n",
    "    # Округляем до четырёх знаков \"долю должников\" \n",
    "    pivot_table['Доля должников'] = pivot_table['Доля должников'].round(4)\n",
    "    \n",
    "    return pivot_table"
   ]
  },
  {
   "cell_type": "markdown",
   "id": "39fbc0f3",
   "metadata": {
    "deletable": false,
    "editable": false,
    "id": "c5d66278"
   },
   "source": [
    "#### 3.1 Есть ли зависимость между количеством детей и возвратом кредита в срок?"
   ]
  },
  {
   "cell_type": "markdown",
   "id": "3ed3fc47",
   "metadata": {},
   "source": [
    "Рассмотрим общее количество заемщиков и должников, а также долю должников среди всех заемщиков с учетом наличия или отсутствия у них детей."
   ]
  },
  {
   "cell_type": "code",
   "execution_count": 23,
   "id": "30e3cf79",
   "metadata": {
    "deletable": false,
    "id": "2cacfc4a"
   },
   "outputs": [
    {
     "data": {
      "text/html": [
       "<div>\n",
       "<style scoped>\n",
       "    .dataframe tbody tr th:only-of-type {\n",
       "        vertical-align: middle;\n",
       "    }\n",
       "\n",
       "    .dataframe tbody tr th {\n",
       "        vertical-align: top;\n",
       "    }\n",
       "\n",
       "    .dataframe thead th {\n",
       "        text-align: right;\n",
       "    }\n",
       "</style>\n",
       "<table border=\"1\" class=\"dataframe\">\n",
       "  <thead>\n",
       "    <tr style=\"text-align: right;\">\n",
       "      <th></th>\n",
       "      <th>Всего кредитополучателей</th>\n",
       "      <th>Всего должников</th>\n",
       "      <th>Доля должников</th>\n",
       "    </tr>\n",
       "    <tr>\n",
       "      <th>children</th>\n",
       "      <th></th>\n",
       "      <th></th>\n",
       "      <th></th>\n",
       "    </tr>\n",
       "  </thead>\n",
       "  <tbody>\n",
       "    <tr>\n",
       "      <th>0</th>\n",
       "      <td>14091</td>\n",
       "      <td>1063</td>\n",
       "      <td>0.0754</td>\n",
       "    </tr>\n",
       "    <tr>\n",
       "      <th>1</th>\n",
       "      <td>4808</td>\n",
       "      <td>444</td>\n",
       "      <td>0.0923</td>\n",
       "    </tr>\n",
       "    <tr>\n",
       "      <th>2</th>\n",
       "      <td>2052</td>\n",
       "      <td>194</td>\n",
       "      <td>0.0945</td>\n",
       "    </tr>\n",
       "    <tr>\n",
       "      <th>3</th>\n",
       "      <td>330</td>\n",
       "      <td>27</td>\n",
       "      <td>0.0818</td>\n",
       "    </tr>\n",
       "    <tr>\n",
       "      <th>4</th>\n",
       "      <td>41</td>\n",
       "      <td>4</td>\n",
       "      <td>0.0976</td>\n",
       "    </tr>\n",
       "    <tr>\n",
       "      <th>5</th>\n",
       "      <td>9</td>\n",
       "      <td>0</td>\n",
       "      <td>0.0000</td>\n",
       "    </tr>\n",
       "  </tbody>\n",
       "</table>\n",
       "</div>"
      ],
      "text/plain": [
       "          Всего кредитополучателей  Всего должников  Доля должников\n",
       "children                                                           \n",
       "0                            14091             1063          0.0754\n",
       "1                             4808              444          0.0923\n",
       "2                             2052              194          0.0945\n",
       "3                              330               27          0.0818\n",
       "4                               41                4          0.0976\n",
       "5                                9                0          0.0000"
      ]
     },
     "execution_count": 23,
     "metadata": {},
     "output_type": "execute_result"
    }
   ],
   "source": [
    "# Вызываем функцию 'create_pivot' для построения сводной таблицы\n",
    "pivot_children = create_pivot(data, 'children')\n",
    "pivot_children"
   ]
  },
  {
   "cell_type": "markdown",
   "id": "b7196226",
   "metadata": {
    "deletable": false,
    "id": "3a6b99ec"
   },
   "source": [
    "**Вывод** \n",
    "\n",
    "Исходя из полученных данных, можно заключить:\n",
    "1. Клиенты без детей демонстрируют наименьшую вероятность возникновения задолженности по кредиту.\n",
    "2. У клиентов с 1 и 2 детьми вероятность возникновения задолженности наибольшая. Это может быть связано с увеличением финансовой нагрузки на семьи с детьми.\n",
    "3. Среди клиентов с детьми связь между количеством детей и вероятностью появления задолженности по кредиту не является очевидной и требует дополнительного анализа. Из-за небольшого количества клиентов с 4 и 5 детьми, репрезентативность этой категории следует считать низкой."
   ]
  },
  {
   "cell_type": "markdown",
   "id": "e0e2e053",
   "metadata": {
    "deletable": false,
    "editable": false,
    "id": "97be82ca"
   },
   "source": [
    "#### 3.2 Есть ли зависимость между семейным положением и возвратом кредита в срок?"
   ]
  },
  {
   "cell_type": "markdown",
   "id": "e5af6f5f",
   "metadata": {},
   "source": [
    "В столбце **`'family_status'`** одинаковые значения представлены с использованием разных регистров (заглавные и строчные буквы). Приведем все значения к нижнему регистру для единообразия."
   ]
  },
  {
   "cell_type": "code",
   "execution_count": 24,
   "id": "a6cf60d5",
   "metadata": {},
   "outputs": [],
   "source": [
    "data['family_status'] = data['family_status'].str.lower()"
   ]
  },
  {
   "cell_type": "markdown",
   "id": "8a985c1c",
   "metadata": {},
   "source": [
    "Рассмотрим общее количество заемщиков и должников, а также долю должников среди всех заемщиков с учетом наличия их семейного статуса."
   ]
  },
  {
   "cell_type": "code",
   "execution_count": 25,
   "id": "6a3fa59d",
   "metadata": {
    "deletable": false,
    "id": "dc3f7ee8",
    "scrolled": true
   },
   "outputs": [
    {
     "data": {
      "text/html": [
       "<div>\n",
       "<style scoped>\n",
       "    .dataframe tbody tr th:only-of-type {\n",
       "        vertical-align: middle;\n",
       "    }\n",
       "\n",
       "    .dataframe tbody tr th {\n",
       "        vertical-align: top;\n",
       "    }\n",
       "\n",
       "    .dataframe thead th {\n",
       "        text-align: right;\n",
       "    }\n",
       "</style>\n",
       "<table border=\"1\" class=\"dataframe\">\n",
       "  <thead>\n",
       "    <tr style=\"text-align: right;\">\n",
       "      <th></th>\n",
       "      <th>Всего кредитополучателей</th>\n",
       "      <th>Всего должников</th>\n",
       "      <th>Доля должников</th>\n",
       "    </tr>\n",
       "    <tr>\n",
       "      <th>family_status</th>\n",
       "      <th></th>\n",
       "      <th></th>\n",
       "      <th></th>\n",
       "    </tr>\n",
       "  </thead>\n",
       "  <tbody>\n",
       "    <tr>\n",
       "      <th>в разводе</th>\n",
       "      <td>1189</td>\n",
       "      <td>84</td>\n",
       "      <td>0.0706</td>\n",
       "    </tr>\n",
       "    <tr>\n",
       "      <th>вдовец / вдова</th>\n",
       "      <td>951</td>\n",
       "      <td>63</td>\n",
       "      <td>0.0662</td>\n",
       "    </tr>\n",
       "    <tr>\n",
       "      <th>гражданский брак</th>\n",
       "      <td>4134</td>\n",
       "      <td>385</td>\n",
       "      <td>0.0931</td>\n",
       "    </tr>\n",
       "    <tr>\n",
       "      <th>женат / замужем</th>\n",
       "      <td>12261</td>\n",
       "      <td>927</td>\n",
       "      <td>0.0756</td>\n",
       "    </tr>\n",
       "    <tr>\n",
       "      <th>не женат / не замужем</th>\n",
       "      <td>2796</td>\n",
       "      <td>273</td>\n",
       "      <td>0.0976</td>\n",
       "    </tr>\n",
       "  </tbody>\n",
       "</table>\n",
       "</div>"
      ],
      "text/plain": [
       "                       Всего кредитополучателей  Всего должников  \\\n",
       "family_status                                                      \n",
       "в разводе                                  1189               84   \n",
       "вдовец / вдова                              951               63   \n",
       "гражданский брак                           4134              385   \n",
       "женат / замужем                           12261              927   \n",
       "не женат / не замужем                      2796              273   \n",
       "\n",
       "                       Доля должников  \n",
       "family_status                          \n",
       "в разводе                      0.0706  \n",
       "вдовец / вдова                 0.0662  \n",
       "гражданский брак               0.0931  \n",
       "женат / замужем                0.0756  \n",
       "не женат / не замужем          0.0976  "
      ]
     },
     "execution_count": 25,
     "metadata": {},
     "output_type": "execute_result"
    }
   ],
   "source": [
    "# Вызываем функцию 'create_pivot' для построения сводной таблицы\n",
    "family_status_children = create_pivot(data, 'family_status')\n",
    "family_status_children"
   ]
  },
  {
   "cell_type": "markdown",
   "id": "19047015",
   "metadata": {
    "deletable": false,
    "id": "1cef7837"
   },
   "source": [
    "**Вывод:** \n",
    "\n",
    "Исходя из полученных данных, можно заключить:\n",
    "1. Клиенты с семейным статусом \"не женат/не замужем\" демонстрируют наибольшую вероятность возникновения задолженности по кредиту.\n",
    "2. Клиенты с семейным статусом \"вдовец/вдова\" демонстрируют наименьшую вероятность возникновения задолженности по кредиту.\n",
    "3. Клиенты бывшие *ранее* в узаконненых отношениях (семейные статусы: \"в разводе\" и \"вдовец/вдова\") демонстрируют наименьшую вероятность возникновения задолженности по кредиту."
   ]
  },
  {
   "cell_type": "markdown",
   "id": "35bdab0a",
   "metadata": {
    "deletable": false,
    "editable": false,
    "id": "1e8b2fca"
   },
   "source": [
    "#### 3.3 Есть ли зависимость между уровнем дохода и возвратом кредита в срок?"
   ]
  },
  {
   "cell_type": "markdown",
   "id": "3091590d",
   "metadata": {},
   "source": [
    "Вспомним диапазоны **`'total_income_category'`**:\n",
    "\n",
    "* 0–30000 — 'E';\n",
    "* 30001–50000 — 'D';\n",
    "* 50001–200000 — 'C';\n",
    "* 200001–1000000 — 'B';\n",
    "* 1000001 и выше — 'A'."
   ]
  },
  {
   "cell_type": "markdown",
   "id": "9b04dc4c",
   "metadata": {},
   "source": [
    "Рассмотрим общее количество заемщиков и должников, а также долю должников среди всех заемщиков с учетом их уровня дохода."
   ]
  },
  {
   "cell_type": "code",
   "execution_count": 26,
   "id": "5338258a",
   "metadata": {
    "deletable": false,
    "id": "cd7e3720",
    "scrolled": true
   },
   "outputs": [
    {
     "data": {
      "text/html": [
       "<div>\n",
       "<style scoped>\n",
       "    .dataframe tbody tr th:only-of-type {\n",
       "        vertical-align: middle;\n",
       "    }\n",
       "\n",
       "    .dataframe tbody tr th {\n",
       "        vertical-align: top;\n",
       "    }\n",
       "\n",
       "    .dataframe thead th {\n",
       "        text-align: right;\n",
       "    }\n",
       "</style>\n",
       "<table border=\"1\" class=\"dataframe\">\n",
       "  <thead>\n",
       "    <tr style=\"text-align: right;\">\n",
       "      <th></th>\n",
       "      <th>Всего кредитополучателей</th>\n",
       "      <th>Всего должников</th>\n",
       "      <th>Доля должников</th>\n",
       "    </tr>\n",
       "    <tr>\n",
       "      <th>total_income_category</th>\n",
       "      <th></th>\n",
       "      <th></th>\n",
       "      <th></th>\n",
       "    </tr>\n",
       "  </thead>\n",
       "  <tbody>\n",
       "    <tr>\n",
       "      <th>A</th>\n",
       "      <td>25</td>\n",
       "      <td>2</td>\n",
       "      <td>0.0800</td>\n",
       "    </tr>\n",
       "    <tr>\n",
       "      <th>B</th>\n",
       "      <td>5014</td>\n",
       "      <td>354</td>\n",
       "      <td>0.0706</td>\n",
       "    </tr>\n",
       "    <tr>\n",
       "      <th>C</th>\n",
       "      <td>15921</td>\n",
       "      <td>1353</td>\n",
       "      <td>0.0850</td>\n",
       "    </tr>\n",
       "    <tr>\n",
       "      <th>D</th>\n",
       "      <td>349</td>\n",
       "      <td>21</td>\n",
       "      <td>0.0602</td>\n",
       "    </tr>\n",
       "    <tr>\n",
       "      <th>E</th>\n",
       "      <td>22</td>\n",
       "      <td>2</td>\n",
       "      <td>0.0909</td>\n",
       "    </tr>\n",
       "  </tbody>\n",
       "</table>\n",
       "</div>"
      ],
      "text/plain": [
       "                       Всего кредитополучателей  Всего должников  \\\n",
       "total_income_category                                              \n",
       "A                                            25                2   \n",
       "B                                          5014              354   \n",
       "C                                         15921             1353   \n",
       "D                                           349               21   \n",
       "E                                            22                2   \n",
       "\n",
       "                       Доля должников  \n",
       "total_income_category                  \n",
       "A                              0.0800  \n",
       "B                              0.0706  \n",
       "C                              0.0850  \n",
       "D                              0.0602  \n",
       "E                              0.0909  "
      ]
     },
     "execution_count": 26,
     "metadata": {},
     "output_type": "execute_result"
    }
   ],
   "source": [
    "# Вызываем функцию 'create_pivot' для построения сводной таблицы\n",
    "total_income_status = create_pivot(data, 'total_income_category')\n",
    "total_income_status"
   ]
  },
  {
   "cell_type": "markdown",
   "id": "e296b572",
   "metadata": {
    "deletable": false,
    "id": "e8593def"
   },
   "source": [
    "**Вывод:** \n",
    "\n",
    "\n",
    "    1. Для категорий \"A\", \"D\" и \"E\" данных недостаточно для корректных выводов из-за высокой статистической погрешности.\n",
    "\n",
    "    2. Клиенты с уровнем дохода \"B\" реже имеют задолженности по кредиту по сравнению с клиентами из категории \"C\", что можно объяснить более высоким уровнем дохода."
   ]
  },
  {
   "cell_type": "markdown",
   "id": "33d21efd",
   "metadata": {
    "deletable": false,
    "editable": false,
    "id": "99ecbd1f"
   },
   "source": [
    "#### 3.4 Как разные цели кредита влияют на его возврат в срок?"
   ]
  },
  {
   "cell_type": "markdown",
   "id": "ba26c591",
   "metadata": {},
   "source": [
    "Вспомним категории **`'purpose_category'`**:\n",
    "\n",
    "* 'операции с автомобилем'\n",
    "* 'операции с недвижимостью'\n",
    "* 'проведение свадьбы'\n",
    "* 'получение образования'"
   ]
  },
  {
   "cell_type": "markdown",
   "id": "9e894bd0",
   "metadata": {},
   "source": [
    "Рассмотрим общее количество заемщиков и должников, а также долю должников среди всех заемщиков с учетом цели получения кредита."
   ]
  },
  {
   "cell_type": "code",
   "execution_count": 27,
   "id": "6e43bff9",
   "metadata": {
    "deletable": false,
    "id": "2b687290",
    "scrolled": true
   },
   "outputs": [
    {
     "data": {
      "text/html": [
       "<div>\n",
       "<style scoped>\n",
       "    .dataframe tbody tr th:only-of-type {\n",
       "        vertical-align: middle;\n",
       "    }\n",
       "\n",
       "    .dataframe tbody tr th {\n",
       "        vertical-align: top;\n",
       "    }\n",
       "\n",
       "    .dataframe thead th {\n",
       "        text-align: right;\n",
       "    }\n",
       "</style>\n",
       "<table border=\"1\" class=\"dataframe\">\n",
       "  <thead>\n",
       "    <tr style=\"text-align: right;\">\n",
       "      <th></th>\n",
       "      <th>Всего кредитополучателей</th>\n",
       "      <th>Всего должников</th>\n",
       "      <th>Доля должников</th>\n",
       "    </tr>\n",
       "    <tr>\n",
       "      <th>purpose_category</th>\n",
       "      <th></th>\n",
       "      <th></th>\n",
       "      <th></th>\n",
       "    </tr>\n",
       "  </thead>\n",
       "  <tbody>\n",
       "    <tr>\n",
       "      <th>операции с автомобилем</th>\n",
       "      <td>4279</td>\n",
       "      <td>400</td>\n",
       "      <td>0.0935</td>\n",
       "    </tr>\n",
       "    <tr>\n",
       "      <th>операции с недвижимостью</th>\n",
       "      <td>10751</td>\n",
       "      <td>780</td>\n",
       "      <td>0.0726</td>\n",
       "    </tr>\n",
       "    <tr>\n",
       "      <th>получение образования</th>\n",
       "      <td>3988</td>\n",
       "      <td>369</td>\n",
       "      <td>0.0925</td>\n",
       "    </tr>\n",
       "    <tr>\n",
       "      <th>проведение свадьбы</th>\n",
       "      <td>2313</td>\n",
       "      <td>183</td>\n",
       "      <td>0.0791</td>\n",
       "    </tr>\n",
       "  </tbody>\n",
       "</table>\n",
       "</div>"
      ],
      "text/plain": [
       "                          Всего кредитополучателей  Всего должников  \\\n",
       "purpose_category                                                      \n",
       "операции с автомобилем                        4279              400   \n",
       "операции с недвижимостью                     10751              780   \n",
       "получение образования                         3988              369   \n",
       "проведение свадьбы                            2313              183   \n",
       "\n",
       "                          Доля должников  \n",
       "purpose_category                          \n",
       "операции с автомобилем            0.0935  \n",
       "операции с недвижимостью          0.0726  \n",
       "получение образования             0.0925  \n",
       "проведение свадьбы                0.0791  "
      ]
     },
     "execution_count": 27,
     "metadata": {},
     "output_type": "execute_result"
    }
   ],
   "source": [
    "purpose_status = create_pivot(data, 'purpose_category')\n",
    "purpose_status"
   ]
  },
  {
   "cell_type": "markdown",
   "id": "9f3fee1d",
   "metadata": {
    "deletable": false,
    "id": "b4bb2ce6"
   },
   "source": [
    "**Вывод:** \n",
    "\n",
    "Исходя из полученных данных, можно заключить:\n",
    "1. Клиенты с целями кредита **\"операции с автомобилем\"** и **\"получение образования\"** демонстрируют наибольшую вероятность возникновения задолженности по кредиту.\n",
    "2. Клиенты с целями кредита **\"проведение свадьбы\"** и **\"операции с недвижимостью\"** демонстрируют наименьшую вероятность возникновения задолженности по кредиту."
   ]
  },
  {
   "cell_type": "markdown",
   "id": "635f638c",
   "metadata": {
    "deletable": false,
    "editable": false,
    "id": "09c3ac4c"
   },
   "source": [
    "#### 3.5 Приведите возможные причины появления пропусков в исходных данных."
   ]
  },
  {
   "cell_type": "markdown",
   "id": "4b8a2230",
   "metadata": {
    "deletable": false,
    "id": "9da2ceda"
   },
   "source": [
    "*Ответ:* возможные причины появления пропусков можно поделить на две группы:\n",
    "1. Обусловенные человеческим фактором: \n",
    "* невнимательность; \n",
    "* отсутствие шаблонной методологии заполнения (поля не отмечены как обязательные);\n",
    "* сокрытие информации (нежелание отвечать на личные вопросы: возраст, доход).\n",
    "2. Обусловенные техническим сбоем: \n",
    "* потеря данных при обработке; \n",
    "* технический сбой при выгрузке данных из БД;\n",
    "* несоответствие форматов из разных источников."
   ]
  },
  {
   "cell_type": "markdown",
   "id": "780ea7ff",
   "metadata": {
    "deletable": false,
    "editable": false,
    "id": "7b0487d6"
   },
   "source": [
    "#### 3.6 Объясните, почему заполнить пропуски медианным значением — лучшее решение для количественных переменных."
   ]
  },
  {
   "cell_type": "markdown",
   "id": "43e3de11",
   "metadata": {
    "deletable": false,
    "id": "7ecf2b8e"
   },
   "source": [
    "*Ответ:* \n",
    "\n",
    "Заполнение пропусков медианными значениями — это оптимальный выбор для количественных переменных, так как медиана устойчива к выбросам и сохраняет общий баланс данных. В отличие от среднего значения, которое может быть искажено выбросами, медиана гарантирует, что распределение данных в группе остаётся стабильным и репрезентативным."
   ]
  },
  {
   "cell_type": "markdown",
   "id": "2c244895",
   "metadata": {
    "deletable": false,
    "editable": false,
    "id": "6db5255a"
   },
   "source": [
    "### Шаг 4: общий вывод."
   ]
  },
  {
   "cell_type": "markdown",
   "id": "8e61ddc8",
   "metadata": {
    "deletable": false,
    "id": "bad65432"
   },
   "source": [
    "**Во время предобработки данных были осуществлены следующие действия:**\n",
    "    \n",
    "    1. Удалены пропуски.\n",
    "    2. Обработаны аномальные значения.\n",
    "    3. Изменён тип некоторых данных.\n",
    "    4. Обработаны дубликаты.\n",
    "    5. Были введеные новые категории: \"purpose_category\" и \"total_income_category\"\n",
    "    \n",
    "**Выявлены следующие зависимости:**\n",
    "    \n",
    "    1. Наибольшую вероятность возникновения задолженности по кредиту демонстрируют клиенты с 1-2 детьми, что может быть связано с увеличением финансовой нагрузки, а также клиенты с целями кредита на \"операции с автомобилем\" и \"получение образования\".\n",
    "    2. Наименьшую вероятность задолженности имеют клиенты, ранее состоявшие в узаконенных отношениях (\"в разводе\", \"вдовец/вдова\"), а также клиенты с целями кредита на \"проведение свадьбы\" и \"операции с недвижимостью\". Это может быть связано с более зрелым возрастом, осознанным подходом к кредитам и более стабильной карьерой.\n",
    "    3. Клиенты с уровнем дохода категории \"B\" реже сталкиваются с задолженностями по сравнению с клиентами из категории \"C\", что возможно объясняется их более высоким уровнем дохода и финансовой устойчивостью.\n",
    "    \n",
    "**Портреты заемщиков:**\n",
    "\n",
    "    Надежный заемщик:\n",
    "    Клиент без детей, ранее состоявший в официальном браке, с целью кредита — приобретение недвижимости.\n",
    "\n",
    "    Рискованный заемщик:\n",
    "    Клиент с детьми, холостой/ая или состоящий в официальном браке, с целью кредита — операции с автомобилем или получение образования.\n",
    "    \n",
    "**Рекомендации:**\n",
    "\n",
    "    1. Усилить проверку клиентов с 1-2 детьми и целями кредита на \"операции с автомобилем\" и \"получение образования\".  \n",
    "    2. Предложить льготные условия для клиентов без детей и с целью кредита \"операции с недвижимостью\".  \n",
    "    3. Увеличить требования к заемщикам из категории \"C\" и стимулировать клиентов с доходом категории \"B\".  \n",
    "    4. Внедрить скоринг для оценки рисков, учитывающий детей, цели кредита, семейный статус и доход.  "
   ]
  }
 ],
 "metadata": {
  "ExecuteTimeLog": [
   {
    "duration": 729,
    "start_time": "2024-12-04T08:31:23.939Z"
   },
   {
    "duration": 25,
    "start_time": "2024-12-04T08:31:24.779Z"
   },
   {
    "duration": 18,
    "start_time": "2024-12-04T08:31:27.043Z"
   },
   {
    "duration": 11,
    "start_time": "2024-12-04T08:31:34.212Z"
   },
   {
    "duration": 37,
    "start_time": "2024-12-04T08:31:34.602Z"
   },
   {
    "duration": 4,
    "start_time": "2024-12-04T08:31:35.145Z"
   },
   {
    "duration": 9,
    "start_time": "2024-12-04T08:31:35.694Z"
   },
   {
    "duration": 5,
    "start_time": "2024-12-04T08:31:35.782Z"
   },
   {
    "duration": 7,
    "start_time": "2024-12-04T08:31:35.844Z"
   },
   {
    "duration": 19,
    "start_time": "2024-12-04T08:31:35.907Z"
   },
   {
    "duration": 40,
    "start_time": "2024-12-04T08:31:36.016Z"
   },
   {
    "duration": 11,
    "start_time": "2024-12-04T08:31:36.077Z"
   },
   {
    "duration": 3,
    "start_time": "2024-12-04T08:31:36.172Z"
   },
   {
    "duration": 13,
    "start_time": "2024-12-04T08:31:36.281Z"
   },
   {
    "duration": 23,
    "start_time": "2024-12-04T08:31:36.343Z"
   },
   {
    "duration": 19,
    "start_time": "2024-12-04T08:31:36.380Z"
   },
   {
    "duration": 4,
    "start_time": "2024-12-04T08:31:36.470Z"
   },
   {
    "duration": 12,
    "start_time": "2024-12-04T08:31:36.499Z"
   },
   {
    "duration": 6,
    "start_time": "2024-12-04T08:31:36.579Z"
   },
   {
    "duration": 3,
    "start_time": "2024-12-04T08:31:36.643Z"
   },
   {
    "duration": 25,
    "start_time": "2024-12-04T08:31:36.673Z"
   },
   {
    "duration": 2,
    "start_time": "2024-12-04T08:31:36.766Z"
   },
   {
    "duration": 2,
    "start_time": "2024-12-04T08:31:36.882Z"
   },
   {
    "duration": 70,
    "start_time": "2024-12-04T10:34:55.672Z"
   },
   {
    "duration": 11,
    "start_time": "2024-12-04T10:35:07.601Z"
   },
   {
    "duration": 11,
    "start_time": "2024-12-04T10:35:46.104Z"
   },
   {
    "duration": 9,
    "start_time": "2024-12-04T10:36:27.600Z"
   },
   {
    "duration": 7,
    "start_time": "2024-12-04T10:36:33.327Z"
   },
   {
    "duration": 9,
    "start_time": "2024-12-04T10:36:36.281Z"
   },
   {
    "duration": 11,
    "start_time": "2024-12-04T10:37:45.135Z"
   },
   {
    "duration": 11,
    "start_time": "2024-12-04T10:39:59.722Z"
   },
   {
    "duration": 20,
    "start_time": "2024-12-04T10:43:24.722Z"
   },
   {
    "duration": 1036,
    "start_time": "2024-12-04T10:44:43.072Z"
   },
   {
    "duration": 183,
    "start_time": "2024-12-04T10:44:59.389Z"
   },
   {
    "duration": 23,
    "start_time": "2024-12-04T10:59:42.753Z"
   },
   {
    "duration": 49,
    "start_time": "2024-12-04T11:00:08.577Z"
   },
   {
    "duration": 9,
    "start_time": "2024-12-04T11:00:17.944Z"
   },
   {
    "duration": 9,
    "start_time": "2024-12-04T11:00:35.931Z"
   },
   {
    "duration": 17,
    "start_time": "2024-12-04T11:00:46.775Z"
   },
   {
    "duration": 13,
    "start_time": "2024-12-04T11:01:06.292Z"
   },
   {
    "duration": 13,
    "start_time": "2024-12-04T11:01:09.890Z"
   },
   {
    "duration": 20,
    "start_time": "2024-12-04T11:01:16.882Z"
   },
   {
    "duration": 17,
    "start_time": "2024-12-04T11:01:19.086Z"
   },
   {
    "duration": 20,
    "start_time": "2024-12-04T11:01:24.215Z"
   },
   {
    "duration": 13,
    "start_time": "2024-12-04T11:01:33.640Z"
   },
   {
    "duration": 2,
    "start_time": "2024-12-04T11:04:27.820Z"
   },
   {
    "duration": 2,
    "start_time": "2024-12-04T11:04:48.295Z"
   },
   {
    "duration": 28,
    "start_time": "2024-12-04T11:06:56.923Z"
   },
   {
    "duration": 38,
    "start_time": "2024-12-04T11:07:14.115Z"
   },
   {
    "duration": 29,
    "start_time": "2024-12-04T11:07:19.860Z"
   },
   {
    "duration": 14,
    "start_time": "2024-12-04T11:11:36.820Z"
   },
   {
    "duration": 20,
    "start_time": "2024-12-04T11:11:42.353Z"
   },
   {
    "duration": 19,
    "start_time": "2024-12-04T11:16:00.215Z"
   },
   {
    "duration": 19,
    "start_time": "2024-12-04T11:19:56.737Z"
   },
   {
    "duration": 118,
    "start_time": "2024-12-04T11:55:07.373Z"
   },
   {
    "duration": 15,
    "start_time": "2024-12-04T11:57:45.988Z"
   },
   {
    "duration": 86,
    "start_time": "2024-12-04T11:57:54.860Z"
   },
   {
    "duration": 13,
    "start_time": "2024-12-04T11:57:59.817Z"
   },
   {
    "duration": 4830,
    "start_time": "2024-12-04T12:07:01.608Z"
   },
   {
    "duration": 1990,
    "start_time": "2024-12-04T12:07:10.876Z"
   },
   {
    "duration": 5,
    "start_time": "2024-12-04T12:10:47.659Z"
   },
   {
    "duration": 26,
    "start_time": "2024-12-04T12:10:55.477Z"
   },
   {
    "duration": 4,
    "start_time": "2024-12-04T12:11:38.035Z"
   },
   {
    "duration": 21,
    "start_time": "2024-12-04T12:14:25.787Z"
   },
   {
    "duration": 13,
    "start_time": "2024-12-04T12:14:38.478Z"
   },
   {
    "duration": 18,
    "start_time": "2024-12-04T12:14:46.458Z"
   },
   {
    "duration": 492,
    "start_time": "2024-12-04T12:14:56.992Z"
   },
   {
    "duration": 24,
    "start_time": "2024-12-04T12:14:57.486Z"
   },
   {
    "duration": 19,
    "start_time": "2024-12-04T12:14:57.512Z"
   },
   {
    "duration": 23,
    "start_time": "2024-12-04T12:14:57.533Z"
   },
   {
    "duration": 46,
    "start_time": "2024-12-04T12:14:57.558Z"
   },
   {
    "duration": 3,
    "start_time": "2024-12-04T12:14:57.606Z"
   },
   {
    "duration": 18,
    "start_time": "2024-12-04T12:14:57.610Z"
   },
   {
    "duration": 24,
    "start_time": "2024-12-04T12:14:57.629Z"
   },
   {
    "duration": 8,
    "start_time": "2024-12-04T12:14:57.654Z"
   },
   {
    "duration": 4,
    "start_time": "2024-12-04T12:14:57.664Z"
   },
   {
    "duration": 44,
    "start_time": "2024-12-04T12:14:57.669Z"
   },
   {
    "duration": 42,
    "start_time": "2024-12-04T12:14:57.714Z"
   },
   {
    "duration": 8,
    "start_time": "2024-12-04T12:14:57.757Z"
   },
   {
    "duration": 23,
    "start_time": "2024-12-04T12:14:57.768Z"
   },
   {
    "duration": 25,
    "start_time": "2024-12-04T12:14:57.793Z"
   },
   {
    "duration": 17,
    "start_time": "2024-12-04T12:14:57.820Z"
   },
   {
    "duration": 4,
    "start_time": "2024-12-04T12:14:57.838Z"
   },
   {
    "duration": 13,
    "start_time": "2024-12-04T12:14:57.851Z"
   },
   {
    "duration": 17,
    "start_time": "2024-12-04T12:14:57.866Z"
   },
   {
    "duration": 12,
    "start_time": "2024-12-04T12:14:57.885Z"
   },
   {
    "duration": 13,
    "start_time": "2024-12-04T12:14:57.899Z"
   },
   {
    "duration": 38,
    "start_time": "2024-12-04T12:14:57.914Z"
   },
   {
    "duration": 18,
    "start_time": "2024-12-04T12:14:57.954Z"
   },
   {
    "duration": 23,
    "start_time": "2024-12-04T12:14:57.974Z"
   },
   {
    "duration": 11,
    "start_time": "2024-12-04T12:14:57.999Z"
   },
   {
    "duration": 5,
    "start_time": "2024-12-04T12:14:58.012Z"
   },
   {
    "duration": 21,
    "start_time": "2024-12-04T12:40:39.665Z"
   },
   {
    "duration": 76,
    "start_time": "2024-12-04T12:41:05.419Z"
   },
   {
    "duration": 16,
    "start_time": "2024-12-04T12:41:18.441Z"
   },
   {
    "duration": 13,
    "start_time": "2024-12-04T12:41:29.022Z"
   },
   {
    "duration": 15,
    "start_time": "2024-12-04T12:41:45.125Z"
   },
   {
    "duration": 3,
    "start_time": "2024-12-04T12:43:04.104Z"
   },
   {
    "duration": 5,
    "start_time": "2024-12-04T12:43:12.716Z"
   },
   {
    "duration": 34,
    "start_time": "2024-12-04T12:43:35.005Z"
   },
   {
    "duration": 20,
    "start_time": "2024-12-04T12:44:41.758Z"
   },
   {
    "duration": 14,
    "start_time": "2024-12-04T12:44:42.913Z"
   },
   {
    "duration": 13,
    "start_time": "2024-12-04T12:45:51.932Z"
   },
   {
    "duration": 16,
    "start_time": "2024-12-04T12:45:55.831Z"
   },
   {
    "duration": 18,
    "start_time": "2024-12-04T12:47:24.994Z"
   },
   {
    "duration": 22,
    "start_time": "2024-12-04T12:47:30.363Z"
   },
   {
    "duration": 16,
    "start_time": "2024-12-04T12:47:33.005Z"
   },
   {
    "duration": 12,
    "start_time": "2024-12-04T12:47:44.231Z"
   },
   {
    "duration": 330,
    "start_time": "2024-12-04T12:47:51.559Z"
   },
   {
    "duration": 19,
    "start_time": "2024-12-04T12:49:02.342Z"
   },
   {
    "duration": 18,
    "start_time": "2024-12-04T12:49:16.791Z"
   },
   {
    "duration": 13,
    "start_time": "2024-12-04T12:49:48.546Z"
   },
   {
    "duration": 14,
    "start_time": "2024-12-04T12:51:18.656Z"
   },
   {
    "duration": 16,
    "start_time": "2024-12-04T12:52:24.236Z"
   },
   {
    "duration": 23,
    "start_time": "2024-12-04T12:52:38.954Z"
   },
   {
    "duration": 70,
    "start_time": "2024-12-04T12:56:20.840Z"
   },
   {
    "duration": 15,
    "start_time": "2024-12-04T12:57:53.254Z"
   },
   {
    "duration": 25,
    "start_time": "2024-12-04T12:57:54.068Z"
   },
   {
    "duration": 20,
    "start_time": "2024-12-04T12:58:11.333Z"
   },
   {
    "duration": 24,
    "start_time": "2024-12-04T13:00:42.164Z"
   },
   {
    "duration": 21,
    "start_time": "2024-12-04T13:00:44.339Z"
   },
   {
    "duration": 16,
    "start_time": "2024-12-04T13:00:47.805Z"
   },
   {
    "duration": 25,
    "start_time": "2024-12-04T13:02:28.968Z"
   },
   {
    "duration": 11,
    "start_time": "2024-12-04T13:02:49.744Z"
   },
   {
    "duration": 17,
    "start_time": "2024-12-04T13:02:53.553Z"
   },
   {
    "duration": 13,
    "start_time": "2024-12-04T13:03:53.585Z"
   },
   {
    "duration": 13,
    "start_time": "2024-12-04T13:04:00.440Z"
   },
   {
    "duration": 12,
    "start_time": "2024-12-04T13:04:22.491Z"
   },
   {
    "duration": 7,
    "start_time": "2024-12-04T13:04:29.007Z"
   },
   {
    "duration": 10,
    "start_time": "2024-12-04T13:04:50.407Z"
   },
   {
    "duration": 7,
    "start_time": "2024-12-04T13:04:54.406Z"
   },
   {
    "duration": 20,
    "start_time": "2024-12-04T13:06:51.055Z"
   },
   {
    "duration": 19,
    "start_time": "2024-12-04T13:07:07.031Z"
   },
   {
    "duration": 19,
    "start_time": "2024-12-04T13:09:07.829Z"
   },
   {
    "duration": 9,
    "start_time": "2024-12-04T13:11:03.663Z"
   },
   {
    "duration": 6,
    "start_time": "2024-12-04T13:11:04.459Z"
   },
   {
    "duration": 21,
    "start_time": "2024-12-04T13:12:59.365Z"
   },
   {
    "duration": 12,
    "start_time": "2024-12-04T13:13:56.725Z"
   },
   {
    "duration": 12,
    "start_time": "2024-12-04T13:14:06.834Z"
   },
   {
    "duration": 8,
    "start_time": "2024-12-04T13:14:07.363Z"
   },
   {
    "duration": 107,
    "start_time": "2024-12-04T13:22:09.970Z"
   },
   {
    "duration": 26,
    "start_time": "2024-12-04T13:23:08.402Z"
   },
   {
    "duration": 19,
    "start_time": "2024-12-04T13:23:28.364Z"
   },
   {
    "duration": 20,
    "start_time": "2024-12-04T13:25:39.410Z"
   },
   {
    "duration": 110,
    "start_time": "2024-12-04T18:47:52.574Z"
   },
   {
    "duration": 49,
    "start_time": "2024-12-04T18:48:06.044Z"
   },
   {
    "duration": 7,
    "start_time": "2024-12-04T18:48:24.540Z"
   },
   {
    "duration": 697,
    "start_time": "2024-12-04T18:48:50.837Z"
   },
   {
    "duration": 25,
    "start_time": "2024-12-04T18:48:51.536Z"
   },
   {
    "duration": 17,
    "start_time": "2024-12-04T18:48:51.564Z"
   },
   {
    "duration": 19,
    "start_time": "2024-12-04T18:48:51.583Z"
   },
   {
    "duration": 44,
    "start_time": "2024-12-04T18:48:51.603Z"
   },
   {
    "duration": 3,
    "start_time": "2024-12-04T18:48:51.649Z"
   },
   {
    "duration": 19,
    "start_time": "2024-12-04T18:48:51.654Z"
   },
   {
    "duration": 22,
    "start_time": "2024-12-04T18:48:51.676Z"
   },
   {
    "duration": 9,
    "start_time": "2024-12-04T18:48:51.701Z"
   },
   {
    "duration": 8,
    "start_time": "2024-12-04T18:48:51.715Z"
   },
   {
    "duration": 79,
    "start_time": "2024-12-04T18:48:51.725Z"
   },
   {
    "duration": 17,
    "start_time": "2024-12-04T18:48:51.807Z"
   },
   {
    "duration": 7,
    "start_time": "2024-12-04T18:48:51.826Z"
   },
   {
    "duration": 24,
    "start_time": "2024-12-04T18:48:51.834Z"
   },
   {
    "duration": 36,
    "start_time": "2024-12-04T18:48:51.860Z"
   },
   {
    "duration": 27,
    "start_time": "2024-12-04T18:48:51.899Z"
   },
   {
    "duration": 4,
    "start_time": "2024-12-04T18:48:51.928Z"
   },
   {
    "duration": 44,
    "start_time": "2024-12-04T18:48:51.934Z"
   },
   {
    "duration": 9,
    "start_time": "2024-12-04T18:48:51.980Z"
   },
   {
    "duration": 16,
    "start_time": "2024-12-04T18:48:51.991Z"
   },
   {
    "duration": 47,
    "start_time": "2024-12-04T18:48:52.008Z"
   },
   {
    "duration": 45,
    "start_time": "2024-12-04T18:48:52.057Z"
   },
   {
    "duration": 14,
    "start_time": "2024-12-04T18:48:52.104Z"
   },
   {
    "duration": 517,
    "start_time": "2024-12-04T18:48:52.120Z"
   },
   {
    "duration": 16,
    "start_time": "2024-12-04T18:48:52.638Z"
   },
   {
    "duration": 54,
    "start_time": "2024-12-04T18:48:52.657Z"
   },
   {
    "duration": 19,
    "start_time": "2024-12-04T18:48:52.714Z"
   },
   {
    "duration": 10,
    "start_time": "2024-12-04T18:48:52.738Z"
   },
   {
    "duration": 51,
    "start_time": "2024-12-04T18:48:52.750Z"
   },
   {
    "duration": 17,
    "start_time": "2024-12-04T18:48:52.803Z"
   },
   {
    "duration": 25,
    "start_time": "2024-12-04T18:48:52.822Z"
   },
   {
    "duration": 7,
    "start_time": "2024-12-04T18:48:52.850Z"
   },
   {
    "duration": 8,
    "start_time": "2024-12-04T18:49:06.461Z"
   },
   {
    "duration": 9,
    "start_time": "2024-12-04T18:49:16.247Z"
   },
   {
    "duration": 8,
    "start_time": "2024-12-04T18:49:24.483Z"
   },
   {
    "duration": 15,
    "start_time": "2024-12-04T18:49:30.766Z"
   },
   {
    "duration": 9,
    "start_time": "2024-12-04T18:49:32.057Z"
   },
   {
    "duration": 12,
    "start_time": "2024-12-04T18:49:44.401Z"
   },
   {
    "duration": 7,
    "start_time": "2024-12-04T18:49:45.378Z"
   },
   {
    "duration": 24,
    "start_time": "2024-12-04T19:00:30.657Z"
   },
   {
    "duration": 19,
    "start_time": "2024-12-04T19:01:30.614Z"
   },
   {
    "duration": 7,
    "start_time": "2024-12-04T19:01:31.062Z"
   },
   {
    "duration": 17,
    "start_time": "2024-12-04T19:02:02.743Z"
   },
   {
    "duration": 9,
    "start_time": "2024-12-04T19:02:03.718Z"
   },
   {
    "duration": 495,
    "start_time": "2024-12-04T21:11:17.872Z"
   },
   {
    "duration": 23,
    "start_time": "2024-12-04T21:11:18.368Z"
   },
   {
    "duration": 15,
    "start_time": "2024-12-04T21:11:18.393Z"
   },
   {
    "duration": 17,
    "start_time": "2024-12-04T21:11:18.410Z"
   },
   {
    "duration": 53,
    "start_time": "2024-12-04T21:11:18.429Z"
   },
   {
    "duration": 3,
    "start_time": "2024-12-04T21:11:18.484Z"
   },
   {
    "duration": 103,
    "start_time": "2024-12-04T21:11:18.488Z"
   },
   {
    "duration": 10,
    "start_time": "2024-12-04T21:11:18.593Z"
   },
   {
    "duration": 13,
    "start_time": "2024-12-04T21:11:18.604Z"
   },
   {
    "duration": 4,
    "start_time": "2024-12-04T21:11:18.621Z"
   },
   {
    "duration": 36,
    "start_time": "2024-12-04T21:11:18.626Z"
   },
   {
    "duration": 10,
    "start_time": "2024-12-04T21:11:18.664Z"
   },
   {
    "duration": 15,
    "start_time": "2024-12-04T21:11:18.675Z"
   },
   {
    "duration": 18,
    "start_time": "2024-12-04T21:11:18.691Z"
   },
   {
    "duration": 19,
    "start_time": "2024-12-04T21:11:18.711Z"
   },
   {
    "duration": 17,
    "start_time": "2024-12-04T21:11:18.731Z"
   },
   {
    "duration": 133,
    "start_time": "2024-12-04T21:11:18.749Z"
   },
   {
    "duration": 18,
    "start_time": "2024-12-04T21:11:18.883Z"
   },
   {
    "duration": 6,
    "start_time": "2024-12-04T21:11:18.902Z"
   },
   {
    "duration": 4,
    "start_time": "2024-12-04T21:11:18.909Z"
   },
   {
    "duration": 17,
    "start_time": "2024-12-04T21:11:18.915Z"
   },
   {
    "duration": 30,
    "start_time": "2024-12-04T21:11:18.933Z"
   },
   {
    "duration": 11,
    "start_time": "2024-12-04T21:11:18.965Z"
   },
   {
    "duration": 495,
    "start_time": "2024-12-04T21:11:18.977Z"
   },
   {
    "duration": 16,
    "start_time": "2024-12-04T21:11:19.474Z"
   },
   {
    "duration": 29,
    "start_time": "2024-12-04T21:11:19.492Z"
   },
   {
    "duration": 13,
    "start_time": "2024-12-04T21:11:19.522Z"
   },
   {
    "duration": 15,
    "start_time": "2024-12-04T21:11:19.538Z"
   },
   {
    "duration": 35,
    "start_time": "2024-12-04T21:11:19.554Z"
   },
   {
    "duration": 10,
    "start_time": "2024-12-04T21:11:19.590Z"
   },
   {
    "duration": 82,
    "start_time": "2024-12-04T21:11:19.601Z"
   },
   {
    "duration": 32,
    "start_time": "2024-12-04T21:11:19.685Z"
   },
   {
    "duration": 10,
    "start_time": "2024-12-04T21:11:19.718Z"
   },
   {
    "duration": 7,
    "start_time": "2024-12-04T21:11:19.730Z"
   },
   {
    "duration": 10,
    "start_time": "2024-12-05T14:57:30.708Z"
   },
   {
    "duration": 740,
    "start_time": "2024-12-05T14:57:42.301Z"
   },
   {
    "duration": 22,
    "start_time": "2024-12-05T14:57:43.043Z"
   },
   {
    "duration": 15,
    "start_time": "2024-12-05T14:57:43.066Z"
   },
   {
    "duration": 15,
    "start_time": "2024-12-05T14:57:43.083Z"
   },
   {
    "duration": 36,
    "start_time": "2024-12-05T14:57:43.099Z"
   },
   {
    "duration": 4,
    "start_time": "2024-12-05T14:57:43.136Z"
   },
   {
    "duration": 10,
    "start_time": "2024-12-05T14:57:43.141Z"
   },
   {
    "duration": 4,
    "start_time": "2024-12-05T14:57:43.153Z"
   },
   {
    "duration": 16,
    "start_time": "2024-12-05T14:57:43.158Z"
   },
   {
    "duration": 3,
    "start_time": "2024-12-05T14:57:43.177Z"
   },
   {
    "duration": 64,
    "start_time": "2024-12-05T14:57:43.182Z"
   },
   {
    "duration": 9,
    "start_time": "2024-12-05T14:57:43.248Z"
   },
   {
    "duration": 27,
    "start_time": "2024-12-05T14:57:43.258Z"
   },
   {
    "duration": 18,
    "start_time": "2024-12-05T14:57:43.287Z"
   },
   {
    "duration": 18,
    "start_time": "2024-12-05T14:57:43.307Z"
   },
   {
    "duration": 15,
    "start_time": "2024-12-05T14:57:43.326Z"
   },
   {
    "duration": 3,
    "start_time": "2024-12-05T14:57:43.343Z"
   },
   {
    "duration": 12,
    "start_time": "2024-12-05T14:57:43.348Z"
   },
   {
    "duration": 6,
    "start_time": "2024-12-05T14:57:43.362Z"
   },
   {
    "duration": 5,
    "start_time": "2024-12-05T14:57:43.369Z"
   },
   {
    "duration": 9,
    "start_time": "2024-12-05T14:57:43.375Z"
   },
   {
    "duration": 5,
    "start_time": "2024-12-05T14:57:43.385Z"
   },
   {
    "duration": 12,
    "start_time": "2024-12-05T14:57:43.426Z"
   },
   {
    "duration": 23,
    "start_time": "2024-12-05T14:57:43.440Z"
   },
   {
    "duration": 9,
    "start_time": "2024-12-05T14:57:43.465Z"
   },
   {
    "duration": 482,
    "start_time": "2024-12-05T14:57:43.475Z"
   },
   {
    "duration": 16,
    "start_time": "2024-12-05T14:57:43.959Z"
   },
   {
    "duration": 22,
    "start_time": "2024-12-05T14:57:43.978Z"
   },
   {
    "duration": 10,
    "start_time": "2024-12-05T14:57:44.002Z"
   },
   {
    "duration": 7,
    "start_time": "2024-12-05T14:57:44.027Z"
   },
   {
    "duration": 19,
    "start_time": "2024-12-05T14:57:44.035Z"
   },
   {
    "duration": 11,
    "start_time": "2024-12-05T14:57:44.055Z"
   },
   {
    "duration": 6,
    "start_time": "2024-12-05T14:57:44.068Z"
   },
   {
    "duration": 53,
    "start_time": "2024-12-05T14:57:44.075Z"
   },
   {
    "duration": 11,
    "start_time": "2024-12-05T14:57:44.129Z"
   },
   {
    "duration": 6,
    "start_time": "2024-12-05T14:57:44.141Z"
   },
   {
    "duration": 105,
    "start_time": "2024-12-05T14:57:58.560Z"
   },
   {
    "duration": 41,
    "start_time": "2024-12-05T14:58:03.487Z"
   },
   {
    "duration": 4,
    "start_time": "2024-12-05T14:58:26.491Z"
   },
   {
    "duration": 39,
    "start_time": "2024-12-05T14:58:28.681Z"
   },
   {
    "duration": 17,
    "start_time": "2024-12-05T15:00:18.502Z"
   },
   {
    "duration": 640,
    "start_time": "2024-12-05T18:50:30.296Z"
   },
   {
    "duration": 25,
    "start_time": "2024-12-05T18:50:30.938Z"
   },
   {
    "duration": 43,
    "start_time": "2024-12-05T18:50:30.965Z"
   },
   {
    "duration": 44,
    "start_time": "2024-12-05T18:50:31.011Z"
   },
   {
    "duration": 56,
    "start_time": "2024-12-05T18:50:31.057Z"
   },
   {
    "duration": 4,
    "start_time": "2024-12-05T18:50:31.115Z"
   },
   {
    "duration": 24,
    "start_time": "2024-12-05T18:50:31.122Z"
   },
   {
    "duration": 12,
    "start_time": "2024-12-05T18:50:31.148Z"
   },
   {
    "duration": 26,
    "start_time": "2024-12-05T18:50:31.162Z"
   },
   {
    "duration": 36,
    "start_time": "2024-12-05T18:50:31.193Z"
   },
   {
    "duration": 66,
    "start_time": "2024-12-05T18:50:31.231Z"
   },
   {
    "duration": 12,
    "start_time": "2024-12-05T18:50:31.299Z"
   },
   {
    "duration": 27,
    "start_time": "2024-12-05T18:50:31.313Z"
   },
   {
    "duration": 30,
    "start_time": "2024-12-05T18:50:31.342Z"
   },
   {
    "duration": 51,
    "start_time": "2024-12-05T18:50:31.374Z"
   },
   {
    "duration": 42,
    "start_time": "2024-12-05T18:50:31.426Z"
   },
   {
    "duration": 6,
    "start_time": "2024-12-05T18:50:31.470Z"
   },
   {
    "duration": 46,
    "start_time": "2024-12-05T18:50:31.477Z"
   },
   {
    "duration": 12,
    "start_time": "2024-12-05T18:50:31.525Z"
   },
   {
    "duration": 23,
    "start_time": "2024-12-05T18:50:31.539Z"
   },
   {
    "duration": 20,
    "start_time": "2024-12-05T18:50:31.564Z"
   },
   {
    "duration": 85,
    "start_time": "2024-12-05T18:50:31.586Z"
   },
   {
    "duration": 0,
    "start_time": "2024-12-05T18:50:31.673Z"
   },
   {
    "duration": 0,
    "start_time": "2024-12-05T18:50:31.675Z"
   },
   {
    "duration": 0,
    "start_time": "2024-12-05T18:50:31.677Z"
   },
   {
    "duration": 0,
    "start_time": "2024-12-05T18:50:31.678Z"
   },
   {
    "duration": 0,
    "start_time": "2024-12-05T18:50:31.680Z"
   },
   {
    "duration": 0,
    "start_time": "2024-12-05T18:50:31.682Z"
   },
   {
    "duration": 0,
    "start_time": "2024-12-05T18:50:31.683Z"
   },
   {
    "duration": 0,
    "start_time": "2024-12-05T18:50:31.685Z"
   },
   {
    "duration": 0,
    "start_time": "2024-12-05T18:50:31.686Z"
   },
   {
    "duration": 1,
    "start_time": "2024-12-05T18:50:31.687Z"
   },
   {
    "duration": 0,
    "start_time": "2024-12-05T18:50:31.689Z"
   },
   {
    "duration": 1,
    "start_time": "2024-12-05T18:50:31.690Z"
   },
   {
    "duration": 0,
    "start_time": "2024-12-05T18:50:31.692Z"
   },
   {
    "duration": 0,
    "start_time": "2024-12-05T18:50:31.694Z"
   },
   {
    "duration": 13,
    "start_time": "2024-12-05T18:50:41.566Z"
   },
   {
    "duration": 20,
    "start_time": "2024-12-05T18:50:42.375Z"
   },
   {
    "duration": 13,
    "start_time": "2024-12-05T18:54:26.022Z"
   },
   {
    "duration": 48,
    "start_time": "2024-12-05T18:55:29.289Z"
   },
   {
    "duration": 4,
    "start_time": "2024-12-05T18:58:54.082Z"
   },
   {
    "duration": 39,
    "start_time": "2024-12-05T18:59:37.912Z"
   },
   {
    "duration": 5,
    "start_time": "2024-12-05T19:00:01.627Z"
   },
   {
    "duration": 28,
    "start_time": "2024-12-05T19:00:02.557Z"
   },
   {
    "duration": 4,
    "start_time": "2024-12-05T19:00:48.361Z"
   },
   {
    "duration": 28,
    "start_time": "2024-12-05T19:00:56.380Z"
   },
   {
    "duration": 29,
    "start_time": "2024-12-05T19:02:29.353Z"
   },
   {
    "duration": 10,
    "start_time": "2024-12-05T19:02:34.213Z"
   },
   {
    "duration": 508,
    "start_time": "2024-12-05T19:02:34.650Z"
   },
   {
    "duration": 36,
    "start_time": "2024-12-05T19:04:03.800Z"
   },
   {
    "duration": 37,
    "start_time": "2024-12-05T19:04:38.284Z"
   },
   {
    "duration": 12,
    "start_time": "2024-12-05T19:05:02.898Z"
   },
   {
    "duration": 9,
    "start_time": "2024-12-05T19:05:03.215Z"
   },
   {
    "duration": 51,
    "start_time": "2024-12-05T19:05:48.620Z"
   },
   {
    "duration": 37,
    "start_time": "2024-12-05T19:06:36.951Z"
   },
   {
    "duration": 40,
    "start_time": "2024-12-05T19:09:40.846Z"
   },
   {
    "duration": 760,
    "start_time": "2024-12-06T08:10:43.324Z"
   },
   {
    "duration": 36,
    "start_time": "2024-12-06T08:10:44.086Z"
   },
   {
    "duration": 27,
    "start_time": "2024-12-06T08:10:44.124Z"
   },
   {
    "duration": 11,
    "start_time": "2024-12-06T08:10:44.155Z"
   },
   {
    "duration": 73,
    "start_time": "2024-12-06T08:10:44.169Z"
   },
   {
    "duration": 4,
    "start_time": "2024-12-06T08:10:44.247Z"
   },
   {
    "duration": 19,
    "start_time": "2024-12-06T08:10:44.253Z"
   },
   {
    "duration": 11,
    "start_time": "2024-12-06T08:10:44.274Z"
   },
   {
    "duration": 24,
    "start_time": "2024-12-06T08:10:44.287Z"
   },
   {
    "duration": 5,
    "start_time": "2024-12-06T08:10:44.315Z"
   },
   {
    "duration": 36,
    "start_time": "2024-12-06T08:10:44.322Z"
   },
   {
    "duration": 12,
    "start_time": "2024-12-06T08:10:44.360Z"
   },
   {
    "duration": 18,
    "start_time": "2024-12-06T08:10:44.374Z"
   },
   {
    "duration": 19,
    "start_time": "2024-12-06T08:10:44.398Z"
   },
   {
    "duration": 31,
    "start_time": "2024-12-06T08:10:44.420Z"
   },
   {
    "duration": 48,
    "start_time": "2024-12-06T08:10:44.453Z"
   },
   {
    "duration": 4,
    "start_time": "2024-12-06T08:10:44.509Z"
   },
   {
    "duration": 24,
    "start_time": "2024-12-06T08:10:44.515Z"
   },
   {
    "duration": 32,
    "start_time": "2024-12-06T08:10:44.541Z"
   },
   {
    "duration": 8,
    "start_time": "2024-12-06T08:10:44.575Z"
   },
   {
    "duration": 31,
    "start_time": "2024-12-06T08:10:44.585Z"
   },
   {
    "duration": 6,
    "start_time": "2024-12-06T08:10:44.618Z"
   },
   {
    "duration": 34,
    "start_time": "2024-12-06T08:10:44.627Z"
   },
   {
    "duration": 31,
    "start_time": "2024-12-06T08:10:44.663Z"
   },
   {
    "duration": 60,
    "start_time": "2024-12-06T08:10:44.696Z"
   },
   {
    "duration": 58,
    "start_time": "2024-12-06T08:10:44.758Z"
   },
   {
    "duration": 43,
    "start_time": "2024-12-06T08:10:44.817Z"
   },
   {
    "duration": 40,
    "start_time": "2024-12-06T08:10:44.863Z"
   },
   {
    "duration": 25,
    "start_time": "2024-12-06T08:10:44.907Z"
   },
   {
    "duration": 5,
    "start_time": "2024-12-06T10:29:39.344Z"
   },
   {
    "duration": 1506,
    "start_time": "2024-12-06T10:29:40.457Z"
   },
   {
    "duration": 6,
    "start_time": "2024-12-06T10:29:46.707Z"
   },
   {
    "duration": 46,
    "start_time": "2024-12-06T10:29:47.279Z"
   },
   {
    "duration": 41,
    "start_time": "2024-12-06T10:51:19.219Z"
   },
   {
    "duration": 4,
    "start_time": "2024-12-06T13:22:54.880Z"
   },
   {
    "duration": 31,
    "start_time": "2024-12-06T13:22:56.061Z"
   },
   {
    "duration": 30,
    "start_time": "2024-12-06T13:29:10.760Z"
   },
   {
    "duration": 91,
    "start_time": "2024-12-06T13:32:45.912Z"
   },
   {
    "duration": 79,
    "start_time": "2024-12-06T13:32:51.388Z"
   },
   {
    "duration": 31,
    "start_time": "2024-12-06T13:40:12.211Z"
   },
   {
    "duration": 56,
    "start_time": "2024-12-06T13:40:18.224Z"
   },
   {
    "duration": 48,
    "start_time": "2024-12-06T13:41:26.370Z"
   },
   {
    "duration": 33,
    "start_time": "2024-12-06T13:41:35.505Z"
   },
   {
    "duration": 41,
    "start_time": "2024-12-06T13:45:16.674Z"
   },
   {
    "duration": 35,
    "start_time": "2024-12-06T13:50:36.887Z"
   },
   {
    "duration": 537,
    "start_time": "2024-12-06T15:40:40.342Z"
   },
   {
    "duration": 22,
    "start_time": "2024-12-06T15:40:40.880Z"
   },
   {
    "duration": 15,
    "start_time": "2024-12-06T15:40:40.904Z"
   },
   {
    "duration": 12,
    "start_time": "2024-12-06T15:40:40.921Z"
   },
   {
    "duration": 35,
    "start_time": "2024-12-06T15:40:40.934Z"
   },
   {
    "duration": 3,
    "start_time": "2024-12-06T15:40:40.971Z"
   },
   {
    "duration": 8,
    "start_time": "2024-12-06T15:40:40.976Z"
   },
   {
    "duration": 5,
    "start_time": "2024-12-06T15:40:40.985Z"
   },
   {
    "duration": 22,
    "start_time": "2024-12-06T15:40:40.991Z"
   },
   {
    "duration": 17,
    "start_time": "2024-12-06T15:40:41.017Z"
   },
   {
    "duration": 36,
    "start_time": "2024-12-06T15:40:41.036Z"
   },
   {
    "duration": 11,
    "start_time": "2024-12-06T15:40:41.073Z"
   },
   {
    "duration": 3,
    "start_time": "2024-12-06T15:40:41.085Z"
   },
   {
    "duration": 15,
    "start_time": "2024-12-06T15:40:41.090Z"
   },
   {
    "duration": 43,
    "start_time": "2024-12-06T15:40:41.106Z"
   },
   {
    "duration": 15,
    "start_time": "2024-12-06T15:40:41.150Z"
   },
   {
    "duration": 3,
    "start_time": "2024-12-06T15:40:41.167Z"
   },
   {
    "duration": 13,
    "start_time": "2024-12-06T15:40:41.171Z"
   },
   {
    "duration": 5,
    "start_time": "2024-12-06T15:40:41.185Z"
   },
   {
    "duration": 6,
    "start_time": "2024-12-06T15:40:41.191Z"
   },
   {
    "duration": 38,
    "start_time": "2024-12-06T15:40:41.198Z"
   },
   {
    "duration": 4,
    "start_time": "2024-12-06T15:40:41.238Z"
   },
   {
    "duration": 36,
    "start_time": "2024-12-06T15:40:41.243Z"
   },
   {
    "duration": 13,
    "start_time": "2024-12-06T15:40:41.280Z"
   },
   {
    "duration": 54,
    "start_time": "2024-12-06T15:40:41.294Z"
   },
   {
    "duration": 31,
    "start_time": "2024-12-06T15:40:41.349Z"
   },
   {
    "duration": 51,
    "start_time": "2024-12-06T15:40:41.381Z"
   }
  ],
  "colab": {
   "name": "dpp_template_part2.ipynb",
   "provenance": []
  },
  "kernelspec": {
   "display_name": "Python 3 (ipykernel)",
   "language": "python",
   "name": "python3"
  },
  "language_info": {
   "codemirror_mode": {
    "name": "ipython",
    "version": 3
   },
   "file_extension": ".py",
   "mimetype": "text/x-python",
   "name": "python",
   "nbconvert_exporter": "python",
   "pygments_lexer": "ipython3",
   "version": "3.9.20"
  },
  "toc": {
   "base_numbering": 1,
   "nav_menu": {},
   "number_sections": true,
   "sideBar": true,
   "skip_h1_title": true,
   "title_cell": "Table of Contents",
   "title_sidebar": "Contents",
   "toc_cell": false,
   "toc_position": {
    "height": "calc(100% - 180px)",
    "left": "10px",
    "top": "150px",
    "width": "387px"
   },
   "toc_section_display": true,
   "toc_window_display": true
  },
  "varInspector": {
   "cols": {
    "lenName": 16,
    "lenType": 16,
    "lenVar": 40
   },
   "kernels_config": {
    "python": {
     "delete_cmd_postfix": "",
     "delete_cmd_prefix": "del ",
     "library": "var_list.py",
     "varRefreshCmd": "print(var_dic_list())"
    },
    "r": {
     "delete_cmd_postfix": ") ",
     "delete_cmd_prefix": "rm(",
     "library": "var_list.r",
     "varRefreshCmd": "cat(var_dic_list()) "
    }
   },
   "types_to_exclude": [
    "module",
    "function",
    "builtin_function_or_method",
    "instance",
    "_Feature"
   ],
   "window_display": false
  }
 },
 "nbformat": 4,
 "nbformat_minor": 5
}
