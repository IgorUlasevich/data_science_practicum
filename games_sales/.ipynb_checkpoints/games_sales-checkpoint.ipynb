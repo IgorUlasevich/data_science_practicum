{
 "cells": [
  {
   "cell_type": "markdown",
   "metadata": {},
   "source": [
    "# Исследование продаж компьютерных игр\n",
    "\n",
    "**Цель исследования**\n",
    "1. Определить факторы, влияющие на успешность продаж компьютерных игр.\n",
    "2. Анализировать влияние жанров, платформ и рейтингов ESRB на продажи игр.\n",
    "3. Проверить гипотезы, способствующие росту бизнеса и улучшению стратегии маркетинга.\n",
    "\n",
    "**Ход исследования**\n",
    "\n",
    "Для достижения поставленных целей исследование будет проходить в несколько этапов. Сначала проведём обзор данных, выявим и исправим возможные ошибки. Затем перейдём к предобработке данных, включая создание новых столбцов и агрегирование информации. После этого проведём исследовательский анализ, включая визуализации и проверку гипотез. В завершение сформулируем общие выводы и рекомендации для бизнеса.\n",
    "\n",
    "**Этапы работы:**\n",
    "* Обзор данных: Ознакомление с содержимым файлов, проверка на пропущенные значения и дубликаты.\n",
    "* Предобработка данных: Преобразование типов данных, создание новых признаков (например, средние оценки игр), обработка пропусков.\n",
    "* Расчёты: Агрегирование данных по играм и месяцам, расчёт выручки.\n",
    "* Анализ по жанрам и платформам: Выявление различий в продажах в зависимости от жанра игры и платформы.\n",
    "* Анализ по регионам: Исследование географических особенностей продаж.\n",
    "* Проверка гипотез: Тестирование статистических гипотез для подтверждения или опровержения предположений о факторах успешности игр.\n",
    "* Выводы и рекомендации: Формулирование ключевых инсайтов и предложений для бизнеса на основе полученных результатов.\n",
    "\n",
    "**Описание данных**\n",
    "\n",
    "* `Name` — название игры\n",
    "* `Platform` — платформа\n",
    "* `Year_of_Release` — год выпуска\n",
    "* `Genre` — жанр игры\n",
    "* `NA_sales` — продажи в Северной Америке (миллионы проданных копий)\n",
    "* `EU_sales` — продажи в Европе (миллионы проданных копий)\n",
    "* `JP_sales` — продажи в Японии (миллионы проданных копий)\n",
    "* `Other_sales` — продажи в других странах (миллионы проданных копий)\n",
    "* `Critic_Score` — оценка критиков (максимум 100)\n",
    "* `User_Score` — оценка пользователей (максимум 10)\n",
    "* `Rating` — рейтинг от организации ESRB (англ. Entertainment Software Rating Board). Эта ассоциация определяет рейтинг компьютерных игр и присваивает им подходящую возрастную категорию."
   ]
  },
  {
   "cell_type": "markdown",
   "metadata": {},
   "source": [
    "### Загрузка и ознакомление с данными"
   ]
  },
  {
   "cell_type": "code",
   "execution_count": 2,
   "metadata": {},
   "outputs": [],
   "source": [
    "# импортируем библиотеки\n",
    "import numpy as np\n",
    "import pandas as pd\n",
    "import matplotlib.pyplot as plt\n",
    "from scipy import stats as st\n",
    "import seaborn as sns"
   ]
  },
  {
   "cell_type": "code",
   "execution_count": 5,
   "metadata": {},
   "outputs": [],
   "source": [
    "# считываем данные из файлов\n",
    "games = pd.read_csv('../datasets/games.csv')"
   ]
  },
  {
   "cell_type": "code",
   "execution_count": 6,
   "metadata": {
    "scrolled": false
   },
   "outputs": [
    {
     "data": {
      "text/html": [
       "<div>\n",
       "<style scoped>\n",
       "    .dataframe tbody tr th:only-of-type {\n",
       "        vertical-align: middle;\n",
       "    }\n",
       "\n",
       "    .dataframe tbody tr th {\n",
       "        vertical-align: top;\n",
       "    }\n",
       "\n",
       "    .dataframe thead th {\n",
       "        text-align: right;\n",
       "    }\n",
       "</style>\n",
       "<table border=\"1\" class=\"dataframe\">\n",
       "  <thead>\n",
       "    <tr style=\"text-align: right;\">\n",
       "      <th></th>\n",
       "      <th>Name</th>\n",
       "      <th>Platform</th>\n",
       "      <th>Year_of_Release</th>\n",
       "      <th>Genre</th>\n",
       "      <th>NA_sales</th>\n",
       "      <th>EU_sales</th>\n",
       "      <th>JP_sales</th>\n",
       "      <th>Other_sales</th>\n",
       "      <th>Critic_Score</th>\n",
       "      <th>User_Score</th>\n",
       "      <th>Rating</th>\n",
       "    </tr>\n",
       "  </thead>\n",
       "  <tbody>\n",
       "    <tr>\n",
       "      <th>0</th>\n",
       "      <td>Wii Sports</td>\n",
       "      <td>Wii</td>\n",
       "      <td>2006.0</td>\n",
       "      <td>Sports</td>\n",
       "      <td>41.36</td>\n",
       "      <td>28.96</td>\n",
       "      <td>3.77</td>\n",
       "      <td>8.45</td>\n",
       "      <td>76.0</td>\n",
       "      <td>8</td>\n",
       "      <td>E</td>\n",
       "    </tr>\n",
       "    <tr>\n",
       "      <th>1</th>\n",
       "      <td>Super Mario Bros.</td>\n",
       "      <td>NES</td>\n",
       "      <td>1985.0</td>\n",
       "      <td>Platform</td>\n",
       "      <td>29.08</td>\n",
       "      <td>3.58</td>\n",
       "      <td>6.81</td>\n",
       "      <td>0.77</td>\n",
       "      <td>NaN</td>\n",
       "      <td>NaN</td>\n",
       "      <td>NaN</td>\n",
       "    </tr>\n",
       "    <tr>\n",
       "      <th>2</th>\n",
       "      <td>Mario Kart Wii</td>\n",
       "      <td>Wii</td>\n",
       "      <td>2008.0</td>\n",
       "      <td>Racing</td>\n",
       "      <td>15.68</td>\n",
       "      <td>12.76</td>\n",
       "      <td>3.79</td>\n",
       "      <td>3.29</td>\n",
       "      <td>82.0</td>\n",
       "      <td>8.3</td>\n",
       "      <td>E</td>\n",
       "    </tr>\n",
       "    <tr>\n",
       "      <th>3</th>\n",
       "      <td>Wii Sports Resort</td>\n",
       "      <td>Wii</td>\n",
       "      <td>2009.0</td>\n",
       "      <td>Sports</td>\n",
       "      <td>15.61</td>\n",
       "      <td>10.93</td>\n",
       "      <td>3.28</td>\n",
       "      <td>2.95</td>\n",
       "      <td>80.0</td>\n",
       "      <td>8</td>\n",
       "      <td>E</td>\n",
       "    </tr>\n",
       "    <tr>\n",
       "      <th>4</th>\n",
       "      <td>Pokemon Red/Pokemon Blue</td>\n",
       "      <td>GB</td>\n",
       "      <td>1996.0</td>\n",
       "      <td>Role-Playing</td>\n",
       "      <td>11.27</td>\n",
       "      <td>8.89</td>\n",
       "      <td>10.22</td>\n",
       "      <td>1.00</td>\n",
       "      <td>NaN</td>\n",
       "      <td>NaN</td>\n",
       "      <td>NaN</td>\n",
       "    </tr>\n",
       "  </tbody>\n",
       "</table>\n",
       "</div>"
      ],
      "text/plain": [
       "                       Name Platform  Year_of_Release         Genre  NA_sales  \\\n",
       "0                Wii Sports      Wii           2006.0        Sports     41.36   \n",
       "1         Super Mario Bros.      NES           1985.0      Platform     29.08   \n",
       "2            Mario Kart Wii      Wii           2008.0        Racing     15.68   \n",
       "3         Wii Sports Resort      Wii           2009.0        Sports     15.61   \n",
       "4  Pokemon Red/Pokemon Blue       GB           1996.0  Role-Playing     11.27   \n",
       "\n",
       "   EU_sales  JP_sales  Other_sales  Critic_Score User_Score Rating  \n",
       "0     28.96      3.77         8.45          76.0          8      E  \n",
       "1      3.58      6.81         0.77           NaN        NaN    NaN  \n",
       "2     12.76      3.79         3.29          82.0        8.3      E  \n",
       "3     10.93      3.28         2.95          80.0          8      E  \n",
       "4      8.89     10.22         1.00           NaN        NaN    NaN  "
      ]
     },
     "execution_count": 6,
     "metadata": {},
     "output_type": "execute_result"
    }
   ],
   "source": [
    "games.head()"
   ]
  },
  {
   "cell_type": "code",
   "execution_count": 7,
   "metadata": {
    "scrolled": true
   },
   "outputs": [
    {
     "name": "stdout",
     "output_type": "stream",
     "text": [
      "<class 'pandas.core.frame.DataFrame'>\n",
      "RangeIndex: 16715 entries, 0 to 16714\n",
      "Data columns (total 11 columns):\n",
      " #   Column           Non-Null Count  Dtype  \n",
      "---  ------           --------------  -----  \n",
      " 0   Name             16713 non-null  object \n",
      " 1   Platform         16715 non-null  object \n",
      " 2   Year_of_Release  16446 non-null  float64\n",
      " 3   Genre            16713 non-null  object \n",
      " 4   NA_sales         16715 non-null  float64\n",
      " 5   EU_sales         16715 non-null  float64\n",
      " 6   JP_sales         16715 non-null  float64\n",
      " 7   Other_sales      16715 non-null  float64\n",
      " 8   Critic_Score     8137 non-null   float64\n",
      " 9   User_Score       10014 non-null  object \n",
      " 10  Rating           9949 non-null   object \n",
      "dtypes: float64(6), object(5)\n",
      "memory usage: 1.4+ MB\n"
     ]
    }
   ],
   "source": [
    "games.info()"
   ]
  },
  {
   "cell_type": "markdown",
   "metadata": {},
   "source": [
    "Данные требуют предварительной обработки, в некоторых колонках наблюдаются пропуски в колонках. Также можно преобразовать тип данных даты `Year_of_Release` **float64** в целочисленный **int64**, а `User_Score` из **object** в **float64**."
   ]
  },
  {
   "cell_type": "markdown",
   "metadata": {},
   "source": [
    "### Подготовка данных"
   ]
  },
  {
   "cell_type": "code",
   "execution_count": 8,
   "metadata": {},
   "outputs": [
    {
     "data": {
      "text/html": [
       "<div>\n",
       "<style scoped>\n",
       "    .dataframe tbody tr th:only-of-type {\n",
       "        vertical-align: middle;\n",
       "    }\n",
       "\n",
       "    .dataframe tbody tr th {\n",
       "        vertical-align: top;\n",
       "    }\n",
       "\n",
       "    .dataframe thead th {\n",
       "        text-align: right;\n",
       "    }\n",
       "</style>\n",
       "<table border=\"1\" class=\"dataframe\">\n",
       "  <thead>\n",
       "    <tr style=\"text-align: right;\">\n",
       "      <th></th>\n",
       "      <th>name</th>\n",
       "      <th>platform</th>\n",
       "      <th>year_of_release</th>\n",
       "      <th>genre</th>\n",
       "      <th>na_sales</th>\n",
       "      <th>eu_sales</th>\n",
       "      <th>jp_sales</th>\n",
       "      <th>other_sales</th>\n",
       "      <th>critic_score</th>\n",
       "      <th>user_score</th>\n",
       "      <th>rating</th>\n",
       "    </tr>\n",
       "  </thead>\n",
       "  <tbody>\n",
       "    <tr>\n",
       "      <th>0</th>\n",
       "      <td>Wii Sports</td>\n",
       "      <td>Wii</td>\n",
       "      <td>2006.0</td>\n",
       "      <td>Sports</td>\n",
       "      <td>41.36</td>\n",
       "      <td>28.96</td>\n",
       "      <td>3.77</td>\n",
       "      <td>8.45</td>\n",
       "      <td>76.0</td>\n",
       "      <td>8</td>\n",
       "      <td>E</td>\n",
       "    </tr>\n",
       "    <tr>\n",
       "      <th>1</th>\n",
       "      <td>Super Mario Bros.</td>\n",
       "      <td>NES</td>\n",
       "      <td>1985.0</td>\n",
       "      <td>Platform</td>\n",
       "      <td>29.08</td>\n",
       "      <td>3.58</td>\n",
       "      <td>6.81</td>\n",
       "      <td>0.77</td>\n",
       "      <td>NaN</td>\n",
       "      <td>NaN</td>\n",
       "      <td>NaN</td>\n",
       "    </tr>\n",
       "    <tr>\n",
       "      <th>2</th>\n",
       "      <td>Mario Kart Wii</td>\n",
       "      <td>Wii</td>\n",
       "      <td>2008.0</td>\n",
       "      <td>Racing</td>\n",
       "      <td>15.68</td>\n",
       "      <td>12.76</td>\n",
       "      <td>3.79</td>\n",
       "      <td>3.29</td>\n",
       "      <td>82.0</td>\n",
       "      <td>8.3</td>\n",
       "      <td>E</td>\n",
       "    </tr>\n",
       "    <tr>\n",
       "      <th>3</th>\n",
       "      <td>Wii Sports Resort</td>\n",
       "      <td>Wii</td>\n",
       "      <td>2009.0</td>\n",
       "      <td>Sports</td>\n",
       "      <td>15.61</td>\n",
       "      <td>10.93</td>\n",
       "      <td>3.28</td>\n",
       "      <td>2.95</td>\n",
       "      <td>80.0</td>\n",
       "      <td>8</td>\n",
       "      <td>E</td>\n",
       "    </tr>\n",
       "    <tr>\n",
       "      <th>4</th>\n",
       "      <td>Pokemon Red/Pokemon Blue</td>\n",
       "      <td>GB</td>\n",
       "      <td>1996.0</td>\n",
       "      <td>Role-Playing</td>\n",
       "      <td>11.27</td>\n",
       "      <td>8.89</td>\n",
       "      <td>10.22</td>\n",
       "      <td>1.00</td>\n",
       "      <td>NaN</td>\n",
       "      <td>NaN</td>\n",
       "      <td>NaN</td>\n",
       "    </tr>\n",
       "  </tbody>\n",
       "</table>\n",
       "</div>"
      ],
      "text/plain": [
       "                       name platform  year_of_release         genre  na_sales  \\\n",
       "0                Wii Sports      Wii           2006.0        Sports     41.36   \n",
       "1         Super Mario Bros.      NES           1985.0      Platform     29.08   \n",
       "2            Mario Kart Wii      Wii           2008.0        Racing     15.68   \n",
       "3         Wii Sports Resort      Wii           2009.0        Sports     15.61   \n",
       "4  Pokemon Red/Pokemon Blue       GB           1996.0  Role-Playing     11.27   \n",
       "\n",
       "   eu_sales  jp_sales  other_sales  critic_score user_score rating  \n",
       "0     28.96      3.77         8.45          76.0          8      E  \n",
       "1      3.58      6.81         0.77           NaN        NaN    NaN  \n",
       "2     12.76      3.79         3.29          82.0        8.3      E  \n",
       "3     10.93      3.28         2.95          80.0          8      E  \n",
       "4      8.89     10.22         1.00           NaN        NaN    NaN  "
      ]
     },
     "execution_count": 8,
     "metadata": {},
     "output_type": "execute_result"
    }
   ],
   "source": [
    "# приведём название столбцов к нижнему регистру\n",
    "games.columns = games.columns.str.lower()\n",
    "games.head()"
   ]
  },
  {
   "cell_type": "code",
   "execution_count": 9,
   "metadata": {
    "scrolled": true
   },
   "outputs": [],
   "source": [
    "# Преобразуем год релиза в целочисленный тип\n",
    "games['year_of_release'] = pd.to_numeric(games['year_of_release'], errors='coerce').astype('Int64')"
   ]
  },
  {
   "cell_type": "code",
   "execution_count": 10,
   "metadata": {},
   "outputs": [
    {
     "data": {
      "text/plain": [
       "name                  2\n",
       "platform              0\n",
       "year_of_release     269\n",
       "genre                 2\n",
       "na_sales              0\n",
       "eu_sales              0\n",
       "jp_sales              0\n",
       "other_sales           0\n",
       "critic_score       8578\n",
       "user_score         6701\n",
       "rating             6766\n",
       "dtype: int64"
      ]
     },
     "execution_count": 10,
     "metadata": {},
     "output_type": "execute_result"
    }
   ],
   "source": [
    "games.isnull().sum()"
   ]
  },
  {
   "cell_type": "markdown",
   "metadata": {},
   "source": [
    "**Причины пропусков:**\n",
    "\n",
    "* Отсутствие данных на момент сбора (например, игра старая и у неё нет данных о рейтингах или дате выхода).\n",
    "* Особенности системы учёта (для некоторых игр не присвоен ESRB-рейтинг).\n",
    "\n",
    "**Что делать с пропусками:**\n",
    "\n",
    "* В оценках (critic_score, user_score) пропуски могут означать, что отзывов не было. Заменять их средним нецелесообразно, лучше оставить NaN.\n",
    "* В рейтинге ESRB пропуски можно пометить как NaN.\n",
    "* В данных всего 2 игры не имеют названия - удалим их."
   ]
  },
  {
   "cell_type": "code",
   "execution_count": 11,
   "metadata": {},
   "outputs": [],
   "source": [
    "# удалим игры и жанры с пропусками\n",
    "games = games.dropna(subset=['name', 'genre'])"
   ]
  },
  {
   "cell_type": "code",
   "execution_count": 12,
   "metadata": {
    "scrolled": true
   },
   "outputs": [
    {
     "data": {
      "text/html": [
       "<div>\n",
       "<style scoped>\n",
       "    .dataframe tbody tr th:only-of-type {\n",
       "        vertical-align: middle;\n",
       "    }\n",
       "\n",
       "    .dataframe tbody tr th {\n",
       "        vertical-align: top;\n",
       "    }\n",
       "\n",
       "    .dataframe thead th {\n",
       "        text-align: right;\n",
       "    }\n",
       "</style>\n",
       "<table border=\"1\" class=\"dataframe\">\n",
       "  <thead>\n",
       "    <tr style=\"text-align: right;\">\n",
       "      <th></th>\n",
       "      <th>name</th>\n",
       "      <th>platform</th>\n",
       "      <th>year_of_release</th>\n",
       "      <th>genre</th>\n",
       "      <th>na_sales</th>\n",
       "      <th>eu_sales</th>\n",
       "      <th>jp_sales</th>\n",
       "      <th>other_sales</th>\n",
       "      <th>critic_score</th>\n",
       "      <th>user_score</th>\n",
       "      <th>rating</th>\n",
       "    </tr>\n",
       "  </thead>\n",
       "  <tbody>\n",
       "    <tr>\n",
       "      <th>183</th>\n",
       "      <td>Madden NFL 2004</td>\n",
       "      <td>PS2</td>\n",
       "      <td>&lt;NA&gt;</td>\n",
       "      <td>Sports</td>\n",
       "      <td>4.26</td>\n",
       "      <td>0.26</td>\n",
       "      <td>0.01</td>\n",
       "      <td>0.71</td>\n",
       "      <td>94.0</td>\n",
       "      <td>8.5</td>\n",
       "      <td>E</td>\n",
       "    </tr>\n",
       "    <tr>\n",
       "      <th>377</th>\n",
       "      <td>FIFA Soccer 2004</td>\n",
       "      <td>PS2</td>\n",
       "      <td>&lt;NA&gt;</td>\n",
       "      <td>Sports</td>\n",
       "      <td>0.59</td>\n",
       "      <td>2.36</td>\n",
       "      <td>0.04</td>\n",
       "      <td>0.51</td>\n",
       "      <td>84.0</td>\n",
       "      <td>6.4</td>\n",
       "      <td>E</td>\n",
       "    </tr>\n",
       "    <tr>\n",
       "      <th>456</th>\n",
       "      <td>LEGO Batman: The Videogame</td>\n",
       "      <td>Wii</td>\n",
       "      <td>&lt;NA&gt;</td>\n",
       "      <td>Action</td>\n",
       "      <td>1.80</td>\n",
       "      <td>0.97</td>\n",
       "      <td>0.00</td>\n",
       "      <td>0.29</td>\n",
       "      <td>74.0</td>\n",
       "      <td>7.9</td>\n",
       "      <td>E10+</td>\n",
       "    </tr>\n",
       "    <tr>\n",
       "      <th>475</th>\n",
       "      <td>wwe Smackdown vs. Raw 2006</td>\n",
       "      <td>PS2</td>\n",
       "      <td>&lt;NA&gt;</td>\n",
       "      <td>Fighting</td>\n",
       "      <td>1.57</td>\n",
       "      <td>1.02</td>\n",
       "      <td>0.00</td>\n",
       "      <td>0.41</td>\n",
       "      <td>NaN</td>\n",
       "      <td>NaN</td>\n",
       "      <td>NaN</td>\n",
       "    </tr>\n",
       "    <tr>\n",
       "      <th>609</th>\n",
       "      <td>Space Invaders</td>\n",
       "      <td>2600</td>\n",
       "      <td>&lt;NA&gt;</td>\n",
       "      <td>Shooter</td>\n",
       "      <td>2.36</td>\n",
       "      <td>0.14</td>\n",
       "      <td>0.00</td>\n",
       "      <td>0.03</td>\n",
       "      <td>NaN</td>\n",
       "      <td>NaN</td>\n",
       "      <td>NaN</td>\n",
       "    </tr>\n",
       "  </tbody>\n",
       "</table>\n",
       "</div>"
      ],
      "text/plain": [
       "                           name platform  year_of_release     genre  na_sales  \\\n",
       "183             Madden NFL 2004      PS2             <NA>    Sports      4.26   \n",
       "377            FIFA Soccer 2004      PS2             <NA>    Sports      0.59   \n",
       "456  LEGO Batman: The Videogame      Wii             <NA>    Action      1.80   \n",
       "475  wwe Smackdown vs. Raw 2006      PS2             <NA>  Fighting      1.57   \n",
       "609              Space Invaders     2600             <NA>   Shooter      2.36   \n",
       "\n",
       "     eu_sales  jp_sales  other_sales  critic_score user_score rating  \n",
       "183      0.26      0.01         0.71          94.0        8.5      E  \n",
       "377      2.36      0.04         0.51          84.0        6.4      E  \n",
       "456      0.97      0.00         0.29          74.0        7.9   E10+  \n",
       "475      1.02      0.00         0.41           NaN        NaN    NaN  \n",
       "609      0.14      0.00         0.03           NaN        NaN    NaN  "
      ]
     },
     "execution_count": 12,
     "metadata": {},
     "output_type": "execute_result"
    }
   ],
   "source": [
    "# ознакомимся с колонкой 'year_of_release' пропусками \n",
    "missing_years = games[games['year_of_release'].isna()]\n",
    "missing_years.head()"
   ]
  },
  {
   "cell_type": "markdown",
   "metadata": {},
   "source": [
    "т.к. объекты с пропусками в 'year_of_release' столбце составляют всего 1,6 % от общего кол-ва данных и часто сопровождаются пропусками одновременно и в рейтинге, оценке критиков и оценке пользователей, то можем их удалить для большей чистоты и репрезентативности данных."
   ]
  },
  {
   "cell_type": "code",
   "execution_count": 10,
   "metadata": {},
   "outputs": [],
   "source": [
    "games = games.dropna(subset=['year_of_release'])"
   ]
  },
  {
   "cell_type": "code",
   "execution_count": 11,
   "metadata": {},
   "outputs": [],
   "source": [
    "games['user_score'] = games['user_score'].replace('tbd', np.nan)"
   ]
  },
  {
   "cell_type": "markdown",
   "metadata": {},
   "source": [
    "* `'tbd'`- *to be defined* - в пользовательском рейтинге — издатель ещё не предоставил точных данных, можем заменить их на NaN."
   ]
  },
  {
   "cell_type": "code",
   "execution_count": 12,
   "metadata": {},
   "outputs": [],
   "source": [
    "# после того как мы избавились от \"tbd\" мы можем преобразовать пользовательский рейтинг в float\n",
    "games['user_score'] = games['user_score'].astype(float)"
   ]
  },
  {
   "cell_type": "markdown",
   "metadata": {},
   "source": [
    "Поставим заглушку на отсутствующие данные в колонке `rating`."
   ]
  },
  {
   "cell_type": "code",
   "execution_count": 13,
   "metadata": {},
   "outputs": [],
   "source": [
    "# Замена NaN на 'Unknown' в столбце 'rating'\n",
    "games['rating'] = games['rating'].fillna('Unknown')"
   ]
  },
  {
   "cell_type": "code",
   "execution_count": 14,
   "metadata": {
    "scrolled": false
   },
   "outputs": [
    {
     "data": {
      "text/plain": [
       "0"
      ]
     },
     "execution_count": 14,
     "metadata": {},
     "output_type": "execute_result"
    }
   ],
   "source": [
    "# проверка на явные дубликаты\n",
    "games.duplicated().sum()"
   ]
  },
  {
   "cell_type": "markdown",
   "metadata": {},
   "source": [
    "В данных не обнаружено явных дубликатов."
   ]
  },
  {
   "cell_type": "code",
   "execution_count": 15,
   "metadata": {},
   "outputs": [
    {
     "data": {
      "text/html": [
       "<div>\n",
       "<style scoped>\n",
       "    .dataframe tbody tr th:only-of-type {\n",
       "        vertical-align: middle;\n",
       "    }\n",
       "\n",
       "    .dataframe tbody tr th {\n",
       "        vertical-align: top;\n",
       "    }\n",
       "\n",
       "    .dataframe thead th {\n",
       "        text-align: right;\n",
       "    }\n",
       "</style>\n",
       "<table border=\"1\" class=\"dataframe\">\n",
       "  <thead>\n",
       "    <tr style=\"text-align: right;\">\n",
       "      <th></th>\n",
       "      <th>name</th>\n",
       "      <th>platform</th>\n",
       "      <th>year_of_release</th>\n",
       "      <th>genre</th>\n",
       "      <th>na_sales</th>\n",
       "      <th>eu_sales</th>\n",
       "      <th>jp_sales</th>\n",
       "      <th>other_sales</th>\n",
       "      <th>critic_score</th>\n",
       "      <th>user_score</th>\n",
       "      <th>rating</th>\n",
       "    </tr>\n",
       "  </thead>\n",
       "  <tbody>\n",
       "    <tr>\n",
       "      <th>604</th>\n",
       "      <td>Madden NFL 13</td>\n",
       "      <td>PS3</td>\n",
       "      <td>2012</td>\n",
       "      <td>Sports</td>\n",
       "      <td>2.11</td>\n",
       "      <td>0.22</td>\n",
       "      <td>0.0</td>\n",
       "      <td>0.23</td>\n",
       "      <td>83.0</td>\n",
       "      <td>5.5</td>\n",
       "      <td>E</td>\n",
       "    </tr>\n",
       "    <tr>\n",
       "      <th>16230</th>\n",
       "      <td>Madden NFL 13</td>\n",
       "      <td>PS3</td>\n",
       "      <td>2012</td>\n",
       "      <td>Sports</td>\n",
       "      <td>0.00</td>\n",
       "      <td>0.01</td>\n",
       "      <td>0.0</td>\n",
       "      <td>0.00</td>\n",
       "      <td>83.0</td>\n",
       "      <td>5.5</td>\n",
       "      <td>E</td>\n",
       "    </tr>\n",
       "  </tbody>\n",
       "</table>\n",
       "</div>"
      ],
      "text/plain": [
       "                name platform  year_of_release   genre  na_sales  eu_sales  \\\n",
       "604    Madden NFL 13      PS3             2012  Sports      2.11      0.22   \n",
       "16230  Madden NFL 13      PS3             2012  Sports      0.00      0.01   \n",
       "\n",
       "       jp_sales  other_sales  critic_score  user_score rating  \n",
       "604         0.0         0.23          83.0         5.5      E  \n",
       "16230       0.0         0.00          83.0         5.5      E  "
      ]
     },
     "execution_count": 15,
     "metadata": {},
     "output_type": "execute_result"
    }
   ],
   "source": [
    "# проверка на неявные дубликаты\n",
    "implicit_duplicates = games.duplicated(subset=['name', 'platform', 'year_of_release'], keep=False)\n",
    "duplicates = games[implicit_duplicates]\n",
    "duplicates"
   ]
  },
  {
   "cell_type": "markdown",
   "metadata": {},
   "source": [
    "Возможно неявные дубликаты появились в результате аппаратной ошибки. Так как таких записей только две пары можно смело избавиться от дубликатов."
   ]
  },
  {
   "cell_type": "code",
   "execution_count": 16,
   "metadata": {},
   "outputs": [],
   "source": [
    "# удаляем неявные дубликаты, оставляем первую запись\n",
    "games = games.drop_duplicates(subset=['name', 'platform', 'year_of_release'], keep='first')"
   ]
  },
  {
   "cell_type": "markdown",
   "metadata": {},
   "source": [
    "Создадим колонку с общими продажами."
   ]
  },
  {
   "cell_type": "code",
   "execution_count": 17,
   "metadata": {
    "scrolled": true
   },
   "outputs": [
    {
     "data": {
      "text/html": [
       "<div>\n",
       "<style scoped>\n",
       "    .dataframe tbody tr th:only-of-type {\n",
       "        vertical-align: middle;\n",
       "    }\n",
       "\n",
       "    .dataframe tbody tr th {\n",
       "        vertical-align: top;\n",
       "    }\n",
       "\n",
       "    .dataframe thead th {\n",
       "        text-align: right;\n",
       "    }\n",
       "</style>\n",
       "<table border=\"1\" class=\"dataframe\">\n",
       "  <thead>\n",
       "    <tr style=\"text-align: right;\">\n",
       "      <th></th>\n",
       "      <th>name</th>\n",
       "      <th>platform</th>\n",
       "      <th>year_of_release</th>\n",
       "      <th>genre</th>\n",
       "      <th>na_sales</th>\n",
       "      <th>eu_sales</th>\n",
       "      <th>jp_sales</th>\n",
       "      <th>other_sales</th>\n",
       "      <th>critic_score</th>\n",
       "      <th>user_score</th>\n",
       "      <th>rating</th>\n",
       "      <th>total_sales</th>\n",
       "    </tr>\n",
       "  </thead>\n",
       "  <tbody>\n",
       "    <tr>\n",
       "      <th>0</th>\n",
       "      <td>Wii Sports</td>\n",
       "      <td>Wii</td>\n",
       "      <td>2006</td>\n",
       "      <td>Sports</td>\n",
       "      <td>41.36</td>\n",
       "      <td>28.96</td>\n",
       "      <td>3.77</td>\n",
       "      <td>8.45</td>\n",
       "      <td>76.0</td>\n",
       "      <td>8.0</td>\n",
       "      <td>E</td>\n",
       "      <td>82.54</td>\n",
       "    </tr>\n",
       "    <tr>\n",
       "      <th>1</th>\n",
       "      <td>Super Mario Bros.</td>\n",
       "      <td>NES</td>\n",
       "      <td>1985</td>\n",
       "      <td>Platform</td>\n",
       "      <td>29.08</td>\n",
       "      <td>3.58</td>\n",
       "      <td>6.81</td>\n",
       "      <td>0.77</td>\n",
       "      <td>NaN</td>\n",
       "      <td>NaN</td>\n",
       "      <td>Unknown</td>\n",
       "      <td>40.24</td>\n",
       "    </tr>\n",
       "    <tr>\n",
       "      <th>2</th>\n",
       "      <td>Mario Kart Wii</td>\n",
       "      <td>Wii</td>\n",
       "      <td>2008</td>\n",
       "      <td>Racing</td>\n",
       "      <td>15.68</td>\n",
       "      <td>12.76</td>\n",
       "      <td>3.79</td>\n",
       "      <td>3.29</td>\n",
       "      <td>82.0</td>\n",
       "      <td>8.3</td>\n",
       "      <td>E</td>\n",
       "      <td>35.52</td>\n",
       "    </tr>\n",
       "    <tr>\n",
       "      <th>3</th>\n",
       "      <td>Wii Sports Resort</td>\n",
       "      <td>Wii</td>\n",
       "      <td>2009</td>\n",
       "      <td>Sports</td>\n",
       "      <td>15.61</td>\n",
       "      <td>10.93</td>\n",
       "      <td>3.28</td>\n",
       "      <td>2.95</td>\n",
       "      <td>80.0</td>\n",
       "      <td>8.0</td>\n",
       "      <td>E</td>\n",
       "      <td>32.77</td>\n",
       "    </tr>\n",
       "    <tr>\n",
       "      <th>4</th>\n",
       "      <td>Pokemon Red/Pokemon Blue</td>\n",
       "      <td>GB</td>\n",
       "      <td>1996</td>\n",
       "      <td>Role-Playing</td>\n",
       "      <td>11.27</td>\n",
       "      <td>8.89</td>\n",
       "      <td>10.22</td>\n",
       "      <td>1.00</td>\n",
       "      <td>NaN</td>\n",
       "      <td>NaN</td>\n",
       "      <td>Unknown</td>\n",
       "      <td>31.38</td>\n",
       "    </tr>\n",
       "  </tbody>\n",
       "</table>\n",
       "</div>"
      ],
      "text/plain": [
       "                       name platform  year_of_release         genre  na_sales  \\\n",
       "0                Wii Sports      Wii             2006        Sports     41.36   \n",
       "1         Super Mario Bros.      NES             1985      Platform     29.08   \n",
       "2            Mario Kart Wii      Wii             2008        Racing     15.68   \n",
       "3         Wii Sports Resort      Wii             2009        Sports     15.61   \n",
       "4  Pokemon Red/Pokemon Blue       GB             1996  Role-Playing     11.27   \n",
       "\n",
       "   eu_sales  jp_sales  other_sales  critic_score  user_score   rating  \\\n",
       "0     28.96      3.77         8.45          76.0         8.0        E   \n",
       "1      3.58      6.81         0.77           NaN         NaN  Unknown   \n",
       "2     12.76      3.79         3.29          82.0         8.3        E   \n",
       "3     10.93      3.28         2.95          80.0         8.0        E   \n",
       "4      8.89     10.22         1.00           NaN         NaN  Unknown   \n",
       "\n",
       "   total_sales  \n",
       "0        82.54  \n",
       "1        40.24  \n",
       "2        35.52  \n",
       "3        32.77  \n",
       "4        31.38  "
      ]
     },
     "execution_count": 17,
     "metadata": {},
     "output_type": "execute_result"
    }
   ],
   "source": [
    "games['total_sales'] = (\n",
    "    games['na_sales'] +\n",
    "    games['eu_sales'] +\n",
    "    games['jp_sales'] +\n",
    "    games['other_sales']\n",
    ")\n",
    "games.head()"
   ]
  },
  {
   "cell_type": "markdown",
   "metadata": {},
   "source": [
    "#### Выводы по анализу и обработке данных\n",
    "\n",
    "**Переименование столбцов**\n",
    "\n",
    "Названия столбцов приведены к нижнему регистру для единообразия и удобства работы.\n",
    "\n",
    "**Обнаружение и обработка пропусков**\n",
    "\n",
    "* Названия игр и жанры: Удалены строки с отсутствующими значениями.\n",
    "* Год выпуска (year_of_release): Пропуски (около 1,6% данных) удалены для сохранения целостности временного анализа.\n",
    "* Оценки (critic_score, user_score): Пропуски оставлены как NaN, поскольку их заполнение средними или медианными значениями могло бы исказить результаты. Это отражает реальное отсутствие отзывов.\n",
    "* Значение 'tbd' в столбце user_score заменено на NaN из-за отсутствия точных рейтингов. Столбец был преобразован в тип float.\n",
    "* На отсутствующие данные в колонке rating поставлена заглушка\n",
    "\n",
    "**Проверка и удаление дубликатов**\n",
    "\n",
    "* Явные дубликаты: Не обнаружены.\n",
    "* Неявные дубликаты: Две пары записей удалены, оставлены первые в каждой паре.\n",
    "\n",
    "**Создание нового столбца**\n",
    "\n",
    "Добавлен столбец total_sales, суммирующий продажи во всех регионах.\n",
    "\n",
    "**Итог**\n",
    "\n",
    "Данные очищены от незначительных пропусков и дубликатов, названия столбцов унифицированы. Структура датасета стала более удобной для анализа: оценки, продажи и временные данные представлены в корректных форматах. Пропуски в оценках оставлены неизменными, что предотвращает искажение статистических расчетов."
   ]
  },
  {
   "cell_type": "markdown",
   "metadata": {},
   "source": [
    "### Исследовательский анализ данных"
   ]
  },
  {
   "cell_type": "markdown",
   "metadata": {},
   "source": [
    "#### Сколько игр выпускалось в разные годы?\n",
    "Необходимо ответить на вопрос: \"Важны ли данные за все периоды?\""
   ]
  },
  {
   "cell_type": "code",
   "execution_count": 19,
   "metadata": {},
   "outputs": [
    {
     "data": {
      "image/png": "[encoded data removed]",
      "text/plain": [
       "<Figure size 720x360 with 1 Axes>"
      ]
     },
     "metadata": {
      "needs_background": "light"
     },
     "output_type": "display_data"
    }
   ],
   "source": [
    "games_per_year = games.groupby('year_of_release')['name'].count()\n",
    "\n",
    "plt.figure(figsize=(10, 5))\n",
    "games_per_year.plot(kind='bar', color='skyblue')\n",
    "plt.title('Количество выпущенных игр по годам')\n",
    "plt.xlabel('Год выпуска')\n",
    "plt.ylabel('Количество игр')\n",
    "plt.show()"
   ]
  },
  {
   "cell_type": "markdown",
   "metadata": {},
   "source": [
    "На графике можем наблюдать, что до 1994 игр выпускалось до 200 в год, можно предположить, что данный период не релевантен для анализа."
   ]
  },
  {
   "cell_type": "markdown",
   "metadata": {},
   "source": [
    "#### Как менялись продажи по платформам?\n",
    "Необходимо выбрать платформы с наибольшими суммарными продажами и построить распределение по годам, а также ответить на вопрос: \"За какой характерный срок появляются новые и исчезают старые платформы?\""
   ]
  },
  {
   "cell_type": "code",
   "execution_count": 20,
   "metadata": {},
   "outputs": [
    {
     "data": {
      "text/plain": [
       "count     16443\n",
       "unique       31\n",
       "top         PS2\n",
       "freq       2127\n",
       "Name: platform, dtype: object"
      ]
     },
     "execution_count": 20,
     "metadata": {},
     "output_type": "execute_result"
    }
   ],
   "source": [
    "games['platform'].describe()"
   ]
  },
  {
   "cell_type": "code",
   "execution_count": 21,
   "metadata": {},
   "outputs": [
    {
     "data": {
      "text/plain": [
       "platform\n",
       "PS2     1233.56\n",
       "X360     961.24\n",
       "PS3      931.33\n",
       "Wii      891.18\n",
       "DS       802.78\n",
       "PS       727.58\n",
       "PS4      314.14\n",
       "GBA      312.88\n",
       "PSP      289.53\n",
       "3DS      257.81\n",
       "Name: total_sales, dtype: float64"
      ]
     },
     "metadata": {},
     "output_type": "display_data"
    }
   ],
   "source": [
    "platform_sales = games.groupby('platform')['total_sales'].sum().sort_values(ascending=False)\n",
    "display(platform_sales.head(10))"
   ]
  },
  {
   "cell_type": "code",
   "execution_count": 22,
   "metadata": {},
   "outputs": [
    {
     "data": {
      "image/png": "[encoded data removed]",
      "text/plain": [
       "<Figure size 576x360 with 1 Axes>"
      ]
     },
     "metadata": {
      "needs_background": "light"
     },
     "output_type": "display_data"
    }
   ],
   "source": [
    "plt.figure(figsize=(8, 5))\n",
    "platform_sales.plot(kind='bar', color='green')\n",
    "plt.title('Общие продажи')\n",
    "plt.xlabel('Платформы')\n",
    "plt.ylabel('Количество игр')\n",
    "plt.show()"
   ]
  },
  {
   "cell_type": "code",
   "execution_count": 23,
   "metadata": {
    "scrolled": true
   },
   "outputs": [
    {
     "data": {
      "image/png": "[encoded data removed]",
      "text/plain": [
       "<Figure size 720x360 with 1 Axes>"
      ]
     },
     "metadata": {
      "needs_background": "light"
     },
     "output_type": "display_data"
    }
   ],
   "source": [
    "top_platforms = platform_sales.head(10).index\n",
    "for platform in top_platforms:\n",
    "    data_platform = games[games['platform'] == platform].groupby('year_of_release')['total_sales'].sum()\n",
    "    data_platform.plot(label=platform, legend=True, figsize=(10,5))\n",
    "\n",
    "plt.title('Суммарные продажи игр по годам (Топ-10 платформ)')\n",
    "plt.xlabel('Год')\n",
    "plt.ylabel('Суммарные продажи, млн.')\n",
    "plt.show()"
   ]
  },
  {
   "cell_type": "code",
   "execution_count": 24,
   "metadata": {},
   "outputs": [
    {
     "data": {
      "text/plain": [
       "7.0"
      ]
     },
     "execution_count": 24,
     "metadata": {},
     "output_type": "execute_result"
    }
   ],
   "source": [
    "time_life = games.pivot_table(index='platform', values='year_of_release', aggfunc=['min', 'max']).reset_index()\n",
    "time_life['life'] = time_life['max'] - time_life['min'] + 1 # в срок жизни платформы, должны входить границы диапазона, \n",
    "                                                            # поэтому +1\n",
    "time_life['life'].median()"
   ]
  },
  {
   "cell_type": "markdown",
   "metadata": {},
   "source": [
    "- Самым показательным примером с точки зрения цикличности жизненного цикла игровых приставок можно считать семейство PlayStation. В среднем, цикл жизни каждой консоли этого семейства составляет 7 лет. Основной причиной спада популярности предыдущего поколения и появления нового можно считать стремительное развитие игровых технологий и аппаратного обеспечения. По мере того как новые технологии создают возможности для разработки более сложных и требовательных игр, старое \"железо\" перестает справляться с их запуском, что делает обновление оборудования неизбежным.\n",
    "- Портативные приставки GBA (Game Boy Advance), DS (Nintendo DS) и PSP также подвержены цикличности, с небольшой вариативностью жизненного цикла.\n",
    "- Персональные компьютеры (PC) хотя и менее прибыльны с точки зрения продаж игр, не подвержены такой выраженной цикличности, как игровые приставки. Это объясняется их сравнительно простой возможностью апгрейда: пользователи могут обновлять отдельные компоненты (видеокарты, процессоры и т.д.), чтобы соответствовать современным требованиям игр, вместо полной замены устройства. Кроме того, все ПК, начиная с IBM PC 1980-х годов и заканчивая современными компьютерами, классифицируются как одна категория, что сглаживает различия между поколениями."
   ]
  },
  {
   "cell_type": "markdown",
   "metadata": {},
   "source": [
    "####  Определение актуального периода"
   ]
  },
  {
   "cell_type": "markdown",
   "metadata": {},
   "source": [
    "Исходя из анализа предыдущих пунктов, 4-х летний период (2012-2016) выглядит наиболее репрезентативным с точки зрения прогнозирования на 2017 год, т.к. в этот период наблюдается устойчивый тренд."
   ]
  },
  {
   "cell_type": "code",
   "execution_count": 26,
   "metadata": {
    "scrolled": true
   },
   "outputs": [
    {
     "data": {
      "text/plain": [
       "count     2885\n",
       "unique      11\n",
       "top        PS3\n",
       "freq       492\n",
       "Name: platform, dtype: object"
      ]
     },
     "execution_count": 26,
     "metadata": {},
     "output_type": "execute_result"
    }
   ],
   "source": [
    "actual_period = games.query('year_of_release >= 2012 and year_of_release <= 2016')\n",
    "actual_period['platform'].describe()"
   ]
  },
  {
   "cell_type": "code",
   "execution_count": 27,
   "metadata": {},
   "outputs": [
    {
     "data": {
      "text/html": [
       "<div>\n",
       "<style scoped>\n",
       "    .dataframe tbody tr th:only-of-type {\n",
       "        vertical-align: middle;\n",
       "    }\n",
       "\n",
       "    .dataframe tbody tr th {\n",
       "        vertical-align: top;\n",
       "    }\n",
       "\n",
       "    .dataframe thead th {\n",
       "        text-align: right;\n",
       "    }\n",
       "</style>\n",
       "<table border=\"1\" class=\"dataframe\">\n",
       "  <thead>\n",
       "    <tr style=\"text-align: right;\">\n",
       "      <th></th>\n",
       "      <th>name</th>\n",
       "      <th>platform</th>\n",
       "      <th>year_of_release</th>\n",
       "      <th>genre</th>\n",
       "      <th>na_sales</th>\n",
       "      <th>eu_sales</th>\n",
       "      <th>jp_sales</th>\n",
       "      <th>other_sales</th>\n",
       "      <th>critic_score</th>\n",
       "      <th>user_score</th>\n",
       "      <th>rating</th>\n",
       "      <th>total_sales</th>\n",
       "    </tr>\n",
       "  </thead>\n",
       "  <tbody>\n",
       "    <tr>\n",
       "      <th>16</th>\n",
       "      <td>Grand Theft Auto V</td>\n",
       "      <td>PS3</td>\n",
       "      <td>2013</td>\n",
       "      <td>Action</td>\n",
       "      <td>7.02</td>\n",
       "      <td>9.09</td>\n",
       "      <td>0.98</td>\n",
       "      <td>3.96</td>\n",
       "      <td>97.0</td>\n",
       "      <td>8.2</td>\n",
       "      <td>M</td>\n",
       "      <td>21.05</td>\n",
       "    </tr>\n",
       "    <tr>\n",
       "      <th>23</th>\n",
       "      <td>Grand Theft Auto V</td>\n",
       "      <td>X360</td>\n",
       "      <td>2013</td>\n",
       "      <td>Action</td>\n",
       "      <td>9.66</td>\n",
       "      <td>5.14</td>\n",
       "      <td>0.06</td>\n",
       "      <td>1.41</td>\n",
       "      <td>97.0</td>\n",
       "      <td>8.1</td>\n",
       "      <td>M</td>\n",
       "      <td>16.27</td>\n",
       "    </tr>\n",
       "    <tr>\n",
       "      <th>31</th>\n",
       "      <td>Call of Duty: Black Ops 3</td>\n",
       "      <td>PS4</td>\n",
       "      <td>2015</td>\n",
       "      <td>Shooter</td>\n",
       "      <td>6.03</td>\n",
       "      <td>5.86</td>\n",
       "      <td>0.36</td>\n",
       "      <td>2.38</td>\n",
       "      <td>NaN</td>\n",
       "      <td>NaN</td>\n",
       "      <td>Unknown</td>\n",
       "      <td>14.63</td>\n",
       "    </tr>\n",
       "  </tbody>\n",
       "</table>\n",
       "</div>"
      ],
      "text/plain": [
       "                         name platform  year_of_release    genre  na_sales  \\\n",
       "16         Grand Theft Auto V      PS3             2013   Action      7.02   \n",
       "23         Grand Theft Auto V     X360             2013   Action      9.66   \n",
       "31  Call of Duty: Black Ops 3      PS4             2015  Shooter      6.03   \n",
       "\n",
       "    eu_sales  jp_sales  other_sales  critic_score  user_score   rating  \\\n",
       "16      9.09      0.98         3.96          97.0         8.2        M   \n",
       "23      5.14      0.06         1.41          97.0         8.1        M   \n",
       "31      5.86      0.36         2.38           NaN         NaN  Unknown   \n",
       "\n",
       "    total_sales  \n",
       "16        21.05  \n",
       "23        16.27  \n",
       "31        14.63  "
      ]
     },
     "execution_count": 27,
     "metadata": {},
     "output_type": "execute_result"
    }
   ],
   "source": [
    "actual_period.head(3)"
   ]
  },
  {
   "cell_type": "markdown",
   "metadata": {},
   "source": [
    "#####  Определение лидеров продаж, трендов роста и падения. Выбор потенциально прибыльных платформ."
   ]
  },
  {
   "cell_type": "markdown",
   "metadata": {},
   "source": [
    "**Лидеры продаж**"
   ]
  },
  {
   "cell_type": "code",
   "execution_count": 28,
   "metadata": {},
   "outputs": [
    {
     "data": {
      "text/plain": [
       "platform\n",
       "PS4     314.14\n",
       "PS3     288.78\n",
       "X360    236.54\n",
       "3DS     194.61\n",
       "XOne    159.32\n",
       "Name: total_sales, dtype: float64"
      ]
     },
     "execution_count": 28,
     "metadata": {},
     "output_type": "execute_result"
    }
   ],
   "source": [
    "# 1. Определим суммарные продажи по платформам за актуальный период\n",
    "platform_sales_recent = actual_period.groupby('platform')['total_sales'].sum().sort_values(ascending=False)\n",
    "platform_sales_recent.head()"
   ]
  },
  {
   "cell_type": "code",
   "execution_count": 29,
   "metadata": {
    "scrolled": false
   },
   "outputs": [
    {
     "data": {
      "image/png": "[encoded data removed]",
      "text/plain": [
       "<Figure size 576x576 with 1 Axes>"
      ]
     },
     "metadata": {},
     "output_type": "display_data"
    }
   ],
   "source": [
    "sizes = platform_sales_recent\n",
    "labels = platform_sales_recent.index\n",
    "\n",
    "colors = plt.cm.Paired(range(len(labels)))\n",
    "\n",
    "plt.figure(figsize=(8,8))\n",
    "plt.pie(\n",
    "    sizes, \n",
    "    labels=labels, \n",
    "    colors=colors, \n",
    "    shadow=True\n",
    ")\n",
    "\n",
    "plt.title('Суммарные продажи по платформам за актуальный период', fontsize=16)\n",
    "\n",
    "plt.axis('equal')\n",
    "plt.legend(labels, title=\"Платформы\", loc=\"best\")\n",
    "plt.tight_layout()\n",
    "plt.show()"
   ]
  },
  {
   "cell_type": "markdown",
   "metadata": {},
   "source": [
    "**Тренды роста и падения**"
   ]
  },
  {
   "cell_type": "code",
   "execution_count": 30,
   "metadata": {
    "scrolled": false
   },
   "outputs": [
    {
     "data": {
      "image/png": "[encoded data removed]",
      "text/plain": [
       "<Figure size 720x432 with 1 Axes>"
      ]
     },
     "metadata": {
      "needs_background": "light"
     },
     "output_type": "display_data"
    }
   ],
   "source": [
    "plt.figure(figsize=(10, 6))\n",
    "for platform in platform_sales_recent.head().index:\n",
    "    yearly_sales = (\n",
    "        actual_period\n",
    "        .loc[actual_period['platform'] == platform]\n",
    "        .groupby('year_of_release')['total_sales']\n",
    "        .sum()\n",
    "    )\n",
    "    yearly_sales.plot(label=platform, legend=True)\n",
    "    \n",
    "plt.title('Динамика продаж по годам (топ-платформы актуального периода)')\n",
    "plt.xlabel('Год')\n",
    "plt.ylabel('Суммарные продажи, млн. копий')\n",
    "plt.show()"
   ]
  },
  {
   "cell_type": "markdown",
   "metadata": {},
   "source": [
    "**Промежуточный вывод о потенциально прибыльных платформах:**\n",
    "\n",
    "**Лидеры по суммарным продажам**\n",
    "\n",
    "По итогам актуального периода (2012–2016) наиболее высокие общие продажи показывают PS4, PS3, X360, 3DS и XOne.\n",
    "Диаграмма продаж подтверждает, что именно эти платформы удерживают основную долю рынка.\n",
    "\n",
    "**Тренды роста/падения**\n",
    "\n",
    "PS4 и XOne, будучи относительно новыми на тот момент поколениями консолей, показывают тенденцию к росту и сохраняют стабильность продаж.\n",
    "PS3 и X360 уже переживают пик популярности; их продажи уменьшаются по мере перехода аудитории на более современные платформы.\n",
    "3DS сохраняет сильные позиции, особенно благодаря японскому рынку, однако тоже может проявлять спад в других регионах.\n",
    "\n",
    "**Выбор перспективных платформ**\n",
    "\n",
    "* PS4 — явный лидер, с широким портфелем игр-бестселлеров и хорошими годовыми показателями продаж.\n",
    "* XOne — хоть и уступает PS4, продолжает расти; ещё не достигла насыщения рынка.\n",
    "* 3DS — сохраняет свою нишу (особенно в Японии), что даёт перспективы в портативном сегменте.\n",
    "\n",
    "**Итог:** \n",
    "\n",
    "Для планирования нового релиза (на 2017 год) наиболее перспективными выглядят PS4 и XOne как современные стационарные консоли, а также 3DS для портативного рынка."
   ]
  },
  {
   "cell_type": "markdown",
   "metadata": {},
   "source": [
    "####  Диаграммы размаха для глобальных продаж игр в разбивке по платформам"
   ]
  },
  {
   "cell_type": "code",
   "execution_count": 31,
   "metadata": {},
   "outputs": [
    {
     "data": {
      "image/png": "[encoded data removed]",
      "text/plain": [
       "<Figure size 1080x720 with 1 Axes>"
      ]
     },
     "metadata": {
      "needs_background": "light"
     },
     "output_type": "display_data"
    }
   ],
   "source": [
    "plt.figure(figsize=(15,10))\n",
    "sns.boxplot(x='platform', y='total_sales', data=actual_period)\n",
    "plt.title('Распределение глобальных продаж по платформам')\n",
    "plt.xlabel('Платформа')\n",
    "plt.ylabel('Глобальные продажи, млн.')\n",
    "plt.xticks(rotation=45)\n",
    "plt.show()"
   ]
  },
  {
   "cell_type": "code",
   "execution_count": 32,
   "metadata": {
    "scrolled": false
   },
   "outputs": [
    {
     "data": {
      "image/png": "[encoded data removed]",
      "text/plain": [
       "<Figure size 1080x720 with 1 Axes>"
      ]
     },
     "metadata": {
      "needs_background": "light"
     },
     "output_type": "display_data"
    }
   ],
   "source": [
    "plt.figure(figsize=(15,10))\n",
    "sns.boxplot(x='platform', y='total_sales', data=actual_period)\n",
    "plt.title('Распределение глобальных продаж по платформам')\n",
    "plt.xlabel('Платформа')\n",
    "plt.ylabel('Глобальные продажи, млн.')\n",
    "plt.xticks(rotation=45)\n",
    "plt.ylim(0, 2.5)\n",
    "plt.show()"
   ]
  },
  {
   "cell_type": "markdown",
   "metadata": {},
   "source": [
    "</font><font color='Blue'><b>Комментарий студента:\n",
    "    спасибо за замечание. Исправил!\n",
    "    </b></font><br>"
   ]
  },
  {
   "cell_type": "markdown",
   "metadata": {},
   "source": [
    "**Промежуточный вывод по диаграммам размаха:**\n",
    "\n",
    "**Медианные продажи**\n",
    "\n",
    "У большинства платформ медиана глобальных продаж на игру не превышает 0,5 млн копий.\n",
    "Платформы X360, PS4 и Wii обычно имеют чуть более высокую медиану, чем, например, 3DS или PC.\n",
    "\n",
    "**Выбросы (Хиты)** \n",
    "\n",
    "На многих платформах (за исключением DS, PSV и PSP) присутствуют «хиты» с продажами свыше 1–2 млн копий, которые существенно «тянут вверх» общую статистику.\n",
    "Особенно заметны выбросы у X360 и PS4, достигающие 5+ млн копий на игру.\n",
    "\n",
    "**Разброс внутри платформ**\n",
    "\n",
    "У PS4, X360 и Wii широкий размах: есть много средних по продажам проектов и несколько сверхпопулярных релизов.\n",
    "Платформы вроде PSV или PSP имеют меньший разброс и редко выходят за рамки 1 млн копий.\n",
    "\n",
    "**Итог:** \n",
    "\n",
    "В среднем каждая платформа даёт довольно скромные продажи (до 0,5 млн), однако единичные хиты могут превышать 5, 10 и более млн копий, что иллюстрирует высокую неоднородность рынка: успех отдельных проектов не гарантирует аналогичного результата большинству игр на той же платформе."
   ]
  },
  {
   "cell_type": "markdown",
   "metadata": {},
   "source": [
    "#### Влияние отзывов пользователей и критиков на продажи"
   ]
  },
  {
   "cell_type": "markdown",
   "metadata": {},
   "source": [
    "На примере лидера продаж - **PS4**"
   ]
  },
  {
   "cell_type": "code",
   "execution_count": 33,
   "metadata": {},
   "outputs": [],
   "source": [
    "psfour_platform_data = actual_period[actual_period['platform'] == 'PS4']"
   ]
  },
  {
   "cell_type": "code",
   "execution_count": 34,
   "metadata": {
    "scrolled": true
   },
   "outputs": [
    {
     "data": {
      "image/png": "[encoded data removed]",
      "text/plain": [
       "<Figure size 576x288 with 1 Axes>"
      ]
     },
     "metadata": {
      "needs_background": "light"
     },
     "output_type": "display_data"
    }
   ],
   "source": [
    "# Диаграмма рассеяния: критики\n",
    "plt.figure(figsize=(8,4))\n",
    "sns.scatterplot(data=psfour_platform_data, x='critic_score', y='total_sales', color='green')\n",
    "plt.title('Связь между оценками критиков и продажами игр на (PS4)')\n",
    "plt.xlabel('Оценка критиков')\n",
    "plt.ylabel('Продажи')\n",
    "plt.show()"
   ]
  },
  {
   "cell_type": "code",
   "execution_count": 35,
   "metadata": {
    "scrolled": true
   },
   "outputs": [
    {
     "name": "stdout",
     "output_type": "stream",
     "text": [
      "Корреляция (критики и продажи): 0.40656790206178095\n"
     ]
    }
   ],
   "source": [
    "corr_critic = psfour_platform_data['critic_score'].corr(psfour_platform_data['total_sales'])\n",
    "print('Корреляция (критики и продажи):', corr_critic)"
   ]
  },
  {
   "cell_type": "code",
   "execution_count": 36,
   "metadata": {
    "scrolled": false
   },
   "outputs": [
    {
     "data": {
      "image/png": "[encoded data removed]",
      "text/plain": [
       "<Figure size 864x432 with 1 Axes>"
      ]
     },
     "metadata": {
      "needs_background": "light"
     },
     "output_type": "display_data"
    }
   ],
   "source": [
    "# Диаграмма рассеяния: пользователи\n",
    "plt.figure(figsize=(12,6))\n",
    "sns.scatterplot(data=psfour_platform_data, x='user_score', y='total_sales', color='orange')\n",
    "plt.title('Связь между оценками пользователей и продажами игр на (PS4)', fontsize=16)\n",
    "plt.xlabel('Оценка пользователей', fontsize=14)\n",
    "plt.ylabel('Продажи', fontsize=14)\n",
    "plt.show()"
   ]
  },
  {
   "cell_type": "code",
   "execution_count": 37,
   "metadata": {
    "scrolled": false
   },
   "outputs": [
    {
     "name": "stdout",
     "output_type": "stream",
     "text": [
      "Корреляция (пользовательской критики и продажи): -0.031957110204556376\n"
     ]
    }
   ],
   "source": [
    "corr_user = psfour_platform_data['user_score'].corr(psfour_platform_data['total_sales'])\n",
    "print('Корреляция (пользовательской критики и продажи):', corr_user)"
   ]
  },
  {
   "cell_type": "markdown",
   "metadata": {},
   "source": [
    "**Промежуточный вывод о влиянии оценок на продажи (на примере PS4):**\n",
    "\n",
    "**Оценка критиков**\n",
    "\n",
    "Коэффициент корреляции составляет ≈0.41, что говорит об умеренной положительной связи между рейтингом критиков и продажами. Чем выше оценка профессиональных обозревателей, тем выше шансы на коммерческий успех игры на PS4.\n",
    "\n",
    "**Оценка пользователей**\n",
    "\n",
    "Корреляция близка к нулю (≈−0.03), то есть пользовательские рейтинги практически не влияют на продажи. Возможно, игроки приобретают игру до появления достаточного числа отзывов, либо ориентируются на рекламу, предыдущие части серии или репутацию разработчиков."
   ]
  },
  {
   "cell_type": "markdown",
   "metadata": {},
   "source": [
    "#### Соотношение выводов с продажами игр на других платформах"
   ]
  },
  {
   "cell_type": "markdown",
   "metadata": {},
   "source": [
    "Чтобы убедиться, что данные о связи между пользовательским рейнгом и рейтингом критиков с кол-вом продаж не случайно повторим вычисления с двумя следующими по популярности платформами: **PS3** и **Xbox 360**."
   ]
  },
  {
   "cell_type": "markdown",
   "metadata": {},
   "source": [
    "**PS3**"
   ]
  },
  {
   "cell_type": "code",
   "execution_count": 38,
   "metadata": {},
   "outputs": [],
   "source": [
    "ps_three_platform_data = actual_period[actual_period['platform'] == 'PS3']"
   ]
  },
  {
   "cell_type": "code",
   "execution_count": 39,
   "metadata": {},
   "outputs": [
    {
     "data": {
      "image/png": "[encoded data removed]",
      "text/plain": [
       "<Figure size 576x288 with 1 Axes>"
      ]
     },
     "metadata": {
      "needs_background": "light"
     },
     "output_type": "display_data"
    },
    {
     "data": {
      "image/png": "[encoded data removed]",
      "text/plain": [
       "<Figure size 864x432 with 1 Axes>"
      ]
     },
     "metadata": {
      "needs_background": "light"
     },
     "output_type": "display_data"
    }
   ],
   "source": [
    "plt.figure(figsize=(8,4))\n",
    "sns.scatterplot(data=ps_three_platform_data, x='critic_score', y='total_sales', color='green')\n",
    "plt.title('Связь между оценками критиков и продажами игр на (PS3)')\n",
    "plt.xlabel('Оценка критиков')\n",
    "plt.ylabel('Продажи')\n",
    "plt.show()\n",
    "\n",
    "plt.figure(figsize=(12,6))\n",
    "sns.scatterplot(data=ps_three_platform_data, x='user_score', y='total_sales', color='orange')\n",
    "plt.title('Связь между оценками пользователей и продажами игр на (PS3)', fontsize=16)\n",
    "plt.xlabel('Оценка пользователей', fontsize=14)\n",
    "plt.ylabel('Продажи', fontsize=14)\n",
    "plt.show()"
   ]
  },
  {
   "cell_type": "code",
   "execution_count": 40,
   "metadata": {},
   "outputs": [
    {
     "data": {
      "text/plain": [
       "0.3341517575509856"
      ]
     },
     "metadata": {},
     "output_type": "display_data"
    },
    {
     "data": {
      "text/plain": [
       "-0.006205767686051523"
      ]
     },
     "execution_count": 40,
     "metadata": {},
     "output_type": "execute_result"
    }
   ],
   "source": [
    "corr_critic = ps_three_platform_data['critic_score'].corr(ps_three_platform_data['total_sales'])\n",
    "corr_user = ps_three_platform_data['user_score'].corr(ps_three_platform_data['total_sales'])\n",
    "display(corr_critic)\n",
    "corr_user"
   ]
  },
  {
   "cell_type": "markdown",
   "metadata": {},
   "source": [
    "**Xbox360**"
   ]
  },
  {
   "cell_type": "code",
   "execution_count": 41,
   "metadata": {},
   "outputs": [],
   "source": [
    "old_xbox_platform_data = actual_period[actual_period['platform'] == 'X360']"
   ]
  },
  {
   "cell_type": "code",
   "execution_count": 42,
   "metadata": {
    "scrolled": false
   },
   "outputs": [
    {
     "data": {
      "image/png": "[encoded data removed]",
      "text/plain": [
       "<Figure size 576x288 with 1 Axes>"
      ]
     },
     "metadata": {
      "needs_background": "light"
     },
     "output_type": "display_data"
    },
    {
     "data": {
      "image/png": "[encoded data removed]",
      "text/plain": [
       "<Figure size 864x432 with 1 Axes>"
      ]
     },
     "metadata": {
      "needs_background": "light"
     },
     "output_type": "display_data"
    }
   ],
   "source": [
    "plt.figure(figsize=(8,4))\n",
    "sns.scatterplot(data=old_xbox_platform_data, x='critic_score', y='total_sales', color='green')\n",
    "plt.title('Связь между оценками критиков и продажами игр на (Xbox360)')\n",
    "plt.xlabel('Оценка критиков')\n",
    "plt.ylabel('Продажи')\n",
    "plt.show()\n",
    "\n",
    "plt.figure(figsize=(12,6))\n",
    "sns.scatterplot(data=old_xbox_platform_data, x='user_score', y='total_sales', color='orange')\n",
    "plt.title('Связь между оценками пользователей и продажами игр на (Xbox360)', fontsize=16)\n",
    "plt.xlabel('Оценка пользователей', fontsize=14)\n",
    "plt.ylabel('Продажи', fontsize=14)\n",
    "plt.show()"
   ]
  },
  {
   "cell_type": "code",
   "execution_count": 43,
   "metadata": {},
   "outputs": [
    {
     "data": {
      "text/plain": [
       "0.3605734888507336"
      ]
     },
     "metadata": {},
     "output_type": "display_data"
    },
    {
     "data": {
      "text/plain": [
       "0.006163978646213326"
      ]
     },
     "execution_count": 43,
     "metadata": {},
     "output_type": "execute_result"
    }
   ],
   "source": [
    "corr_critic = old_xbox_platform_data['critic_score'].corr(old_xbox_platform_data['total_sales'])\n",
    "corr_user = old_xbox_platform_data['user_score'].corr(old_xbox_platform_data['total_sales'])\n",
    "display(corr_critic)\n",
    "corr_user"
   ]
  },
  {
   "cell_type": "markdown",
   "metadata": {},
   "source": [
    "**Сопоставление с другими платформами**\n",
    "\n",
    "Аналогичные расчёты для X360, PS3 также демонстрируют, что оценки критиков обычно влияют на продажи сильнее, чем пользовательские отзывы.\n",
    "\n",
    "На большинстве платформ корреляция с пользовательскими рейтингами либо слабая, либо отсутствует вовсе, что подтверждает гипотезу о меньшем влиянии отзывов игроков на момент принятия решения о покупке.\n",
    "Оценки критиков часто сильнее коррелируют с продажами, чем пользовательские. Возможно, пользователи решаются на покупку раньше, чем появляются многочисленные пользовательские отзывы."
   ]
  },
  {
   "cell_type": "markdown",
   "metadata": {},
   "source": [
    "#### Общее распределение игр по жанрам"
   ]
  },
  {
   "cell_type": "code",
   "execution_count": 45,
   "metadata": {},
   "outputs": [
    {
     "name": "stdout",
     "output_type": "stream",
     "text": [
      "Медианные продажи игр по жанрам:\n",
      "genre\n",
      "Shooter         0.440\n",
      "Sports          0.240\n",
      "Platform        0.210\n",
      "Role-Playing    0.140\n",
      "Racing          0.140\n",
      "Fighting        0.130\n",
      "Action          0.120\n",
      "Misc            0.120\n",
      "Simulation      0.120\n",
      "Strategy        0.080\n",
      "Puzzle          0.045\n",
      "Adventure       0.030\n",
      "Name: total_sales, dtype: float64\n"
     ]
    }
   ],
   "source": [
    "# группировка данных по жанрам и вычисление медианных продаж\n",
    "genre_median_sales = actual_period.groupby('genre')['total_sales'].median().sort_values(ascending=False)\n",
    "\n",
    "print(\"Медианные продажи игр по жанрам:\")\n",
    "print(genre_median_sales)"
   ]
  },
  {
   "cell_type": "code",
   "execution_count": 46,
   "metadata": {},
   "outputs": [
    {
     "data": {
      "image/png": "[encoded data removed]",
      "text/plain": [
       "<Figure size 720x360 with 1 Axes>"
      ]
     },
     "metadata": {
      "needs_background": "light"
     },
     "output_type": "display_data"
    }
   ],
   "source": [
    "# бар-чарта медианных продаж по жанрам\n",
    "plt.figure(figsize=(10,5))\n",
    "genre_median_sales.plot(kind='bar', color='skyblue')\n",
    "plt.title('Медианные продажи игр по жанрам за актуальный период')\n",
    "plt.xlabel('Жанр')\n",
    "plt.ylabel('Медианные продажи, млн.')\n",
    "plt.xticks(rotation=45)\n",
    "plt.show()"
   ]
  },
  {
   "cell_type": "code",
   "execution_count": 47,
   "metadata": {},
   "outputs": [
    {
     "data": {
      "image/png": "[encoded data removed]",
      "text/plain": [
       "<Figure size 864x432 with 1 Axes>"
      ]
     },
     "metadata": {
      "needs_background": "light"
     },
     "output_type": "display_data"
    }
   ],
   "source": [
    "# диаграмма размаха для продаж по жанрам\n",
    "plt.figure(figsize=(12,6))\n",
    "sns.boxplot(x='genre', y='total_sales', data=actual_period)\n",
    "plt.title('Распределение глобальных продаж по жанрам за актуальный период')\n",
    "plt.xlabel('Жанр')\n",
    "plt.ylabel('Продажи, млн.')\n",
    "plt.xticks(rotation=45)\n",
    "plt.ylim(0, actual_period['total_sales'].quantile(0.95))\n",
    "plt.tight_layout()\n",
    "plt.show()"
   ]
  },
  {
   "cell_type": "markdown",
   "metadata": {},
   "source": [
    "**Лидеры по медианным продажам**\n",
    "\n",
    "* Жанры Shooter и Sports заметно выделяются по медианным продажам. \n",
    "* Shooter имеет медианный показатель около 0.44 млн копий на игру, что почти в два раза выше, чем у большинства остальных жанров. \n",
    "* Sports и Platform также показывают результаты выше среднего, в районе 0.24 млн и 0.21 млн соответственно.\n",
    "\n",
    "**Аутсайдеры по продажам**\n",
    "\n",
    "Жанры Puzzle и Adventure имеют самые низкие медианные показатели (около 0.03–0.05 млн), что говорит о меньшей востребованности или узком рынке для таких игр в актуальном периоде.\n",
    "\n",
    "**Разброс (Диаграмма размаха)**\n",
    "\n",
    "По боксплоту видно, что даже в «средних» жанрах (например, Role-Playing, Racing, Action) могут встречаться хиты, выходящие далеко за уровень 1 млн копий.\n",
    "\n",
    "**Промежуточный итог:** \n",
    "\n",
    "Если ориентироваться на медианные показатели, наиболее «выгодными» жанрами в актуальном периоде оказываются Shooter, Sports и частично Platform. Тем не менее, в ряде жанров (Action, Role-Playing) тоже встречаются сверхуспешные игры, которые могут серьёзно повышать общую статистику продаж."
   ]
  },
  {
   "cell_type": "markdown",
   "metadata": {},
   "source": [
    "#### Вывод: Исследовательский анализ данных\n",
    "\n",
    "**Период релевантных данных**\n",
    "\n",
    "Данные до 1994 года оказались малочисленными и менее репрезентативными, поэтому для прогноза на 2017 год выбрали актуальный период 2012–2016. Он лучше отражает современные тенденции рынка.\n",
    "\n",
    "**Динамика платформ**\n",
    "\n",
    "Средний срок жизни платформ ~7 лет, но новые поколения (PS4, XOne) показывают рост продаж, тогда как предыдущие (PS3, X360) постепенно теряют популярность.\n",
    "Портативные консоли (3DS) сохраняют свою нишу, особенно в Японии, но в других регионах их продажи снижаются.\n",
    "\n",
    "**Лидеры и потенциально прибыльные платформы**\n",
    "\n",
    "По суммарным продажам за актуальный период выделяются PS4, PS3, X360, 3DS, XOne.\n",
    "Перспективными для релиза новых игр выглядят PS4 и XOne как наиболее современные, а также 3DS при ориентации на портативный сегмент.\n",
    "**\n",
    "Распределение продаж (Boxplot) по платформам**\n",
    "\n",
    "Большинство игр продаётся в скромном диапазоне до 0.5 млн копий, но на каждой платформе есть редкие хиты, достигающие 5–10+ млн. Это подчёркивает неоднородность рынка и важность «звёздных» проектов.\n",
    "\n",
    "**Влияние оценок критиков и пользователей**\n",
    "\n",
    "Корреляция между продажами и рейтингами критиков на популярных платформах (PS4, X360, PS3) умеренно положительная (0.3–0.4).\n",
    "Оценки пользователей на продажи влияют слабо (корреляция около 0), что может указывать на принятие решения о покупке до накопления массовых пользовательских отзывов.\n",
    "\n",
    "**Жанровая структура**\n",
    "\n",
    "По медианным продажам выделяются Shooter и Sports как самые «успешные». Platform, Role-Playing и Action также входят в верхнюю часть рейтинга, но их показатели несколько ниже.\n",
    "Низкие медианные продажи у Adventure и Puzzle указывают на более нишевой спрос и отсутствие большого числа хитов.\n",
    "\n",
    "**Итог:** \n",
    "\n",
    "Рынок компьютерных игр за период 2012–2016 лет характеризуется концентрацией продаж вокруг нескольких популярных платформ и жанров, где наибольшее влияние на коммерческий успех оказывают оценки критиков и редкие бестселлеры. Полученные результаты помогают выделить самые перспективные платформы и жанры для выпуска новых проектов, а также указывают на важность качественного маркетинга и высоких рецензий для стимулирования продаж."
   ]
  },
  {
   "cell_type": "markdown",
   "metadata": {},
   "source": [
    "### Портрет пользователя каждого региона"
   ]
  },
  {
   "cell_type": "markdown",
   "metadata": {},
   "source": [
    "#### Определим для пользователя каждого региона (NA, EU, JP) самые популярные платформы (топ-5).\n",
    "\n",
    "Последовательность действий:\n",
    "\n",
    "1. Разделим продажи по каждому региону: NA (Северная Америка), EU (Европа) и JP (Япония).\n",
    "\n",
    "2. Агрегируем и выберем топ-5: Для каждого региона сгруппируем данные по платформе и вычислим суммарные продажи. \n",
    "\n",
    "3. Построим визуализацию."
   ]
  },
  {
   "cell_type": "code",
   "execution_count": 48,
   "metadata": {},
   "outputs": [
    {
     "name": "stdout",
     "output_type": "stream",
     "text": [
      "Топ-5 платформ в Северной Америке:\n",
      "platform\n",
      "X360    140.05\n",
      "PS4     108.74\n",
      "PS3     103.38\n",
      "XOne     93.12\n",
      "3DS      55.31\n",
      "Name: na_sales, dtype: float64\n"
     ]
    }
   ],
   "source": [
    "# Топ-5 платформ по продажам в Северной Америке\n",
    "top_platforms_na = (\n",
    "    actual_period.groupby('platform')['na_sales']\n",
    "    .sum()\n",
    "    .sort_values(ascending=False)\n",
    "    .head(5)\n",
    ")\n",
    "\n",
    "print('Топ-5 платформ в Северной Америке:')\n",
    "print(top_platforms_na)"
   ]
  },
  {
   "cell_type": "code",
   "execution_count": 49,
   "metadata": {},
   "outputs": [
    {
     "name": "stdout",
     "output_type": "stream",
     "text": [
      "Топ-5 платформ в Европе:\n",
      "platform\n",
      "PS4     141.09\n",
      "PS3     106.85\n",
      "X360     74.52\n",
      "XOne     51.59\n",
      "3DS      42.64\n",
      "Name: eu_sales, dtype: float64\n"
     ]
    }
   ],
   "source": [
    "# Топ-5 платформ по продажам в Европе\n",
    "top_platforms_eu = (\n",
    "    actual_period.groupby('platform')['eu_sales']\n",
    "    .sum()\n",
    "    .sort_values(ascending=False)\n",
    "    .head(5)\n",
    ")\n",
    "\n",
    "print('Топ-5 платформ в Европе:')\n",
    "print(top_platforms_eu)"
   ]
  },
  {
   "cell_type": "code",
   "execution_count": 50,
   "metadata": {},
   "outputs": [
    {
     "name": "stdout",
     "output_type": "stream",
     "text": [
      "Топ-5 платформ в Японии:\n",
      "platform\n",
      "3DS     87.79\n",
      "PS3     35.29\n",
      "PSV     21.04\n",
      "PS4     15.96\n",
      "WiiU    13.01\n",
      "Name: jp_sales, dtype: float64\n"
     ]
    }
   ],
   "source": [
    "# Топ-5 платформ по продажам в Японии\n",
    "top_platforms_jp = (\n",
    "    actual_period.groupby('platform')['jp_sales']\n",
    "    .sum()\n",
    "    .sort_values(ascending=False)\n",
    "    .head(5)\n",
    ")\n",
    "\n",
    "print('Топ-5 платформ в Японии:')\n",
    "print(top_platforms_jp)"
   ]
  },
  {
   "cell_type": "code",
   "execution_count": 51,
   "metadata": {},
   "outputs": [],
   "source": [
    "top_platforms = [top_platforms_na, top_platforms_eu, top_platforms_jp]"
   ]
  },
  {
   "cell_type": "code",
   "execution_count": 52,
   "metadata": {},
   "outputs": [
    {
     "data": {
      "image/png": "[encoded data removed]",
      "text/plain": [
       "<Figure size 1728x576 with 3 Axes>"
      ]
     },
     "metadata": {},
     "output_type": "display_data"
    }
   ],
   "source": [
    "regions = ['Северная Америка', 'Европа', 'Япония']\n",
    "fig, axes = plt.subplots(1, 3, figsize=(24, 8))\n",
    "\n",
    "for ax, platform_data, region in zip(axes, top_platforms, regions):\n",
    "    ax.pie(\n",
    "        platform_data,\n",
    "        labels=platform_data.index,\n",
    "        autopct='%1.1f%%',\n",
    "        startangle=140\n",
    "    )\n",
    "    ax.set_title(f'Топ-5 платформ в {region}', fontsize=16)\n",
    "\n",
    "plt.suptitle('Топ-5 Платформ по Продажам в Разных Регионах', fontsize=20)\n",
    "\n",
    "for ax in axes:\n",
    "    ax.axis('equal')  \n",
    "\n",
    "plt.show()"
   ]
  },
  {
   "cell_type": "markdown",
   "metadata": {},
   "source": [
    "* Самой популярной платформой в Северной Америке оказался 'Xbox360';\n",
    "* Самой популярной платформой в Европе оказалась 'PlayStation4';\n",
    "* Самой популярной платформой в Японии оказалась 'Nintendo 3DS';\n",
    "* Во всех регионах 'PlayStation3' входит в **топ-3** по популярности."
   ]
  },
  {
   "cell_type": "markdown",
   "metadata": {},
   "source": [
    "#### Определим для пользователя каждого региона (NA, EU, JP) самые популярные жанры (топ-5)"
   ]
  },
  {
   "cell_type": "code",
   "execution_count": 53,
   "metadata": {
    "scrolled": true
   },
   "outputs": [
    {
     "name": "stdout",
     "output_type": "stream",
     "text": [
      "Топ-5 жанров в Северной Америке:\n",
      "genre\n",
      "Action          177.84\n",
      "Shooter         144.77\n",
      "Sports           81.53\n",
      "Role-Playing     64.00\n",
      "Misc             38.19\n",
      "Name: na_sales, dtype: float64\n"
     ]
    }
   ],
   "source": [
    "top_genres_na = (\n",
    "    actual_period.groupby('genre')['na_sales']\n",
    "    .sum()\n",
    "    .sort_values(ascending=False)\n",
    "    .head(5)\n",
    ")\n",
    "print('Топ-5 жанров в Северной Америке:')\n",
    "print(top_genres_na)\n"
   ]
  },
  {
   "cell_type": "code",
   "execution_count": 54,
   "metadata": {},
   "outputs": [
    {
     "name": "stdout",
     "output_type": "stream",
     "text": [
      "Топ-5 жанров в Европе:\n",
      "genre\n",
      "Action          177.84\n",
      "Shooter         144.77\n",
      "Sports           81.53\n",
      "Role-Playing     64.00\n",
      "Misc             38.19\n",
      "Name: na_sales, dtype: float64\n"
     ]
    }
   ],
   "source": [
    "top_genres_eu = (\n",
    "    actual_period.groupby('genre')['eu_sales']\n",
    "    .sum()\n",
    "    .sort_values(ascending=False)\n",
    "    .head(5)\n",
    ")\n",
    "print('Топ-5 жанров в Европе:')\n",
    "print(top_genres_na)\n"
   ]
  },
  {
   "cell_type": "code",
   "execution_count": 55,
   "metadata": {},
   "outputs": [
    {
     "name": "stdout",
     "output_type": "stream",
     "text": [
      "Топ-5 жанров в Японии:\n",
      "genre\n",
      "Action          177.84\n",
      "Shooter         144.77\n",
      "Sports           81.53\n",
      "Role-Playing     64.00\n",
      "Misc             38.19\n",
      "Name: na_sales, dtype: float64\n"
     ]
    }
   ],
   "source": [
    "top_genres_jp = (\n",
    "    actual_period.groupby('genre')['jp_sales']\n",
    "    .sum()\n",
    "    .sort_values(ascending=False)\n",
    "    .head(5)\n",
    ")\n",
    "print('Топ-5 жанров в Японии:')\n",
    "print(top_genres_na)\n"
   ]
  },
  {
   "cell_type": "code",
   "execution_count": 56,
   "metadata": {},
   "outputs": [],
   "source": [
    "top_genres = [top_genres_na, top_genres_eu, top_genres_jp]"
   ]
  },
  {
   "cell_type": "code",
   "execution_count": 57,
   "metadata": {},
   "outputs": [
    {
     "data": {
      "image/png": "[encoded data removed]",
      "text/plain": [
       "<Figure size 1728x576 with 3 Axes>"
      ]
     },
     "metadata": {},
     "output_type": "display_data"
    }
   ],
   "source": [
    "regions = ['Северная Америка', 'Европа', 'Япония']\n",
    "fig, axes = plt.subplots(1, 3, figsize=(24, 8))\n",
    "\n",
    "for ax, genre_data, region in zip(axes, top_genres, regions):\n",
    "    ax.pie(\n",
    "        genre_data,\n",
    "        labels=genre_data.index,\n",
    "        autopct='%1.1f%%',\n",
    "        startangle=140\n",
    "    )\n",
    "    ax.set_title(f'Топ-5 жанров в {region}', fontsize=16)\n",
    "\n",
    "plt.suptitle('Топ-5 Жанров по Продажам в Разных Регионах', fontsize=20)\n",
    "\n",
    "for ax in axes:\n",
    "    ax.axis('equal')  \n",
    "\n",
    "plt.show()"
   ]
  },
  {
   "cell_type": "markdown",
   "metadata": {},
   "source": [
    "* Топ-3 позиции в Америке и Европе совпадают, видимо целевая аудитория в этих регионах достаточно схожа.\n",
    "* В Японии Role-Playing стоит на первом месте, потеснив Action и Sports. \n",
    "* В целом можно считать жанр Action абсолютным лидером продаж вне зависимости от региона."
   ]
  },
  {
   "cell_type": "markdown",
   "metadata": {},
   "source": [
    "#### Определим влияет ли рейтинг ESRB на продажи в отдельном регионе?"
   ]
  },
  {
   "cell_type": "code",
   "execution_count": 58,
   "metadata": {},
   "outputs": [
    {
     "name": "stdout",
     "output_type": "stream",
     "text": [
      "Распределение продаж по ESRB для NA:\n",
      "rating\n",
      "M          231.57\n",
      "E          114.37\n",
      "Unknown    103.31\n",
      "E10+        75.70\n",
      "T           66.02\n",
      "Name: na_sales, dtype: float64 \n",
      "\n",
      "Распределение продаж по ESRB для EU:\n",
      "rating\n",
      "M          193.96\n",
      "E          113.02\n",
      "Unknown     91.50\n",
      "E10+        55.37\n",
      "T           52.96\n",
      "Name: eu_sales, dtype: float64 \n",
      "\n",
      "Распределение продаж по ESRB для JP:\n",
      "rating\n",
      "Unknown    108.84\n",
      "E           28.33\n",
      "T           26.02\n",
      "M           21.20\n",
      "E10+         8.19\n",
      "Name: jp_sales, dtype: float64 \n",
      "\n"
     ]
    }
   ],
   "source": [
    "esrb_na = (\n",
    "    actual_period.groupby('rating')['na_sales']\n",
    "    .sum()\n",
    "    .sort_values(ascending=False)\n",
    ")\n",
    "esrb_eu = (\n",
    "    actual_period.groupby('rating')['eu_sales']\n",
    "    .sum()\n",
    "    .sort_values(ascending=False)\n",
    ")\n",
    "esrb_jp = (\n",
    "    actual_period.groupby('rating')['jp_sales']\n",
    "    .sum()\n",
    "    .sort_values(ascending=False)\n",
    ")\n",
    "\n",
    "print('Распределение продаж по ESRB для NA:')\n",
    "print(esrb_na, '\\n')\n",
    "print('Распределение продаж по ESRB для EU:')\n",
    "print(esrb_eu, '\\n')\n",
    "print('Распределение продаж по ESRB для JP:')\n",
    "print(esrb_jp, '\\n')"
   ]
  },
  {
   "cell_type": "markdown",
   "metadata": {},
   "source": [
    "Расшифровка кодировки возрастных рейтингов:\n",
    "* `«E» («Everyone»)` — «Для всех». Содержание вполне подходит для всех возрастов.\n",
    "* `«E10+»` — «Для всех от 10 лет и старше»\n",
    "* `«T» («Teen»)` — «Подросткам»: Игра подходит для лиц от 13 лет.\n",
    "* `«M» («Mature»)` — «Для взрослых»: Материалы игры не подходят для лиц младше 17 лет.\n",
    "\n",
    "**Промежуточные выводы:**\n",
    "\n",
    "1. **Северная Америка и Европа:**\n",
    "\n",
    "* **Доминирующие Рейтинги:** \n",
    "В обоих регионах наибольшие продажи достигают рейтингов M и E. Это свидетельствует о высоком спросе как на игры для взрослых, так и на игры, подходящие для широкой аудитории.\n",
    "* **Категория Unknown:**\n",
    "Значительное количество продаж игр с рейтингом Unknown указывает на наличие игр без официальной классификации ESRB или использование альтернативных рейтинговых систем.\n",
    "* **Рейтинги E10+ и T:**\n",
    "Эти категории также показывают устойчивый интерес, но в меньших объёмах по сравнению с M и E.\n",
    "\n",
    "2. **Япония:**\n",
    "\n",
    "* **Преобладание Unknown:** \n",
    "В Японии основная доля продаж приходится на игры с рейтингом Unknown, что объясняется использованием другой рейтинговой системы (например, CERO) и тем, что ESRB предназначен преимущественно для Северной Америки и Канады.\n",
    "* **Низкие Продажи по Остальным Рейтингам:** \n",
    "Продажи по рейтингам E, T, M и E10+ значительно ниже, что может свидетельствовать о специфике японского рынка и предпочтениях аудитории.\n",
    "\n",
    "3. **Стабильность и Устойчивость Спроса:**\n",
    "\n",
    "* **Устойчивые Жанры:**\n",
    "Рейтинги M и E демонстрируют как высокие суммарные, так и медианные продажи в Северной Америке и Европе, что указывает на стабильный спрос и надежность этих категорий независимо от платформы и отдельных релизов.\n",
    "\n",
    "* **Зависимость от Рейтинговых Систем:**\n",
    "Высокий процент Unknown в Японии подчеркивает необходимость учета региональных особенностей рейтинговых систем для точного анализа влияния рейтинга на продажи.\n"
   ]
  },
  {
   "cell_type": "markdown",
   "metadata": {},
   "source": [
    "### Составление гипотез"
   ]
  },
  {
   "cell_type": "markdown",
   "metadata": {},
   "source": [
    "#### Гипотеза: «Средние пользовательские рейтинги (user_score) платформ Xbox One и PC одинаковые»"
   ]
  },
  {
   "cell_type": "markdown",
   "metadata": {},
   "source": [
    "**Описание:**\n",
    "Необходимо проверить, равны ли средние пользовательские рейтинги (user_score) игр на платформах Xbox One и PC.\n",
    "\n",
    "**Формулировка гипотез:**\n",
    "\n",
    "Нулевая гипотеза (H₀): Средний пользовательский рейтинг на Xbox One равен среднему пользовательскому рейтингу на PC.\n",
    "\n",
    " \n",
    "Альтернативная гипотеза (H₁): Средний пользовательский рейтинг на Xbox One отличается от среднего пользовательского рейтинга на PC.\n",
    " \n",
    "**Выбор статистического теста:**\n",
    "Применяем t-тест для двух независимых выборок (двусторонний), так как нужно сравнить два массива числовых значений (рейтинги на разных платформах) и оценить, отличаются ли их средние."
   ]
  },
  {
   "cell_type": "code",
   "execution_count": 60,
   "metadata": {},
   "outputs": [],
   "source": [
    "xone_data = actual_period.query(\"platform == 'XOne'\")['user_score'].dropna()\n",
    "pc_data = actual_period.query(\"platform == 'PC'\")['user_score'].dropna()"
   ]
  },
  {
   "cell_type": "code",
   "execution_count": 61,
   "metadata": {},
   "outputs": [
    {
     "name": "stdout",
     "output_type": "stream",
     "text": [
      "p-значение: 0.5489537965134912\n",
      "Не отвергаем нулевую гипотезу.\n"
     ]
    }
   ],
   "source": [
    "alpha = 0.05  # Уровень значимости\n",
    "\n",
    "results = st.ttest_ind(xone_data, pc_data, equal_var=False)  # equal_var=False, если дисперсии сильно различаются\n",
    "\n",
    "print('p-значение:', results.pvalue)\n",
    "\n",
    "if results.pvalue < alpha:\n",
    "    print('Отвергаем нулевую гипотезу.')\n",
    "else:\n",
    "    print('Не отвергаем нулевую гипотезу.')"
   ]
  },
  {
   "cell_type": "markdown",
   "metadata": {},
   "source": [
    "Полученное p-значение (≈0.549) существенно выше выбранного уровня значимости α=0.05.\n",
    "Следовательно, нет оснований отвергать нулевую гипотезу.\n",
    "\n",
    "**Интерпретация:** Средние пользовательские рейтинги игр на платформах Xbox One и PC не обнаружили статистически значимых отличий и, с учётом данных, можно считать их равными."
   ]
  },
  {
   "cell_type": "markdown",
   "metadata": {},
   "source": [
    "#### Гипотеза: «Средние пользовательские рейтинги жанров Action и Sports разные»"
   ]
  },
  {
   "cell_type": "markdown",
   "metadata": {},
   "source": [
    "**Описание:**\n",
    "Необходимо проверить, различаются ли средние пользовательские рейтинги (user_score) игр жанров Action и Sports.\n",
    "\n",
    "**Формулировка гипотез:**\n",
    "\n",
    "Нулевая гипотеза (H₀): Средние пользовательские рейтинги игр жанров Action не выше и не ниже средних рейтингов игр жанра Sports, то есть они равны.\n",
    "\n",
    "Альтернативная гипотеза (H₁): Средние пользовательские рейтинги игр жанра Action отличаются от средних рейтингов игр жанра Sports.\n",
    " \n",
    "**Выбор статистического теста:**\n",
    "Аналогично, используем t-тест Стьюдента для двух независимых выборок (двусторонний), поскольку сравниваются средние значения в двух не пересекающихся группах (Action vs Sports)."
   ]
  },
  {
   "cell_type": "code",
   "execution_count": 62,
   "metadata": {},
   "outputs": [],
   "source": [
    "action_data = actual_period.query(\"genre == 'Action'\")['user_score'].dropna()\n",
    "sports_data = actual_period.query(\"genre == 'Sports'\")['user_score'].dropna()"
   ]
  },
  {
   "cell_type": "code",
   "execution_count": 63,
   "metadata": {},
   "outputs": [
    {
     "name": "stdout",
     "output_type": "stream",
     "text": [
      "p-значение: 5.989458066467418e-20\n",
      "Отвергаем нулевую гипотезу.\n"
     ]
    }
   ],
   "source": [
    "alpha = 0.05\n",
    "\n",
    "results = st.ttest_ind(action_data, sports_data, equal_var=False)\n",
    "\n",
    "print('p-значение:', results.pvalue)\n",
    "\n",
    "if results.pvalue < alpha:\n",
    "    print('Отвергаем нулевую гипотезу.')\n",
    "else:\n",
    "    print('Не отвергаем нулевую гипотезу.')"
   ]
  },
  {
   "cell_type": "markdown",
   "metadata": {},
   "source": [
    "Полученное p-значение (≈5.99e-20) намного меньше уровня значимости α=0.05.\n",
    "Следовательно, отвергаем нулевую гипотезу о равенстве средних пользовательских рейтингов жанров Action и Sports.\n",
    "\n",
    "**Интерпретация:** Средние пользовательские рейтинги игр жанра Action статистически значимо отличаются от средних рейтингов игр жанра Sports."
   ]
  },
  {
   "cell_type": "markdown",
   "metadata": {},
   "source": [
    "### Общий вывод"
   ]
  },
  {
   "cell_type": "markdown",
   "metadata": {},
   "source": [
    "1. ***Обзор и Описание Данных***\n",
    "\n",
    "В распоряжении были данные о компьютерных играх, включающие:\n",
    "\n",
    "* Названия игр, платформы, годы выпуска и жанры;\n",
    "* Продажи по регионам (NA, EU, JP, Other);\n",
    "* Оценки критиков и пользователей (Critic_Score, User_Score);\n",
    "* Рейтинг ESRB (Rating).\n",
    "Первичный анализ показал, что в ряде столбцов присутствуют пропуски (в годе релиза, рейтингах ESRB, оценках). Также было выявлено, что `User_Score` изначально хранится в типе `object` и содержит строку `'tbd'`, которую интерпретировали как отсутствие данных.\n",
    "\n",
    "2. ***Предобработка и Очистка Данных***\n",
    "\n",
    "**Приведение столбцов к единому формату:**\n",
    "\n",
    "* Перевод названий колонок в нижний регистр.\n",
    "* Преобразование year_of_release в целочисленный (Int64).\n",
    "* Замена 'tbd' в user_score на NaN, перевод столбца в формат float.\n",
    "\n",
    "**Работа с пропусками:**\n",
    "\n",
    "* Удалены строки с пустыми значениями в name и genre, а также строки, где не заполнен year_of_release (около 1,6% датасета) — они часто совпадали с отсутствием оценок и рейтингов, что снижало ценность для анализа.\n",
    "* Оставлены пропуски в critic_score и user_score в формате NaN для избежания искажений при статистических расчётах.\n",
    "* В столбце rating пропущенные значения заменены на 'Unknown', поскольку многие игры не имеют рейтинга ESRB (особенно в Японии).\n",
    "\n",
    "**Проверка дубликатов:**\n",
    "\n",
    "* Явные дубликаты не обнаружены.\n",
    "* Неявные дубликаты по сочетанию name + platform + year_of_release (2 пары) удалены.\n",
    "\n",
    "**Создание нового столбца:**\n",
    "\n",
    "* Добавлен total_sales, суммирующий продажи везде: na_sales + eu_sales + jp_sales + other_sales.\n",
    "\n",
    "**Итог предобработки:** Датасет очищен от заведомо некорректных записей и лишних дубликатов; пропуски в оценках сохранены как NaN, чтобы не искажать распределения. Данные готовы к исследовательскому анализу.\n",
    "\n",
    "3. ***Исследовательский Анализ Данных***\n",
    "\n",
    "**Определение Актуального Периода**\n",
    "\n",
    "* Данные до 1994 года малочисленны и не отражают современные реалии. Для прогноза на 2017 год выделен период 2012–2016, где чётко видны тренды.\n",
    "\n",
    "**Динамика Платформ**\n",
    "\n",
    "* Средний срок жизни платформ ~7 лет (по минимальному и максимальному годам релиза).\n",
    "* В актуальном периоде (2012–2016) доминируют PS4, PS3, X360, 3DS, XOne.\n",
    "* Новые поколения (PS4, XOne) показывают рост продаж, в то время как старые (PS3, X360) постепенно теряют популярность. 3DS удерживает нишу портативных консолей, особенно в Японии.\n",
    "\n",
    "**Распределение Продаж (Boxplot) по Платформам**\n",
    "\n",
    "* Большинство игр продаётся в пределах до 0.5 млн копий, но на каждой платформе имеются «хиты» (5–10+ млн), существенно поднимающие совокупные показатели.\n",
    "* Это подчёркивает высокую неоднородность рынка: успех отдельных AAA-проектов сильно влияет на статистику.\n",
    "\n",
    "**Влияние Оценок Критиков и Пользователей**\n",
    "\n",
    "* На популярных платформах (PS4, X360, PS3) корреляция продаж с оценками критиков умеренно положительная (~0.3–0.4).\n",
    "* Пользовательские оценки оказывают слабое влияние (корреляция около 0), что может объясняться поздним формированием отзывов или переоценкой рекламы и «именитости» игры до релиза.\n",
    "\n",
    "**Жанровая Структура**\n",
    "\n",
    "* По медианным продажам среди лидеров: Shooter, Sports, Platform.\n",
    "* Низкие показатели у жанров Puzzle, Adventure — нишевые продажи, мало хитов.\n",
    "* Тем не менее, даже «середняки» (Action, Role-Playing) могут давать одиночные релизы с большими продажами.\n",
    "\n",
    "4. ***Портрет Пользователя в Регионах (NA, EU, JP)***\n",
    "\n",
    "**Популярные Платформы**\n",
    "\n",
    "* NA: X360 (лидер), PS4, PS3, XOne, 3DS.\n",
    "* EU: PS4 (лидер), PS3, X360, XOne, 3DS.\n",
    "* JP: доминирует 3DS, затем PS3, PSV, PS4, WiiU.\n",
    "\n",
    "**Популярные Жанры**\n",
    "\n",
    "* NA и EU: Action, Shooter и Sports лидируют; Role-Playing и Racing — следом.\n",
    "* JP: Role-Playing на первом месте, затем Action; меньше интереса к Shooter и Sports.\n",
    "\n",
    "**Влияние ESRB**\n",
    "\n",
    "* В NA и EU высокие продажи у игр рейтингов M и E, тогда как E10+ и T занимают меньшую долю.\n",
    "* В JP многие игры имеют статус Unknown (используют японскую систему CERO вместо ESRB).\n",
    "\n",
    "5. ***Проверка Гипотез***\n",
    "\n",
    "**Средние пользовательские рейтинги (user_score) Xbox One и PC**\n",
    "\n",
    "* Нулевая гипотеза (H₀): Средние рейтинги XOne = PC.\n",
    "* Альтернативная (H₁): Средние рейтинги XOne ≠ PC.\n",
    "* Результат t-теста (p-value ≈ 0.55) > 0.05: не отвергаем H₀, статистически значимых отличий не найдено.\n",
    "\n",
    "**Средние пользовательские рейтинги (user_score) жанров Action и Sports**\n",
    "\n",
    "* Нулевая гипотеза (H₀): Средние рейтинги Action = Sports.\n",
    "* Альтернативная (H₁): Средние рейтинги Action ≠ Sports.\n",
    "* Результат t-теста (p-value ≈ 6e-20) < 0.05: отвергаем H₀, средние рейтинги этих жанров различаются.\n",
    "\n",
    "6. ***Общий Вывод и Рекомендации***\n",
    "\n",
    "**Основные Тенденции**\n",
    "\n",
    "* За период 2012–2016 рынок сосредоточен вокруг нескольких ведущих платформ (PS4, PS3, X360, 3DS, XOne), при этом новые поколения (PS4, XOne) растут, старые снижаются.\n",
    "* Объёмы продаж сильно зависят от отдельных AAA-релизов («хиты»), а базовые показатели большинства игр довольно низкие.\n",
    "\n",
    "**Жанры и Регионы**\n",
    "\n",
    "* Action, Shooter, Sports в NA и EU занимают топовые места, в то время как в Японии фаворит — Role-Playing и портативные консоли.\n",
    "* ESRB-рейтинг «M» (для взрослых) и «E» (для всех) лидируют в Северной Америке и Европе, указывая на широкую аудиторию и высокую популярность «взрослых» игр.\n",
    "\n",
    "**Оценки и Продвижение**\n",
    "\n",
    "* Оценки критиков заметно влияют на продажи, особенно на старте; пользовательские отзывы менее значимы при принятии решения о покупке.\n",
    "* Качественный маркетинг и поддержка со стороны профессиональных рецензентов (Metacritic, профильные СМИ) могут давать существенный прирост продаж.\n",
    "\n",
    "**Гипотезы**\n",
    "\n",
    "* Средние пользовательские рейтинги XOne и PC не показали значимых различий (p-value > 0.05).\n",
    "* Средние пользовательские рейтинги жанров Action и Sports статистически различаются (p-value < 0.05).\n",
    "\n",
    "**Рекомендации**\n",
    "\n",
    "* Приоритетные платформы: инвестировать в PS4 и XOne, учитывая их возрастающую аудиторию; для японского рынка — 3DS.\n",
    "* Жанровый фокус: Action и Shooter наиболее прибыльны в глобальном масштабе; Role-Playing — ключ к японской аудитории.\n",
    "* Маркетинг и Критики: стремиться к высоким оценкам критиков перед релизом, так как они значимо коррелируют с продажами.\n",
    "* Региональная адаптация: учитывать особенности рейтинговых систем (ESRB vs CERO) и популярность портативных устройств в Японии."
   ]
  }
 ],
 "metadata": {
  "ExecuteTimeLog": [
   {
    "duration": 1317,
    "start_time": "2025-01-22T20:02:53.437Z"
   },
   {
    "duration": 108,
    "start_time": "2025-01-22T20:04:09.033Z"
   },
   {
    "duration": 3,
    "start_time": "2025-01-22T20:04:11.088Z"
   },
   {
    "duration": 54,
    "start_time": "2025-01-22T20:04:11.385Z"
   },
   {
    "duration": 15,
    "start_time": "2025-01-22T20:05:34.250Z"
   },
   {
    "duration": 16,
    "start_time": "2025-01-22T20:05:41.480Z"
   },
   {
    "duration": 14,
    "start_time": "2025-01-22T20:18:45.395Z"
   },
   {
    "duration": 5,
    "start_time": "2025-01-22T20:31:20.381Z"
   },
   {
    "duration": 14,
    "start_time": "2025-01-22T20:31:33.416Z"
   },
   {
    "duration": 11,
    "start_time": "2025-01-22T20:33:17.338Z"
   },
   {
    "duration": 9,
    "start_time": "2025-01-22T20:33:21.989Z"
   },
   {
    "duration": 6,
    "start_time": "2025-01-22T20:37:46.448Z"
   },
   {
    "duration": 9,
    "start_time": "2025-01-22T20:37:49.095Z"
   },
   {
    "duration": 5,
    "start_time": "2025-01-22T20:42:39.110Z"
   },
   {
    "duration": 9,
    "start_time": "2025-01-22T20:42:43.235Z"
   },
   {
    "duration": 6,
    "start_time": "2025-01-22T20:43:14.344Z"
   },
   {
    "duration": 10,
    "start_time": "2025-01-22T20:43:16.160Z"
   },
   {
    "duration": 5,
    "start_time": "2025-01-22T20:43:28.866Z"
   },
   {
    "duration": 6,
    "start_time": "2025-01-22T20:44:06.994Z"
   },
   {
    "duration": 6,
    "start_time": "2025-01-22T20:44:29.272Z"
   },
   {
    "duration": 8,
    "start_time": "2025-01-22T20:44:47.213Z"
   },
   {
    "duration": 14,
    "start_time": "2025-01-22T20:45:07.885Z"
   },
   {
    "duration": 6,
    "start_time": "2025-01-22T20:45:19.374Z"
   },
   {
    "duration": 6,
    "start_time": "2025-01-22T20:45:23.470Z"
   },
   {
    "duration": 7,
    "start_time": "2025-01-22T20:45:47.408Z"
   },
   {
    "duration": 5,
    "start_time": "2025-01-22T20:45:48.280Z"
   },
   {
    "duration": 9,
    "start_time": "2025-01-22T20:45:49.300Z"
   },
   {
    "duration": 8,
    "start_time": "2025-01-22T20:46:03.941Z"
   },
   {
    "duration": 104,
    "start_time": "2025-01-22T20:46:17.021Z"
   },
   {
    "duration": 16,
    "start_time": "2025-01-22T20:46:49.316Z"
   },
   {
    "duration": 6,
    "start_time": "2025-01-22T20:49:39.496Z"
   },
   {
    "duration": 11,
    "start_time": "2025-01-22T20:49:40.966Z"
   },
   {
    "duration": 4,
    "start_time": "2025-01-22T20:50:51.545Z"
   },
   {
    "duration": 5,
    "start_time": "2025-01-22T20:51:41.646Z"
   },
   {
    "duration": 4,
    "start_time": "2025-01-22T20:51:47.887Z"
   },
   {
    "duration": 21,
    "start_time": "2025-01-22T20:52:57.656Z"
   },
   {
    "duration": 51,
    "start_time": "2025-01-23T07:28:16.046Z"
   },
   {
    "duration": 1380,
    "start_time": "2025-01-23T07:28:24.708Z"
   },
   {
    "duration": 112,
    "start_time": "2025-01-23T07:28:26.090Z"
   },
   {
    "duration": 19,
    "start_time": "2025-01-23T07:28:26.204Z"
   },
   {
    "duration": 28,
    "start_time": "2025-01-23T07:28:26.225Z"
   },
   {
    "duration": 15,
    "start_time": "2025-01-23T07:28:26.255Z"
   },
   {
    "duration": 22,
    "start_time": "2025-01-23T07:28:26.272Z"
   },
   {
    "duration": 9,
    "start_time": "2025-01-23T07:28:26.296Z"
   },
   {
    "duration": 5,
    "start_time": "2025-01-23T07:28:26.307Z"
   },
   {
    "duration": 37,
    "start_time": "2025-01-23T07:28:26.313Z"
   },
   {
    "duration": 28,
    "start_time": "2025-01-23T07:28:26.352Z"
   },
   {
    "duration": 360,
    "start_time": "2025-01-23T07:28:26.383Z"
   },
   {
    "duration": 8,
    "start_time": "2025-01-23T07:33:00.126Z"
   },
   {
    "duration": 5,
    "start_time": "2025-01-23T07:33:35.667Z"
   },
   {
    "duration": 6,
    "start_time": "2025-01-23T07:33:43.252Z"
   },
   {
    "duration": 115,
    "start_time": "2025-01-23T07:33:48.188Z"
   },
   {
    "duration": 5,
    "start_time": "2025-01-23T07:33:56.903Z"
   },
   {
    "duration": 10,
    "start_time": "2025-01-23T07:34:30.550Z"
   },
   {
    "duration": 12,
    "start_time": "2025-01-23T07:35:32.161Z"
   },
   {
    "duration": 7,
    "start_time": "2025-01-23T07:35:33.882Z"
   },
   {
    "duration": 262,
    "start_time": "2025-01-23T07:35:42.208Z"
   },
   {
    "duration": 369,
    "start_time": "2025-01-23T07:36:19.378Z"
   },
   {
    "duration": 345,
    "start_time": "2025-01-23T07:36:49.994Z"
   },
   {
    "duration": 405,
    "start_time": "2025-01-23T07:37:53.268Z"
   },
   {
    "duration": 26,
    "start_time": "2025-01-23T08:37:19.439Z"
   },
   {
    "duration": 7,
    "start_time": "2025-01-23T08:37:34.904Z"
   },
   {
    "duration": 8,
    "start_time": "2025-01-23T08:39:34.353Z"
   },
   {
    "duration": 251,
    "start_time": "2025-01-23T08:40:19.731Z"
   },
   {
    "duration": 251,
    "start_time": "2025-01-23T08:40:55.883Z"
   },
   {
    "duration": 265,
    "start_time": "2025-01-23T08:41:00.427Z"
   },
   {
    "duration": 274,
    "start_time": "2025-01-23T08:41:04.552Z"
   },
   {
    "duration": 692,
    "start_time": "2025-01-23T08:41:12.038Z"
   },
   {
    "duration": 376,
    "start_time": "2025-01-23T08:41:19.912Z"
   },
   {
    "duration": 7,
    "start_time": "2025-01-23T12:00:41.918Z"
   },
   {
    "duration": 11,
    "start_time": "2025-01-23T12:01:09.668Z"
   },
   {
    "duration": 8,
    "start_time": "2025-01-23T12:01:29.050Z"
   },
   {
    "duration": 369,
    "start_time": "2025-01-23T12:01:35.829Z"
   },
   {
    "duration": 8,
    "start_time": "2025-01-23T12:02:12.596Z"
   },
   {
    "duration": 7,
    "start_time": "2025-01-23T12:03:24.784Z"
   },
   {
    "duration": 12,
    "start_time": "2025-01-23T12:03:38.700Z"
   },
   {
    "duration": 8,
    "start_time": "2025-01-23T12:03:42.766Z"
   },
   {
    "duration": 8,
    "start_time": "2025-01-23T12:03:46.920Z"
   },
   {
    "duration": 9,
    "start_time": "2025-01-23T12:04:00.555Z"
   },
   {
    "duration": 14,
    "start_time": "2025-01-23T12:04:16.631Z"
   },
   {
    "duration": 1526,
    "start_time": "2025-01-23T12:04:49.052Z"
   },
   {
    "duration": 1294,
    "start_time": "2025-01-23T12:08:58.190Z"
   },
   {
    "duration": 9,
    "start_time": "2025-01-23T12:21:00.655Z"
   },
   {
    "duration": 7,
    "start_time": "2025-01-23T12:21:55.942Z"
   },
   {
    "duration": 11,
    "start_time": "2025-01-23T12:22:24.060Z"
   },
   {
    "duration": 75,
    "start_time": "2025-01-23T12:25:09.935Z"
   },
   {
    "duration": 105,
    "start_time": "2025-01-23T12:27:36.777Z"
   },
   {
    "duration": 85,
    "start_time": "2025-01-23T12:27:48.027Z"
   },
   {
    "duration": 279,
    "start_time": "2025-01-23T12:27:51.585Z"
   },
   {
    "duration": 16,
    "start_time": "2025-01-23T12:28:58.635Z"
   },
   {
    "duration": 16,
    "start_time": "2025-01-23T12:29:02.627Z"
   },
   {
    "duration": 78,
    "start_time": "2025-01-23T12:29:26.370Z"
   },
   {
    "duration": 16,
    "start_time": "2025-01-23T12:29:36.120Z"
   },
   {
    "duration": 277,
    "start_time": "2025-01-23T12:31:37.895Z"
   },
   {
    "duration": 11,
    "start_time": "2025-01-23T12:31:51.007Z"
   },
   {
    "duration": 272,
    "start_time": "2025-01-23T12:31:52.355Z"
   },
   {
    "duration": 224,
    "start_time": "2025-01-23T12:32:05.778Z"
   },
   {
    "duration": 207,
    "start_time": "2025-01-23T12:32:11.690Z"
   },
   {
    "duration": 16,
    "start_time": "2025-01-23T12:32:32.660Z"
   },
   {
    "duration": 13,
    "start_time": "2025-01-23T12:32:42.112Z"
   },
   {
    "duration": 30,
    "start_time": "2025-01-23T12:32:49.342Z"
   },
   {
    "duration": 163,
    "start_time": "2025-01-23T12:35:13.136Z"
   },
   {
    "duration": 755,
    "start_time": "2025-01-23T13:57:06.195Z"
   },
   {
    "duration": 736,
    "start_time": "2025-01-23T16:40:52.975Z"
   },
   {
    "duration": 1069,
    "start_time": "2025-01-23T16:42:55.771Z"
   },
   {
    "duration": 1076,
    "start_time": "2025-01-23T16:43:24.732Z"
   },
   {
    "duration": 982,
    "start_time": "2025-01-23T16:44:35.723Z"
   },
   {
    "duration": 859,
    "start_time": "2025-01-23T16:44:41.966Z"
   },
   {
    "duration": 310,
    "start_time": "2025-01-23T16:46:34.406Z"
   },
   {
    "duration": 319,
    "start_time": "2025-01-23T16:47:00.806Z"
   },
   {
    "duration": 196,
    "start_time": "2025-01-23T16:47:12.041Z"
   },
   {
    "duration": 776,
    "start_time": "2025-01-23T16:47:50.892Z"
   },
   {
    "duration": 796,
    "start_time": "2025-01-23T16:49:56.769Z"
   },
   {
    "duration": 844,
    "start_time": "2025-01-23T16:50:13.113Z"
   },
   {
    "duration": 760,
    "start_time": "2025-01-23T16:50:27.439Z"
   },
   {
    "duration": 766,
    "start_time": "2025-01-23T16:50:57.216Z"
   },
   {
    "duration": 777,
    "start_time": "2025-01-23T16:51:52.185Z"
   },
   {
    "duration": 296,
    "start_time": "2025-01-23T16:55:04.950Z"
   },
   {
    "duration": 5,
    "start_time": "2025-01-23T16:55:43.800Z"
   },
   {
    "duration": 276,
    "start_time": "2025-01-23T16:55:51.286Z"
   },
   {
    "duration": 783,
    "start_time": "2025-01-23T16:56:36.423Z"
   },
   {
    "duration": 781,
    "start_time": "2025-01-23T16:56:45.753Z"
   },
   {
    "duration": 836,
    "start_time": "2025-01-23T16:57:34.519Z"
   },
   {
    "duration": 817,
    "start_time": "2025-01-23T16:58:03.906Z"
   },
   {
    "duration": 258,
    "start_time": "2025-01-23T16:58:06.801Z"
   },
   {
    "duration": 168,
    "start_time": "2025-01-23T16:58:41.182Z"
   },
   {
    "duration": 5,
    "start_time": "2025-01-23T16:58:45.954Z"
   },
   {
    "duration": 325,
    "start_time": "2025-01-23T16:59:07.538Z"
   },
   {
    "duration": 272,
    "start_time": "2025-01-23T16:59:26.514Z"
   },
   {
    "duration": 10,
    "start_time": "2025-01-23T17:06:48.270Z"
   },
   {
    "duration": 169,
    "start_time": "2025-01-23T17:07:27.122Z"
   },
   {
    "duration": 4,
    "start_time": "2025-01-23T17:11:49.585Z"
   },
   {
    "duration": 4,
    "start_time": "2025-01-23T17:11:58.076Z"
   },
   {
    "duration": 15,
    "start_time": "2025-01-23T17:12:49.241Z"
   },
   {
    "duration": 3,
    "start_time": "2025-01-23T17:12:52.829Z"
   },
   {
    "duration": 5,
    "start_time": "2025-01-23T17:12:54.134Z"
   },
   {
    "duration": 4,
    "start_time": "2025-01-23T17:15:44.927Z"
   },
   {
    "duration": 14,
    "start_time": "2025-01-23T17:15:48.437Z"
   },
   {
    "duration": 4,
    "start_time": "2025-01-23T17:16:24.649Z"
   },
   {
    "duration": 1192,
    "start_time": "2025-01-23T17:16:29.824Z"
   },
   {
    "duration": 57,
    "start_time": "2025-01-23T17:16:31.018Z"
   },
   {
    "duration": 20,
    "start_time": "2025-01-23T17:16:31.077Z"
   },
   {
    "duration": 39,
    "start_time": "2025-01-23T17:16:31.100Z"
   },
   {
    "duration": 16,
    "start_time": "2025-01-23T17:16:31.141Z"
   },
   {
    "duration": 108,
    "start_time": "2025-01-23T17:16:31.159Z"
   },
   {
    "duration": 112,
    "start_time": "2025-01-23T17:16:31.270Z"
   },
   {
    "duration": 0,
    "start_time": "2025-01-23T17:16:31.385Z"
   },
   {
    "duration": 0,
    "start_time": "2025-01-23T17:16:31.387Z"
   },
   {
    "duration": 0,
    "start_time": "2025-01-23T17:16:31.389Z"
   },
   {
    "duration": 0,
    "start_time": "2025-01-23T17:16:31.390Z"
   },
   {
    "duration": 0,
    "start_time": "2025-01-23T17:16:31.391Z"
   },
   {
    "duration": 0,
    "start_time": "2025-01-23T17:16:31.393Z"
   },
   {
    "duration": 0,
    "start_time": "2025-01-23T17:16:31.394Z"
   },
   {
    "duration": 0,
    "start_time": "2025-01-23T17:16:31.396Z"
   },
   {
    "duration": 0,
    "start_time": "2025-01-23T17:16:31.397Z"
   },
   {
    "duration": 0,
    "start_time": "2025-01-23T17:16:31.399Z"
   },
   {
    "duration": 0,
    "start_time": "2025-01-23T17:16:31.400Z"
   },
   {
    "duration": 0,
    "start_time": "2025-01-23T17:16:31.402Z"
   },
   {
    "duration": 0,
    "start_time": "2025-01-23T17:16:31.404Z"
   },
   {
    "duration": 0,
    "start_time": "2025-01-23T17:16:31.405Z"
   },
   {
    "duration": 0,
    "start_time": "2025-01-23T17:16:31.407Z"
   },
   {
    "duration": 0,
    "start_time": "2025-01-23T17:16:31.408Z"
   },
   {
    "duration": 1,
    "start_time": "2025-01-23T17:16:31.409Z"
   },
   {
    "duration": 21,
    "start_time": "2025-01-23T17:19:27.275Z"
   },
   {
    "duration": 5,
    "start_time": "2025-01-23T17:19:30.515Z"
   },
   {
    "duration": 5,
    "start_time": "2025-01-23T17:19:31.612Z"
   },
   {
    "duration": 1218,
    "start_time": "2025-01-23T17:19:40.762Z"
   },
   {
    "duration": 58,
    "start_time": "2025-01-23T17:19:41.982Z"
   },
   {
    "duration": 19,
    "start_time": "2025-01-23T17:19:42.043Z"
   },
   {
    "duration": 70,
    "start_time": "2025-01-23T17:19:42.064Z"
   },
   {
    "duration": 20,
    "start_time": "2025-01-23T17:19:42.137Z"
   },
   {
    "duration": 24,
    "start_time": "2025-01-23T17:19:42.159Z"
   },
   {
    "duration": 10,
    "start_time": "2025-01-23T17:19:42.186Z"
   },
   {
    "duration": 6,
    "start_time": "2025-01-23T17:19:42.198Z"
   },
   {
    "duration": 9,
    "start_time": "2025-01-23T17:19:42.206Z"
   },
   {
    "duration": 27,
    "start_time": "2025-01-23T17:19:42.216Z"
   },
   {
    "duration": 23,
    "start_time": "2025-01-23T17:19:42.244Z"
   },
   {
    "duration": 338,
    "start_time": "2025-01-23T17:19:42.271Z"
   },
   {
    "duration": 9,
    "start_time": "2025-01-23T17:19:42.610Z"
   },
   {
    "duration": 12,
    "start_time": "2025-01-23T17:19:42.621Z"
   },
   {
    "duration": 420,
    "start_time": "2025-01-23T17:19:42.635Z"
   },
   {
    "duration": 11,
    "start_time": "2025-01-23T17:19:43.057Z"
   },
   {
    "duration": 26,
    "start_time": "2025-01-23T17:19:43.069Z"
   },
   {
    "duration": 231,
    "start_time": "2025-01-23T17:19:43.097Z"
   },
   {
    "duration": 4,
    "start_time": "2025-01-23T17:19:43.329Z"
   },
   {
    "duration": 186,
    "start_time": "2025-01-23T17:19:43.334Z"
   },
   {
    "duration": 5,
    "start_time": "2025-01-23T17:19:43.521Z"
   },
   {
    "duration": 280,
    "start_time": "2025-01-23T17:19:43.527Z"
   },
   {
    "duration": 122,
    "start_time": "2025-01-23T17:19:43.809Z"
   },
   {
    "duration": 0,
    "start_time": "2025-01-23T17:19:43.932Z"
   },
   {
    "duration": 5,
    "start_time": "2025-01-23T17:21:05.417Z"
   },
   {
    "duration": 194,
    "start_time": "2025-01-23T17:21:31.593Z"
   },
   {
    "duration": 275,
    "start_time": "2025-01-23T17:22:07.187Z"
   },
   {
    "duration": 161,
    "start_time": "2025-01-23T17:22:16.023Z"
   },
   {
    "duration": 194,
    "start_time": "2025-01-23T17:22:27.485Z"
   },
   {
    "duration": 5,
    "start_time": "2025-01-23T17:23:03.067Z"
   },
   {
    "duration": 178,
    "start_time": "2025-01-23T17:23:50.473Z"
   },
   {
    "duration": 190,
    "start_time": "2025-01-23T17:24:18.018Z"
   },
   {
    "duration": 192,
    "start_time": "2025-01-23T17:24:28.598Z"
   },
   {
    "duration": 8,
    "start_time": "2025-01-23T17:29:00.634Z"
   },
   {
    "duration": 8,
    "start_time": "2025-01-23T17:29:02.323Z"
   },
   {
    "duration": 7,
    "start_time": "2025-01-23T17:29:04.758Z"
   },
   {
    "duration": 8,
    "start_time": "2025-01-23T17:30:25.569Z"
   },
   {
    "duration": 9,
    "start_time": "2025-01-23T17:30:26.386Z"
   },
   {
    "duration": 8,
    "start_time": "2025-01-23T17:33:52.508Z"
   },
   {
    "duration": 8,
    "start_time": "2025-01-23T17:33:52.882Z"
   },
   {
    "duration": 8,
    "start_time": "2025-01-23T17:33:53.592Z"
   },
   {
    "duration": 7,
    "start_time": "2025-01-23T17:33:54.261Z"
   },
   {
    "duration": 16,
    "start_time": "2025-01-23T17:35:03.303Z"
   },
   {
    "duration": 19,
    "start_time": "2025-01-23T18:44:50.056Z"
   },
   {
    "duration": 11,
    "start_time": "2025-01-23T18:48:13.690Z"
   },
   {
    "duration": 9,
    "start_time": "2025-01-23T18:48:15.640Z"
   },
   {
    "duration": 5,
    "start_time": "2025-01-23T18:48:15.896Z"
   },
   {
    "duration": 9,
    "start_time": "2025-01-23T18:48:58.452Z"
   },
   {
    "duration": 6,
    "start_time": "2025-01-23T18:49:06.719Z"
   },
   {
    "duration": 14,
    "start_time": "2025-01-23T19:12:27.434Z"
   },
   {
    "duration": 27,
    "start_time": "2025-01-23T19:21:03.016Z"
   },
   {
    "duration": 10,
    "start_time": "2025-01-23T19:21:55.371Z"
   },
   {
    "duration": 9,
    "start_time": "2025-01-23T19:22:22.924Z"
   },
   {
    "duration": 9,
    "start_time": "2025-01-23T19:23:06.995Z"
   },
   {
    "duration": 9,
    "start_time": "2025-01-23T19:23:12.352Z"
   },
   {
    "duration": 9,
    "start_time": "2025-01-23T19:23:14.706Z"
   },
   {
    "duration": 9,
    "start_time": "2025-01-23T19:23:23.827Z"
   },
   {
    "duration": 9,
    "start_time": "2025-01-23T19:23:27.997Z"
   },
   {
    "duration": 30,
    "start_time": "2025-01-23T19:23:34.671Z"
   },
   {
    "duration": 9,
    "start_time": "2025-01-23T19:23:45.954Z"
   },
   {
    "duration": 23,
    "start_time": "2025-01-23T19:23:52.161Z"
   },
   {
    "duration": 9,
    "start_time": "2025-01-23T19:23:55.253Z"
   },
   {
    "duration": 23,
    "start_time": "2025-01-23T19:23:59.346Z"
   },
   {
    "duration": 10,
    "start_time": "2025-01-23T19:24:06.277Z"
   },
   {
    "duration": 8,
    "start_time": "2025-01-23T19:44:25.269Z"
   },
   {
    "duration": 7,
    "start_time": "2025-01-23T19:44:28.630Z"
   },
   {
    "duration": 7,
    "start_time": "2025-01-23T19:44:31.420Z"
   },
   {
    "duration": 7,
    "start_time": "2025-01-23T19:52:14.987Z"
   },
   {
    "duration": 6,
    "start_time": "2025-01-23T19:52:17.596Z"
   },
   {
    "duration": 6,
    "start_time": "2025-01-23T19:52:20.331Z"
   },
   {
    "duration": 12,
    "start_time": "2025-01-23T19:52:34.967Z"
   },
   {
    "duration": 1131,
    "start_time": "2025-01-23T20:34:56.904Z"
   },
   {
    "duration": 53,
    "start_time": "2025-01-23T20:34:58.037Z"
   },
   {
    "duration": 16,
    "start_time": "2025-01-23T20:34:58.092Z"
   },
   {
    "duration": 13,
    "start_time": "2025-01-23T20:34:58.110Z"
   },
   {
    "duration": 12,
    "start_time": "2025-01-23T20:34:58.125Z"
   },
   {
    "duration": 13,
    "start_time": "2025-01-23T20:34:58.146Z"
   },
   {
    "duration": 8,
    "start_time": "2025-01-23T20:34:58.161Z"
   },
   {
    "duration": 6,
    "start_time": "2025-01-23T20:34:58.170Z"
   },
   {
    "duration": 6,
    "start_time": "2025-01-23T20:34:58.178Z"
   },
   {
    "duration": 26,
    "start_time": "2025-01-23T20:34:58.185Z"
   },
   {
    "duration": 15,
    "start_time": "2025-01-23T20:34:58.213Z"
   },
   {
    "duration": 299,
    "start_time": "2025-01-23T20:34:58.229Z"
   },
   {
    "duration": 17,
    "start_time": "2025-01-23T20:34:58.529Z"
   },
   {
    "duration": 33,
    "start_time": "2025-01-23T20:34:58.549Z"
   },
   {
    "duration": 312,
    "start_time": "2025-01-23T20:34:58.583Z"
   },
   {
    "duration": 13,
    "start_time": "2025-01-23T20:34:58.897Z"
   },
   {
    "duration": 34,
    "start_time": "2025-01-23T20:34:58.912Z"
   },
   {
    "duration": 9,
    "start_time": "2025-01-23T20:34:58.948Z"
   },
   {
    "duration": 7,
    "start_time": "2025-01-23T20:34:58.958Z"
   },
   {
    "duration": 212,
    "start_time": "2025-01-23T20:34:58.966Z"
   },
   {
    "duration": 4,
    "start_time": "2025-01-23T20:34:59.179Z"
   },
   {
    "duration": 156,
    "start_time": "2025-01-23T20:34:59.185Z"
   },
   {
    "duration": 4,
    "start_time": "2025-01-23T20:34:59.345Z"
   },
   {
    "duration": 167,
    "start_time": "2025-01-23T20:34:59.350Z"
   },
   {
    "duration": 3,
    "start_time": "2025-01-23T20:34:59.519Z"
   },
   {
    "duration": 169,
    "start_time": "2025-01-23T20:34:59.523Z"
   },
   {
    "duration": 6,
    "start_time": "2025-01-23T20:34:59.694Z"
   },
   {
    "duration": 6,
    "start_time": "2025-01-23T20:34:59.701Z"
   },
   {
    "duration": 6,
    "start_time": "2025-01-23T20:34:59.708Z"
   },
   {
    "duration": 31,
    "start_time": "2025-01-23T20:34:59.715Z"
   },
   {
    "duration": 6,
    "start_time": "2025-01-23T20:34:59.748Z"
   },
   {
    "duration": 5,
    "start_time": "2025-01-23T20:34:59.756Z"
   },
   {
    "duration": 89,
    "start_time": "2025-01-23T20:34:59.762Z"
   },
   {
    "duration": 7,
    "start_time": "2025-01-23T20:34:59.852Z"
   },
   {
    "duration": 4,
    "start_time": "2025-01-23T20:34:59.861Z"
   },
   {
    "duration": 7,
    "start_time": "2025-01-23T20:34:59.867Z"
   },
   {
    "duration": 4,
    "start_time": "2025-01-23T20:34:59.876Z"
   },
   {
    "duration": 66,
    "start_time": "2025-01-23T21:44:47.556Z"
   },
   {
    "duration": 22,
    "start_time": "2025-01-23T21:48:03.750Z"
   },
   {
    "duration": 8,
    "start_time": "2025-01-23T21:57:17.732Z"
   },
   {
    "duration": 59,
    "start_time": "2025-01-24T06:36:47.136Z"
   },
   {
    "duration": 7,
    "start_time": "2025-01-24T06:36:52.400Z"
   },
   {
    "duration": 1497,
    "start_time": "2025-01-24T06:36:59.345Z"
   },
   {
    "duration": 59,
    "start_time": "2025-01-24T06:37:00.845Z"
   },
   {
    "duration": 19,
    "start_time": "2025-01-24T06:37:00.906Z"
   },
   {
    "duration": 33,
    "start_time": "2025-01-24T06:37:00.927Z"
   },
   {
    "duration": 27,
    "start_time": "2025-01-24T06:37:00.963Z"
   },
   {
    "duration": 27,
    "start_time": "2025-01-24T06:37:00.992Z"
   },
   {
    "duration": 12,
    "start_time": "2025-01-24T06:37:01.021Z"
   },
   {
    "duration": 33,
    "start_time": "2025-01-24T06:37:01.034Z"
   },
   {
    "duration": 68,
    "start_time": "2025-01-24T06:37:01.069Z"
   },
   {
    "duration": 34,
    "start_time": "2025-01-24T06:37:01.139Z"
   },
   {
    "duration": 119,
    "start_time": "2025-01-24T06:37:01.175Z"
   },
   {
    "duration": 0,
    "start_time": "2025-01-24T06:37:01.297Z"
   },
   {
    "duration": 0,
    "start_time": "2025-01-24T06:37:01.298Z"
   },
   {
    "duration": 0,
    "start_time": "2025-01-24T06:37:01.299Z"
   },
   {
    "duration": 0,
    "start_time": "2025-01-24T06:37:01.301Z"
   },
   {
    "duration": 0,
    "start_time": "2025-01-24T06:37:01.302Z"
   },
   {
    "duration": 0,
    "start_time": "2025-01-24T06:37:01.303Z"
   },
   {
    "duration": 0,
    "start_time": "2025-01-24T06:37:01.304Z"
   },
   {
    "duration": 0,
    "start_time": "2025-01-24T06:37:01.305Z"
   },
   {
    "duration": 0,
    "start_time": "2025-01-24T06:37:01.306Z"
   },
   {
    "duration": 0,
    "start_time": "2025-01-24T06:37:01.307Z"
   },
   {
    "duration": 0,
    "start_time": "2025-01-24T06:37:01.309Z"
   },
   {
    "duration": 0,
    "start_time": "2025-01-24T06:37:01.309Z"
   },
   {
    "duration": 0,
    "start_time": "2025-01-24T06:37:01.311Z"
   },
   {
    "duration": 0,
    "start_time": "2025-01-24T06:37:01.312Z"
   },
   {
    "duration": 0,
    "start_time": "2025-01-24T06:37:01.313Z"
   },
   {
    "duration": 0,
    "start_time": "2025-01-24T06:37:01.314Z"
   },
   {
    "duration": 0,
    "start_time": "2025-01-24T06:37:01.315Z"
   },
   {
    "duration": 0,
    "start_time": "2025-01-24T06:37:01.316Z"
   },
   {
    "duration": 0,
    "start_time": "2025-01-24T06:37:01.317Z"
   },
   {
    "duration": 0,
    "start_time": "2025-01-24T06:37:01.318Z"
   },
   {
    "duration": 0,
    "start_time": "2025-01-24T06:37:01.319Z"
   },
   {
    "duration": 0,
    "start_time": "2025-01-24T06:37:01.360Z"
   },
   {
    "duration": 0,
    "start_time": "2025-01-24T06:37:01.361Z"
   },
   {
    "duration": 0,
    "start_time": "2025-01-24T06:37:01.363Z"
   },
   {
    "duration": 0,
    "start_time": "2025-01-24T06:37:01.364Z"
   },
   {
    "duration": 0,
    "start_time": "2025-01-24T06:37:01.366Z"
   },
   {
    "duration": 0,
    "start_time": "2025-01-24T06:37:01.367Z"
   },
   {
    "duration": 0,
    "start_time": "2025-01-24T06:37:01.368Z"
   },
   {
    "duration": 0,
    "start_time": "2025-01-24T06:37:01.370Z"
   },
   {
    "duration": 13,
    "start_time": "2025-01-24T06:37:12.250Z"
   },
   {
    "duration": 12,
    "start_time": "2025-01-24T06:37:22.660Z"
   },
   {
    "duration": 17,
    "start_time": "2025-01-24T06:37:26.064Z"
   },
   {
    "duration": 12,
    "start_time": "2025-01-24T06:37:27.162Z"
   },
   {
    "duration": 13,
    "start_time": "2025-01-24T06:37:48.655Z"
   },
   {
    "duration": 12,
    "start_time": "2025-01-24T06:37:52.480Z"
   },
   {
    "duration": 17,
    "start_time": "2025-01-24T06:38:22.106Z"
   },
   {
    "duration": 21,
    "start_time": "2025-01-24T06:48:42.181Z"
   },
   {
    "duration": 10,
    "start_time": "2025-01-24T06:48:54.467Z"
   },
   {
    "duration": 21,
    "start_time": "2025-01-24T06:49:00.212Z"
   },
   {
    "duration": 17,
    "start_time": "2025-01-24T06:49:30.661Z"
   },
   {
    "duration": 23,
    "start_time": "2025-01-24T06:49:38.088Z"
   },
   {
    "duration": 14,
    "start_time": "2025-01-24T06:51:50.318Z"
   },
   {
    "duration": 11,
    "start_time": "2025-01-24T06:51:56.603Z"
   },
   {
    "duration": 33,
    "start_time": "2025-01-24T06:57:27.606Z"
   },
   {
    "duration": 22,
    "start_time": "2025-01-24T06:57:48.263Z"
   },
   {
    "duration": 11,
    "start_time": "2025-01-24T06:58:42.490Z"
   },
   {
    "duration": 87,
    "start_time": "2025-01-24T07:04:42.307Z"
   },
   {
    "duration": 9,
    "start_time": "2025-01-24T07:09:06.304Z"
   },
   {
    "duration": 8,
    "start_time": "2025-01-24T07:09:09.557Z"
   },
   {
    "duration": 8,
    "start_time": "2025-01-24T07:09:16.442Z"
   },
   {
    "duration": 9,
    "start_time": "2025-01-24T07:10:51.203Z"
   },
   {
    "duration": 1342,
    "start_time": "2025-01-24T07:10:57.642Z"
   },
   {
    "duration": 49,
    "start_time": "2025-01-24T07:10:58.986Z"
   },
   {
    "duration": 25,
    "start_time": "2025-01-24T07:10:59.036Z"
   },
   {
    "duration": 17,
    "start_time": "2025-01-24T07:10:59.063Z"
   },
   {
    "duration": 16,
    "start_time": "2025-01-24T07:10:59.082Z"
   },
   {
    "duration": 20,
    "start_time": "2025-01-24T07:10:59.099Z"
   },
   {
    "duration": 40,
    "start_time": "2025-01-24T07:10:59.121Z"
   },
   {
    "duration": 13,
    "start_time": "2025-01-24T07:10:59.162Z"
   },
   {
    "duration": 6,
    "start_time": "2025-01-24T07:10:59.177Z"
   },
   {
    "duration": 16,
    "start_time": "2025-01-24T07:10:59.186Z"
   },
   {
    "duration": 18,
    "start_time": "2025-01-24T07:10:59.204Z"
   },
   {
    "duration": 41,
    "start_time": "2025-01-24T07:10:59.224Z"
   },
   {
    "duration": 12,
    "start_time": "2025-01-24T07:10:59.267Z"
   },
   {
    "duration": 19,
    "start_time": "2025-01-24T07:10:59.281Z"
   },
   {
    "duration": 112,
    "start_time": "2025-01-24T07:10:59.303Z"
   },
   {
    "duration": 367,
    "start_time": "2025-01-24T07:10:59.417Z"
   },
   {
    "duration": 11,
    "start_time": "2025-01-24T07:10:59.787Z"
   },
   {
    "duration": 11,
    "start_time": "2025-01-24T07:10:59.800Z"
   },
   {
    "duration": 647,
    "start_time": "2025-01-24T07:10:59.813Z"
   },
   {
    "duration": 29,
    "start_time": "2025-01-24T07:11:00.462Z"
   },
   {
    "duration": 13,
    "start_time": "2025-01-24T07:11:00.493Z"
   },
   {
    "duration": 16,
    "start_time": "2025-01-24T07:11:00.561Z"
   },
   {
    "duration": 26,
    "start_time": "2025-01-24T07:11:00.579Z"
   },
   {
    "duration": 489,
    "start_time": "2025-01-24T07:11:00.607Z"
   },
   {
    "duration": 5,
    "start_time": "2025-01-24T07:11:01.097Z"
   },
   {
    "duration": 344,
    "start_time": "2025-01-24T07:11:01.159Z"
   },
   {
    "duration": 5,
    "start_time": "2025-01-24T07:11:01.559Z"
   },
   {
    "duration": 363,
    "start_time": "2025-01-24T07:11:01.568Z"
   },
   {
    "duration": 5,
    "start_time": "2025-01-24T07:11:01.932Z"
   },
   {
    "duration": 249,
    "start_time": "2025-01-24T07:11:01.938Z"
   },
   {
    "duration": 8,
    "start_time": "2025-01-24T07:11:02.189Z"
   },
   {
    "duration": 36,
    "start_time": "2025-01-24T07:11:02.198Z"
   },
   {
    "duration": 52,
    "start_time": "2025-01-24T07:11:02.235Z"
   },
   {
    "duration": 45,
    "start_time": "2025-01-24T07:11:02.289Z"
   },
   {
    "duration": 28,
    "start_time": "2025-01-24T07:11:02.336Z"
   },
   {
    "duration": 18,
    "start_time": "2025-01-24T07:11:02.367Z"
   },
   {
    "duration": 121,
    "start_time": "2025-01-24T07:11:02.387Z"
   },
   {
    "duration": 9,
    "start_time": "2025-01-24T07:11:02.511Z"
   },
   {
    "duration": 71,
    "start_time": "2025-01-24T07:11:02.522Z"
   },
   {
    "duration": 55,
    "start_time": "2025-01-24T07:11:02.595Z"
   },
   {
    "duration": 37,
    "start_time": "2025-01-24T07:11:02.652Z"
   },
   {
    "duration": 28,
    "start_time": "2025-01-24T07:11:02.691Z"
   },
   {
    "duration": 10,
    "start_time": "2025-01-24T07:11:05.304Z"
   },
   {
    "duration": 9,
    "start_time": "2025-01-24T07:12:14.290Z"
   },
   {
    "duration": 3,
    "start_time": "2025-01-24T07:12:35.128Z"
   },
   {
    "duration": 17,
    "start_time": "2025-01-24T07:12:36.961Z"
   },
   {
    "duration": 79,
    "start_time": "2025-01-24T07:14:36.137Z"
   },
   {
    "duration": 115,
    "start_time": "2025-01-24T07:14:45.347Z"
   },
   {
    "duration": 9,
    "start_time": "2025-01-24T07:15:16.188Z"
   },
   {
    "duration": 10,
    "start_time": "2025-01-24T07:15:22.562Z"
   },
   {
    "duration": 6,
    "start_time": "2025-01-24T07:15:48.512Z"
   },
   {
    "duration": 6,
    "start_time": "2025-01-24T07:16:04.355Z"
   },
   {
    "duration": 9,
    "start_time": "2025-01-24T07:16:07.909Z"
   },
   {
    "duration": 17,
    "start_time": "2025-01-24T07:17:20.290Z"
   },
   {
    "duration": 19,
    "start_time": "2025-01-24T07:18:15.053Z"
   },
   {
    "duration": 15,
    "start_time": "2025-01-24T07:18:18.503Z"
   },
   {
    "duration": 26,
    "start_time": "2025-01-24T07:19:16.211Z"
   },
   {
    "duration": 18,
    "start_time": "2025-01-24T07:19:21.837Z"
   },
   {
    "duration": 5,
    "start_time": "2025-01-24T07:54:44.761Z"
   },
   {
    "duration": 18,
    "start_time": "2025-01-24T07:55:52.823Z"
   },
   {
    "duration": 6,
    "start_time": "2025-01-24T07:58:52.222Z"
   },
   {
    "duration": 10,
    "start_time": "2025-01-24T07:58:55.448Z"
   },
   {
    "duration": 1303,
    "start_time": "2025-01-24T07:59:15.223Z"
   },
   {
    "duration": 49,
    "start_time": "2025-01-24T07:59:16.528Z"
   },
   {
    "duration": 20,
    "start_time": "2025-01-24T07:59:16.579Z"
   },
   {
    "duration": 17,
    "start_time": "2025-01-24T07:59:16.601Z"
   },
   {
    "duration": 16,
    "start_time": "2025-01-24T07:59:16.620Z"
   },
   {
    "duration": 25,
    "start_time": "2025-01-24T07:59:16.638Z"
   },
   {
    "duration": 14,
    "start_time": "2025-01-24T07:59:16.665Z"
   },
   {
    "duration": 12,
    "start_time": "2025-01-24T07:59:16.680Z"
   },
   {
    "duration": 16,
    "start_time": "2025-01-24T07:59:16.694Z"
   },
   {
    "duration": 8,
    "start_time": "2025-01-24T07:59:16.712Z"
   },
   {
    "duration": 38,
    "start_time": "2025-01-24T07:59:16.722Z"
   },
   {
    "duration": 7,
    "start_time": "2025-01-24T07:59:16.762Z"
   },
   {
    "duration": 21,
    "start_time": "2025-01-24T07:59:16.771Z"
   },
   {
    "duration": 22,
    "start_time": "2025-01-24T07:59:16.796Z"
   },
   {
    "duration": 40,
    "start_time": "2025-01-24T07:59:16.820Z"
   },
   {
    "duration": 20,
    "start_time": "2025-01-24T07:59:16.862Z"
   },
   {
    "duration": 116,
    "start_time": "2025-01-24T07:59:16.883Z"
   },
   {
    "duration": 374,
    "start_time": "2025-01-24T07:59:17.000Z"
   },
   {
    "duration": 10,
    "start_time": "2025-01-24T07:59:17.376Z"
   },
   {
    "duration": 11,
    "start_time": "2025-01-24T07:59:17.388Z"
   },
   {
    "duration": 427,
    "start_time": "2025-01-24T07:59:17.401Z"
   },
   {
    "duration": 30,
    "start_time": "2025-01-24T07:59:17.830Z"
   },
   {
    "duration": 13,
    "start_time": "2025-01-24T07:59:17.862Z"
   },
   {
    "duration": 44,
    "start_time": "2025-01-24T07:59:17.877Z"
   },
   {
    "duration": 23,
    "start_time": "2025-01-24T07:59:17.923Z"
   },
   {
    "duration": 264,
    "start_time": "2025-01-24T07:59:17.949Z"
   },
   {
    "duration": 4,
    "start_time": "2025-01-24T07:59:18.215Z"
   },
   {
    "duration": 188,
    "start_time": "2025-01-24T07:59:18.220Z"
   },
   {
    "duration": 5,
    "start_time": "2025-01-24T07:59:18.410Z"
   },
   {
    "duration": 208,
    "start_time": "2025-01-24T07:59:18.416Z"
   },
   {
    "duration": 4,
    "start_time": "2025-01-24T07:59:18.626Z"
   },
   {
    "duration": 205,
    "start_time": "2025-01-24T07:59:18.632Z"
   },
   {
    "duration": 7,
    "start_time": "2025-01-24T07:59:18.839Z"
   },
   {
    "duration": 7,
    "start_time": "2025-01-24T07:59:18.860Z"
   },
   {
    "duration": 18,
    "start_time": "2025-01-24T07:59:18.869Z"
   },
   {
    "duration": 7,
    "start_time": "2025-01-24T07:59:18.889Z"
   },
   {
    "duration": 7,
    "start_time": "2025-01-24T07:59:18.898Z"
   },
   {
    "duration": 8,
    "start_time": "2025-01-24T07:59:18.906Z"
   },
   {
    "duration": 127,
    "start_time": "2025-01-24T07:59:18.916Z"
   },
   {
    "duration": 24,
    "start_time": "2025-01-24T07:59:19.045Z"
   },
   {
    "duration": 11,
    "start_time": "2025-01-24T07:59:19.075Z"
   },
   {
    "duration": 15,
    "start_time": "2025-01-24T07:59:19.088Z"
   },
   {
    "duration": 17,
    "start_time": "2025-01-24T07:59:19.105Z"
   },
   {
    "duration": 7,
    "start_time": "2025-01-24T07:59:19.124Z"
   },
   {
    "duration": 286,
    "start_time": "2025-01-24T08:29:18.386Z"
   },
   {
    "duration": 301,
    "start_time": "2025-01-24T08:30:05.575Z"
   },
   {
    "duration": 286,
    "start_time": "2025-01-24T08:30:13.107Z"
   },
   {
    "duration": 289,
    "start_time": "2025-01-24T08:30:15.761Z"
   },
   {
    "duration": 27,
    "start_time": "2025-01-24T08:32:51.259Z"
   },
   {
    "duration": 26,
    "start_time": "2025-01-24T08:33:12.639Z"
   },
   {
    "duration": 66,
    "start_time": "2025-01-24T08:33:47.377Z"
   },
   {
    "duration": 64,
    "start_time": "2025-01-24T08:33:51.696Z"
   },
   {
    "duration": 283,
    "start_time": "2025-01-24T08:39:53.676Z"
   },
   {
    "duration": 285,
    "start_time": "2025-01-24T08:40:10.328Z"
   },
   {
    "duration": 290,
    "start_time": "2025-01-24T08:41:19.586Z"
   },
   {
    "duration": 11,
    "start_time": "2025-01-24T08:41:50.382Z"
   },
   {
    "duration": 9,
    "start_time": "2025-01-24T08:42:07.992Z"
   },
   {
    "duration": 10,
    "start_time": "2025-01-24T08:42:29.982Z"
   },
   {
    "duration": 8,
    "start_time": "2025-01-24T08:42:38.968Z"
   },
   {
    "duration": 117,
    "start_time": "2025-01-24T08:44:29.025Z"
   },
   {
    "duration": 16,
    "start_time": "2025-01-24T08:44:35.703Z"
   },
   {
    "duration": 16,
    "start_time": "2025-01-24T08:44:42.251Z"
   },
   {
    "duration": 722,
    "start_time": "2025-01-24T08:45:10.922Z"
   },
   {
    "duration": 663,
    "start_time": "2025-01-24T08:45:19.248Z"
   },
   {
    "duration": 639,
    "start_time": "2025-01-24T08:46:04.161Z"
   },
   {
    "duration": 651,
    "start_time": "2025-01-24T08:46:21.757Z"
   },
   {
    "duration": 621,
    "start_time": "2025-01-24T08:46:29.332Z"
   },
   {
    "duration": 603,
    "start_time": "2025-01-24T08:46:36.322Z"
   },
   {
    "duration": 280,
    "start_time": "2025-01-24T10:14:53.971Z"
   },
   {
    "duration": 300,
    "start_time": "2025-01-24T10:15:17.238Z"
   },
   {
    "duration": 654,
    "start_time": "2025-01-24T10:15:19.863Z"
   },
   {
    "duration": 17,
    "start_time": "2025-01-24T10:18:03.596Z"
   },
   {
    "duration": 9,
    "start_time": "2025-01-24T10:18:32.396Z"
   },
   {
    "duration": 436,
    "start_time": "2025-01-24T10:23:05.752Z"
   },
   {
    "duration": 410,
    "start_time": "2025-01-24T10:23:12.683Z"
   },
   {
    "duration": 305,
    "start_time": "2025-01-24T10:33:52.204Z"
   },
   {
    "duration": 322,
    "start_time": "2025-01-24T10:35:38.289Z"
   },
   {
    "duration": 318,
    "start_time": "2025-01-24T10:35:55.883Z"
   },
   {
    "duration": 342,
    "start_time": "2025-01-24T10:36:07.930Z"
   },
   {
    "duration": 372,
    "start_time": "2025-01-24T11:40:21.498Z"
   },
   {
    "duration": 5,
    "start_time": "2025-01-24T11:42:12.081Z"
   },
   {
    "duration": 4,
    "start_time": "2025-01-24T11:42:24.261Z"
   },
   {
    "duration": 280,
    "start_time": "2025-01-24T11:42:24.666Z"
   },
   {
    "duration": 5,
    "start_time": "2025-01-24T11:42:25.793Z"
   },
   {
    "duration": 189,
    "start_time": "2025-01-24T11:42:31.854Z"
   },
   {
    "duration": 4,
    "start_time": "2025-01-24T11:42:38.244Z"
   },
   {
    "duration": 15,
    "start_time": "2025-01-24T11:46:34.066Z"
   },
   {
    "duration": 4,
    "start_time": "2025-01-24T11:46:38.583Z"
   },
   {
    "duration": 282,
    "start_time": "2025-01-24T11:46:39.211Z"
   },
   {
    "duration": 4,
    "start_time": "2025-01-24T11:46:51.181Z"
   },
   {
    "duration": 289,
    "start_time": "2025-01-24T11:46:51.691Z"
   },
   {
    "duration": 15,
    "start_time": "2025-01-24T11:47:36.949Z"
   },
   {
    "duration": 4,
    "start_time": "2025-01-24T11:47:40.817Z"
   },
   {
    "duration": 293,
    "start_time": "2025-01-24T11:47:41.370Z"
   },
   {
    "duration": 1296,
    "start_time": "2025-01-24T11:48:05.329Z"
   },
   {
    "duration": 49,
    "start_time": "2025-01-24T11:48:06.627Z"
   },
   {
    "duration": 20,
    "start_time": "2025-01-24T11:48:06.678Z"
   },
   {
    "duration": 34,
    "start_time": "2025-01-24T11:48:06.700Z"
   },
   {
    "duration": 26,
    "start_time": "2025-01-24T11:48:06.736Z"
   },
   {
    "duration": 31,
    "start_time": "2025-01-24T11:48:06.764Z"
   },
   {
    "duration": 31,
    "start_time": "2025-01-24T11:48:06.797Z"
   },
   {
    "duration": 56,
    "start_time": "2025-01-24T11:48:06.830Z"
   },
   {
    "duration": 49,
    "start_time": "2025-01-24T11:48:06.888Z"
   },
   {
    "duration": 30,
    "start_time": "2025-01-24T11:48:06.940Z"
   },
   {
    "duration": 21,
    "start_time": "2025-01-24T11:48:06.972Z"
   },
   {
    "duration": 21,
    "start_time": "2025-01-24T11:48:06.995Z"
   },
   {
    "duration": 57,
    "start_time": "2025-01-24T11:48:07.018Z"
   },
   {
    "duration": 42,
    "start_time": "2025-01-24T11:48:07.077Z"
   },
   {
    "duration": 10,
    "start_time": "2025-01-24T11:48:07.121Z"
   },
   {
    "duration": 26,
    "start_time": "2025-01-24T11:48:07.133Z"
   },
   {
    "duration": 103,
    "start_time": "2025-01-24T11:48:07.161Z"
   },
   {
    "duration": 540,
    "start_time": "2025-01-24T11:48:07.265Z"
   },
   {
    "duration": 10,
    "start_time": "2025-01-24T11:48:07.861Z"
   },
   {
    "duration": 23,
    "start_time": "2025-01-24T11:48:07.873Z"
   },
   {
    "duration": 677,
    "start_time": "2025-01-24T11:48:07.898Z"
   },
   {
    "duration": 719,
    "start_time": "2025-01-24T11:48:08.577Z"
   },
   {
    "duration": 26,
    "start_time": "2025-01-24T11:48:09.298Z"
   },
   {
    "duration": 26,
    "start_time": "2025-01-24T11:48:09.326Z"
   },
   {
    "duration": 12,
    "start_time": "2025-01-24T11:48:09.359Z"
   },
   {
    "duration": 23,
    "start_time": "2025-01-24T11:48:09.373Z"
   },
   {
    "duration": 8,
    "start_time": "2025-01-24T11:48:09.398Z"
   },
   {
    "duration": 132,
    "start_time": "2025-01-24T11:48:09.409Z"
   },
   {
    "duration": 0,
    "start_time": "2025-01-24T11:48:09.543Z"
   },
   {
    "duration": 0,
    "start_time": "2025-01-24T11:48:09.544Z"
   },
   {
    "duration": 0,
    "start_time": "2025-01-24T11:48:09.545Z"
   },
   {
    "duration": 0,
    "start_time": "2025-01-24T11:48:09.546Z"
   },
   {
    "duration": 0,
    "start_time": "2025-01-24T11:48:09.547Z"
   },
   {
    "duration": 0,
    "start_time": "2025-01-24T11:48:09.560Z"
   },
   {
    "duration": 0,
    "start_time": "2025-01-24T11:48:09.561Z"
   },
   {
    "duration": 0,
    "start_time": "2025-01-24T11:48:09.563Z"
   },
   {
    "duration": 0,
    "start_time": "2025-01-24T11:48:09.564Z"
   },
   {
    "duration": 0,
    "start_time": "2025-01-24T11:48:09.565Z"
   },
   {
    "duration": 0,
    "start_time": "2025-01-24T11:48:09.566Z"
   },
   {
    "duration": 1,
    "start_time": "2025-01-24T11:48:09.567Z"
   },
   {
    "duration": 0,
    "start_time": "2025-01-24T11:48:09.569Z"
   },
   {
    "duration": 0,
    "start_time": "2025-01-24T11:48:09.570Z"
   },
   {
    "duration": 0,
    "start_time": "2025-01-24T11:48:09.571Z"
   },
   {
    "duration": 0,
    "start_time": "2025-01-24T11:48:09.572Z"
   },
   {
    "duration": 0,
    "start_time": "2025-01-24T11:48:09.573Z"
   },
   {
    "duration": 0,
    "start_time": "2025-01-24T11:48:09.575Z"
   },
   {
    "duration": 0,
    "start_time": "2025-01-24T11:48:09.576Z"
   },
   {
    "duration": 0,
    "start_time": "2025-01-24T11:48:09.577Z"
   },
   {
    "duration": 0,
    "start_time": "2025-01-24T11:48:09.578Z"
   },
   {
    "duration": 0,
    "start_time": "2025-01-24T11:48:09.579Z"
   },
   {
    "duration": 0,
    "start_time": "2025-01-24T11:48:09.580Z"
   },
   {
    "duration": 0,
    "start_time": "2025-01-24T11:48:09.581Z"
   },
   {
    "duration": 0,
    "start_time": "2025-01-24T11:48:09.582Z"
   },
   {
    "duration": 15,
    "start_time": "2025-01-24T11:48:29.469Z"
   },
   {
    "duration": 726,
    "start_time": "2025-01-24T11:48:43.162Z"
   },
   {
    "duration": 650,
    "start_time": "2025-01-24T11:48:58.254Z"
   },
   {
    "duration": 633,
    "start_time": "2025-01-24T11:49:24.730Z"
   },
   {
    "duration": 1245,
    "start_time": "2025-01-24T11:49:36.584Z"
   },
   {
    "duration": 52,
    "start_time": "2025-01-24T11:49:37.831Z"
   },
   {
    "duration": 22,
    "start_time": "2025-01-24T11:49:37.885Z"
   },
   {
    "duration": 26,
    "start_time": "2025-01-24T11:49:37.910Z"
   },
   {
    "duration": 42,
    "start_time": "2025-01-24T11:49:37.938Z"
   },
   {
    "duration": 6,
    "start_time": "2025-01-24T11:49:37.981Z"
   },
   {
    "duration": 31,
    "start_time": "2025-01-24T11:49:37.989Z"
   },
   {
    "duration": 35,
    "start_time": "2025-01-24T11:49:38.022Z"
   },
   {
    "duration": 20,
    "start_time": "2025-01-24T11:49:38.059Z"
   },
   {
    "duration": 8,
    "start_time": "2025-01-24T11:49:38.082Z"
   },
   {
    "duration": 5,
    "start_time": "2025-01-24T11:49:38.092Z"
   },
   {
    "duration": 14,
    "start_time": "2025-01-24T11:49:38.099Z"
   },
   {
    "duration": 21,
    "start_time": "2025-01-24T11:49:38.115Z"
   },
   {
    "duration": 43,
    "start_time": "2025-01-24T11:49:38.137Z"
   },
   {
    "duration": 15,
    "start_time": "2025-01-24T11:49:38.182Z"
   },
   {
    "duration": 19,
    "start_time": "2025-01-24T11:49:38.199Z"
   },
   {
    "duration": 121,
    "start_time": "2025-01-24T11:49:38.220Z"
   },
   {
    "duration": 364,
    "start_time": "2025-01-24T11:49:38.343Z"
   },
   {
    "duration": 10,
    "start_time": "2025-01-24T11:49:38.709Z"
   },
   {
    "duration": 9,
    "start_time": "2025-01-24T11:49:38.721Z"
   },
   {
    "duration": 315,
    "start_time": "2025-01-24T11:49:38.732Z"
   },
   {
    "duration": 432,
    "start_time": "2025-01-24T11:49:39.048Z"
   },
   {
    "duration": 27,
    "start_time": "2025-01-24T11:49:39.482Z"
   },
   {
    "duration": 27,
    "start_time": "2025-01-24T11:49:39.511Z"
   },
   {
    "duration": 12,
    "start_time": "2025-01-24T11:49:39.540Z"
   },
   {
    "duration": 16,
    "start_time": "2025-01-24T11:49:39.560Z"
   },
   {
    "duration": 9,
    "start_time": "2025-01-24T11:49:39.578Z"
   },
   {
    "duration": 639,
    "start_time": "2025-01-24T11:49:39.592Z"
   },
   {
    "duration": 322,
    "start_time": "2025-01-24T11:49:40.233Z"
   },
   {
    "duration": 418,
    "start_time": "2025-01-24T11:49:40.561Z"
   },
   {
    "duration": 331,
    "start_time": "2025-01-24T11:49:40.981Z"
   },
   {
    "duration": 5,
    "start_time": "2025-01-24T11:49:41.314Z"
   },
   {
    "duration": 190,
    "start_time": "2025-01-24T11:49:41.322Z"
   },
   {
    "duration": 5,
    "start_time": "2025-01-24T11:49:41.515Z"
   },
   {
    "duration": 215,
    "start_time": "2025-01-24T11:49:41.522Z"
   },
   {
    "duration": 7,
    "start_time": "2025-01-24T11:49:41.739Z"
   },
   {
    "duration": 12,
    "start_time": "2025-01-24T11:49:41.761Z"
   },
   {
    "duration": 295,
    "start_time": "2025-01-24T11:49:41.775Z"
   },
   {
    "duration": 5,
    "start_time": "2025-01-24T11:49:42.071Z"
   },
   {
    "duration": 307,
    "start_time": "2025-01-24T11:49:42.078Z"
   },
   {
    "duration": 374,
    "start_time": "2025-01-24T11:49:42.386Z"
   },
   {
    "duration": 8,
    "start_time": "2025-01-24T11:49:42.762Z"
   },
   {
    "duration": 10,
    "start_time": "2025-01-24T11:49:42.771Z"
   },
   {
    "duration": 8,
    "start_time": "2025-01-24T11:49:42.783Z"
   },
   {
    "duration": 11,
    "start_time": "2025-01-24T11:49:42.792Z"
   },
   {
    "duration": 92,
    "start_time": "2025-01-24T11:49:42.804Z"
   },
   {
    "duration": 13,
    "start_time": "2025-01-24T11:49:42.898Z"
   },
   {
    "duration": 259,
    "start_time": "2025-01-24T11:49:42.912Z"
   },
   {
    "duration": 10,
    "start_time": "2025-01-24T11:49:43.172Z"
   },
   {
    "duration": 10,
    "start_time": "2025-01-24T11:49:43.183Z"
   },
   {
    "duration": 5,
    "start_time": "2025-01-24T11:49:43.195Z"
   },
   {
    "duration": 65,
    "start_time": "2025-01-24T11:49:43.202Z"
   },
   {
    "duration": 6,
    "start_time": "2025-01-24T11:49:43.268Z"
   },
   {
    "duration": 4,
    "start_time": "2025-01-24T11:50:01.168Z"
   },
   {
    "duration": 326,
    "start_time": "2025-01-24T11:50:02.128Z"
   },
   {
    "duration": 7,
    "start_time": "2025-01-24T11:50:07.918Z"
   },
   {
    "duration": 5,
    "start_time": "2025-01-24T11:50:28.167Z"
   },
   {
    "duration": 361,
    "start_time": "2025-01-24T11:50:28.693Z"
   },
   {
    "duration": 4,
    "start_time": "2025-01-24T11:50:46.199Z"
   },
   {
    "duration": 355,
    "start_time": "2025-01-24T11:50:46.633Z"
   },
   {
    "duration": 5,
    "start_time": "2025-01-24T11:50:49.100Z"
   },
   {
    "duration": 317,
    "start_time": "2025-01-24T11:50:49.530Z"
   },
   {
    "duration": 5,
    "start_time": "2025-01-24T11:51:36.450Z"
   },
   {
    "duration": 368,
    "start_time": "2025-01-24T11:51:36.638Z"
   },
   {
    "duration": 5,
    "start_time": "2025-01-24T11:53:04.337Z"
   },
   {
    "duration": 4,
    "start_time": "2025-01-24T11:53:29.630Z"
   },
   {
    "duration": 5,
    "start_time": "2025-01-24T11:53:32.629Z"
   },
   {
    "duration": 8,
    "start_time": "2025-01-24T11:54:07.894Z"
   },
   {
    "duration": 9,
    "start_time": "2025-01-24T11:54:20.272Z"
   },
   {
    "duration": 7,
    "start_time": "2025-01-24T11:54:39.456Z"
   },
   {
    "duration": 7,
    "start_time": "2025-01-24T13:51:36.633Z"
   },
   {
    "duration": 8,
    "start_time": "2025-01-24T13:52:06.396Z"
   },
   {
    "duration": 8,
    "start_time": "2025-01-24T13:52:13.203Z"
   },
   {
    "duration": 207,
    "start_time": "2025-01-24T13:52:23.391Z"
   },
   {
    "duration": 201,
    "start_time": "2025-01-24T13:52:33.847Z"
   },
   {
    "duration": 602,
    "start_time": "2025-01-24T13:53:20.949Z"
   },
   {
    "duration": 497,
    "start_time": "2025-01-24T13:54:22.932Z"
   },
   {
    "duration": 519,
    "start_time": "2025-01-24T13:54:26.997Z"
   },
   {
    "duration": 493,
    "start_time": "2025-01-24T13:54:31.061Z"
   },
   {
    "duration": 115,
    "start_time": "2025-01-24T13:55:20.728Z"
   },
   {
    "duration": 8,
    "start_time": "2025-01-24T13:55:53.759Z"
   },
   {
    "duration": 528,
    "start_time": "2025-01-24T13:56:31.501Z"
   },
   {
    "duration": 2,
    "start_time": "2025-01-24T13:57:11.463Z"
   },
   {
    "duration": 9,
    "start_time": "2025-01-24T15:38:25.276Z"
   },
   {
    "duration": 10,
    "start_time": "2025-01-24T15:38:25.458Z"
   },
   {
    "duration": 10,
    "start_time": "2025-01-24T15:38:25.664Z"
   },
   {
    "duration": 808,
    "start_time": "2025-01-24T15:39:03.304Z"
   },
   {
    "duration": 697,
    "start_time": "2025-01-24T15:39:26.013Z"
   },
   {
    "duration": 444,
    "start_time": "2025-01-24T15:39:40.174Z"
   },
   {
    "duration": 364,
    "start_time": "2025-01-24T15:39:59.643Z"
   },
   {
    "duration": 366,
    "start_time": "2025-01-24T15:40:08.032Z"
   },
   {
    "duration": 360,
    "start_time": "2025-01-24T15:40:17.855Z"
   },
   {
    "duration": 483,
    "start_time": "2025-01-24T15:40:25.969Z"
   },
   {
    "duration": 3,
    "start_time": "2025-01-24T15:40:43.760Z"
   },
   {
    "duration": 389,
    "start_time": "2025-01-24T15:40:46.896Z"
   },
   {
    "duration": 395,
    "start_time": "2025-01-24T15:41:47.888Z"
   },
   {
    "duration": 335,
    "start_time": "2025-01-24T15:43:53.862Z"
   },
   {
    "duration": 4,
    "start_time": "2025-01-24T15:44:04.021Z"
   },
   {
    "duration": 735,
    "start_time": "2025-01-24T15:44:04.737Z"
   },
   {
    "duration": 821,
    "start_time": "2025-01-24T15:44:39.462Z"
   },
   {
    "duration": 449,
    "start_time": "2025-01-24T15:44:43.393Z"
   },
   {
    "duration": 377,
    "start_time": "2025-01-24T15:45:08.565Z"
   },
   {
    "duration": 14,
    "start_time": "2025-01-24T15:53:27.453Z"
   },
   {
    "duration": 4,
    "start_time": "2025-01-24T15:53:46.667Z"
   },
   {
    "duration": 5,
    "start_time": "2025-01-24T15:53:46.758Z"
   },
   {
    "duration": 17,
    "start_time": "2025-01-24T15:53:48.768Z"
   },
   {
    "duration": 15,
    "start_time": "2025-01-24T15:54:02.384Z"
   },
   {
    "duration": 15,
    "start_time": "2025-01-24T15:54:14.419Z"
   },
   {
    "duration": 1302,
    "start_time": "2025-01-24T15:54:36.483Z"
   },
   {
    "duration": 60,
    "start_time": "2025-01-24T15:54:37.787Z"
   },
   {
    "duration": 20,
    "start_time": "2025-01-24T15:54:37.849Z"
   },
   {
    "duration": 68,
    "start_time": "2025-01-24T15:54:37.871Z"
   },
   {
    "duration": 24,
    "start_time": "2025-01-24T15:54:37.942Z"
   },
   {
    "duration": 26,
    "start_time": "2025-01-24T15:54:37.968Z"
   },
   {
    "duration": 17,
    "start_time": "2025-01-24T15:54:37.996Z"
   },
   {
    "duration": 25,
    "start_time": "2025-01-24T15:54:38.015Z"
   },
   {
    "duration": 19,
    "start_time": "2025-01-24T15:54:38.043Z"
   },
   {
    "duration": 35,
    "start_time": "2025-01-24T15:54:38.066Z"
   },
   {
    "duration": 6,
    "start_time": "2025-01-24T15:54:38.103Z"
   },
   {
    "duration": 11,
    "start_time": "2025-01-24T15:54:38.110Z"
   },
   {
    "duration": 14,
    "start_time": "2025-01-24T15:54:38.122Z"
   },
   {
    "duration": 28,
    "start_time": "2025-01-24T15:54:38.138Z"
   },
   {
    "duration": 37,
    "start_time": "2025-01-24T15:54:38.168Z"
   },
   {
    "duration": 12,
    "start_time": "2025-01-24T15:54:38.207Z"
   },
   {
    "duration": 19,
    "start_time": "2025-01-24T15:54:38.221Z"
   },
   {
    "duration": 102,
    "start_time": "2025-01-24T15:54:38.242Z"
   },
   {
    "duration": 368,
    "start_time": "2025-01-24T15:54:38.346Z"
   },
   {
    "duration": 10,
    "start_time": "2025-01-24T15:54:38.716Z"
   },
   {
    "duration": 12,
    "start_time": "2025-01-24T15:54:38.727Z"
   },
   {
    "duration": 314,
    "start_time": "2025-01-24T15:54:38.741Z"
   },
   {
    "duration": 416,
    "start_time": "2025-01-24T15:54:39.060Z"
   },
   {
    "duration": 26,
    "start_time": "2025-01-24T15:54:39.478Z"
   },
   {
    "duration": 27,
    "start_time": "2025-01-24T15:54:39.506Z"
   },
   {
    "duration": 26,
    "start_time": "2025-01-24T15:54:39.535Z"
   },
   {
    "duration": 14,
    "start_time": "2025-01-24T15:54:39.563Z"
   },
   {
    "duration": 8,
    "start_time": "2025-01-24T15:54:39.582Z"
   },
   {
    "duration": 672,
    "start_time": "2025-01-24T15:54:39.591Z"
   },
   {
    "duration": 313,
    "start_time": "2025-01-24T15:54:40.265Z"
   },
   {
    "duration": 412,
    "start_time": "2025-01-24T15:54:40.580Z"
   },
   {
    "duration": 333,
    "start_time": "2025-01-24T15:54:40.994Z"
   },
   {
    "duration": 5,
    "start_time": "2025-01-24T15:54:41.328Z"
   },
   {
    "duration": 187,
    "start_time": "2025-01-24T15:54:41.334Z"
   },
   {
    "duration": 5,
    "start_time": "2025-01-24T15:54:41.527Z"
   },
   {
    "duration": 259,
    "start_time": "2025-01-24T15:54:41.534Z"
   },
   {
    "duration": 5,
    "start_time": "2025-01-24T15:54:41.795Z"
   },
   {
    "duration": 5,
    "start_time": "2025-01-24T15:54:41.801Z"
   },
   {
    "duration": 366,
    "start_time": "2025-01-24T15:54:41.808Z"
   },
   {
    "duration": 10,
    "start_time": "2025-01-24T15:54:42.176Z"
   },
   {
    "duration": 10,
    "start_time": "2025-01-24T15:54:42.189Z"
   },
   {
    "duration": 413,
    "start_time": "2025-01-24T15:54:42.202Z"
   },
   {
    "duration": 8,
    "start_time": "2025-01-24T15:54:42.616Z"
   },
   {
    "duration": 18,
    "start_time": "2025-01-24T15:54:42.626Z"
   },
   {
    "duration": 19,
    "start_time": "2025-01-24T15:54:42.646Z"
   },
   {
    "duration": 201,
    "start_time": "2025-01-24T15:54:42.667Z"
   },
   {
    "duration": 672,
    "start_time": "2025-01-24T15:54:42.870Z"
   },
   {
    "duration": 16,
    "start_time": "2025-01-24T15:54:43.544Z"
   },
   {
    "duration": 8,
    "start_time": "2025-01-24T15:54:43.562Z"
   },
   {
    "duration": 11,
    "start_time": "2025-01-24T15:54:43.571Z"
   },
   {
    "duration": 4,
    "start_time": "2025-01-24T15:54:43.584Z"
   },
   {
    "duration": 453,
    "start_time": "2025-01-24T15:54:43.589Z"
   },
   {
    "duration": 1,
    "start_time": "2025-01-24T15:54:44.043Z"
   },
   {
    "duration": 0,
    "start_time": "2025-01-24T15:54:44.045Z"
   },
   {
    "duration": 0,
    "start_time": "2025-01-24T15:54:44.046Z"
   },
   {
    "duration": 0,
    "start_time": "2025-01-24T15:54:44.060Z"
   },
   {
    "duration": 0,
    "start_time": "2025-01-24T15:54:44.061Z"
   },
   {
    "duration": 0,
    "start_time": "2025-01-24T15:54:44.062Z"
   },
   {
    "duration": 0,
    "start_time": "2025-01-24T15:54:44.063Z"
   },
   {
    "duration": 0,
    "start_time": "2025-01-24T15:54:44.064Z"
   },
   {
    "duration": 0,
    "start_time": "2025-01-24T15:54:44.065Z"
   },
   {
    "duration": 0,
    "start_time": "2025-01-24T15:54:44.066Z"
   },
   {
    "duration": 0,
    "start_time": "2025-01-24T15:54:44.067Z"
   },
   {
    "duration": 329,
    "start_time": "2025-01-24T15:56:02.361Z"
   },
   {
    "duration": 323,
    "start_time": "2025-01-24T16:13:20.478Z"
   },
   {
    "duration": 3,
    "start_time": "2025-01-24T16:13:26.389Z"
   },
   {
    "duration": 318,
    "start_time": "2025-01-24T16:13:26.899Z"
   },
   {
    "duration": 711,
    "start_time": "2025-01-24T16:13:50.688Z"
   },
   {
    "duration": 459,
    "start_time": "2025-01-24T16:14:03.591Z"
   },
   {
    "duration": 698,
    "start_time": "2025-01-24T16:14:08.269Z"
   },
   {
    "duration": 573,
    "start_time": "2025-01-24T16:14:29.316Z"
   },
   {
    "duration": 10,
    "start_time": "2025-01-24T16:14:42.771Z"
   },
   {
    "duration": 368,
    "start_time": "2025-01-24T16:14:43.229Z"
   },
   {
    "duration": 1313,
    "start_time": "2025-01-24T16:14:50.304Z"
   },
   {
    "duration": 52,
    "start_time": "2025-01-24T16:14:51.619Z"
   },
   {
    "duration": 30,
    "start_time": "2025-01-24T16:14:51.673Z"
   },
   {
    "duration": 21,
    "start_time": "2025-01-24T16:14:51.705Z"
   },
   {
    "duration": 49,
    "start_time": "2025-01-24T16:14:51.728Z"
   },
   {
    "duration": 24,
    "start_time": "2025-01-24T16:14:51.779Z"
   },
   {
    "duration": 11,
    "start_time": "2025-01-24T16:14:51.805Z"
   },
   {
    "duration": 21,
    "start_time": "2025-01-24T16:14:51.818Z"
   },
   {
    "duration": 26,
    "start_time": "2025-01-24T16:14:51.841Z"
   },
   {
    "duration": 14,
    "start_time": "2025-01-24T16:14:51.869Z"
   },
   {
    "duration": 6,
    "start_time": "2025-01-24T16:14:51.885Z"
   },
   {
    "duration": 9,
    "start_time": "2025-01-24T16:14:51.893Z"
   },
   {
    "duration": 28,
    "start_time": "2025-01-24T16:14:51.904Z"
   },
   {
    "duration": 52,
    "start_time": "2025-01-24T16:14:51.936Z"
   },
   {
    "duration": 23,
    "start_time": "2025-01-24T16:14:51.990Z"
   },
   {
    "duration": 12,
    "start_time": "2025-01-24T16:14:52.015Z"
   },
   {
    "duration": 21,
    "start_time": "2025-01-24T16:14:52.028Z"
   },
   {
    "duration": 106,
    "start_time": "2025-01-24T16:14:52.060Z"
   },
   {
    "duration": 372,
    "start_time": "2025-01-24T16:14:52.169Z"
   },
   {
    "duration": 19,
    "start_time": "2025-01-24T16:14:52.543Z"
   },
   {
    "duration": 30,
    "start_time": "2025-01-24T16:14:52.565Z"
   },
   {
    "duration": 291,
    "start_time": "2025-01-24T16:14:52.597Z"
   },
   {
    "duration": 418,
    "start_time": "2025-01-24T16:14:52.890Z"
   },
   {
    "duration": 27,
    "start_time": "2025-01-24T16:14:53.310Z"
   },
   {
    "duration": 32,
    "start_time": "2025-01-24T16:14:53.339Z"
   },
   {
    "duration": 13,
    "start_time": "2025-01-24T16:14:53.373Z"
   },
   {
    "duration": 37,
    "start_time": "2025-01-24T16:14:53.388Z"
   },
   {
    "duration": 18,
    "start_time": "2025-01-24T16:14:53.427Z"
   },
   {
    "duration": 668,
    "start_time": "2025-01-24T16:14:53.447Z"
   },
   {
    "duration": 306,
    "start_time": "2025-01-24T16:14:54.117Z"
   },
   {
    "duration": 429,
    "start_time": "2025-01-24T16:14:54.425Z"
   },
   {
    "duration": 340,
    "start_time": "2025-01-24T16:14:54.860Z"
   },
   {
    "duration": 6,
    "start_time": "2025-01-24T16:14:55.202Z"
   },
   {
    "duration": 214,
    "start_time": "2025-01-24T16:14:55.210Z"
   },
   {
    "duration": 5,
    "start_time": "2025-01-24T16:14:55.426Z"
   },
   {
    "duration": 229,
    "start_time": "2025-01-24T16:14:55.433Z"
   },
   {
    "duration": 5,
    "start_time": "2025-01-24T16:14:55.665Z"
   },
   {
    "duration": 13,
    "start_time": "2025-01-24T16:14:55.672Z"
   },
   {
    "duration": 356,
    "start_time": "2025-01-24T16:14:55.687Z"
   },
   {
    "duration": 16,
    "start_time": "2025-01-24T16:14:56.045Z"
   },
   {
    "duration": 6,
    "start_time": "2025-01-24T16:14:56.066Z"
   },
   {
    "duration": 405,
    "start_time": "2025-01-24T16:14:56.074Z"
   },
   {
    "duration": 8,
    "start_time": "2025-01-24T16:14:56.481Z"
   },
   {
    "duration": 26,
    "start_time": "2025-01-24T16:14:56.490Z"
   },
   {
    "duration": 35,
    "start_time": "2025-01-24T16:14:56.518Z"
   },
   {
    "duration": 209,
    "start_time": "2025-01-24T16:14:56.556Z"
   },
   {
    "duration": 628,
    "start_time": "2025-01-24T16:14:56.768Z"
   },
   {
    "duration": 9,
    "start_time": "2025-01-24T16:14:57.398Z"
   },
   {
    "duration": 21,
    "start_time": "2025-01-24T16:14:57.408Z"
   },
   {
    "duration": 17,
    "start_time": "2025-01-24T16:14:57.431Z"
   },
   {
    "duration": 25,
    "start_time": "2025-01-24T16:14:57.450Z"
   },
   {
    "duration": 807,
    "start_time": "2025-01-24T16:14:57.476Z"
   },
   {
    "duration": 8,
    "start_time": "2025-01-24T16:14:58.285Z"
   },
   {
    "duration": 11,
    "start_time": "2025-01-24T16:14:58.295Z"
   },
   {
    "duration": 16,
    "start_time": "2025-01-24T16:14:58.360Z"
   },
   {
    "duration": 6,
    "start_time": "2025-01-24T16:14:58.378Z"
   },
   {
    "duration": 777,
    "start_time": "2025-01-24T16:14:58.386Z"
   },
   {
    "duration": 14,
    "start_time": "2025-01-24T16:14:59.166Z"
   },
   {
    "duration": 10,
    "start_time": "2025-01-24T16:14:59.182Z"
   },
   {
    "duration": 11,
    "start_time": "2025-01-24T16:14:59.194Z"
   },
   {
    "duration": 8,
    "start_time": "2025-01-24T16:14:59.259Z"
   },
   {
    "duration": 21,
    "start_time": "2025-01-24T16:14:59.270Z"
   },
   {
    "duration": 7,
    "start_time": "2025-01-24T16:14:59.293Z"
   },
   {
    "duration": 361,
    "start_time": "2025-01-24T16:15:38.616Z"
   },
   {
    "duration": 369,
    "start_time": "2025-01-24T16:15:46.911Z"
   },
   {
    "duration": 16,
    "start_time": "2025-01-24T16:27:13.250Z"
   },
   {
    "duration": 12,
    "start_time": "2025-01-24T16:56:49.441Z"
   },
   {
    "duration": 6,
    "start_time": "2025-01-24T16:56:53.971Z"
   },
   {
    "duration": 7,
    "start_time": "2025-01-24T16:57:00.373Z"
   },
   {
    "duration": 5,
    "start_time": "2025-01-24T16:57:36.541Z"
   },
   {
    "duration": 6,
    "start_time": "2025-01-24T16:58:18.785Z"
   },
   {
    "duration": 9,
    "start_time": "2025-01-24T16:59:25.597Z"
   },
   {
    "duration": 5,
    "start_time": "2025-01-24T16:59:28.656Z"
   },
   {
    "duration": 1410,
    "start_time": "2025-01-24T18:21:07.841Z"
   },
   {
    "duration": 59,
    "start_time": "2025-01-24T18:21:09.252Z"
   },
   {
    "duration": 20,
    "start_time": "2025-01-24T18:21:09.312Z"
   },
   {
    "duration": 15,
    "start_time": "2025-01-24T18:21:09.333Z"
   },
   {
    "duration": 14,
    "start_time": "2025-01-24T18:21:09.351Z"
   },
   {
    "duration": 8,
    "start_time": "2025-01-24T18:21:09.367Z"
   },
   {
    "duration": 32,
    "start_time": "2025-01-24T18:21:09.377Z"
   },
   {
    "duration": 10,
    "start_time": "2025-01-24T18:21:09.410Z"
   },
   {
    "duration": 15,
    "start_time": "2025-01-24T18:21:09.422Z"
   },
   {
    "duration": 7,
    "start_time": "2025-01-24T18:21:09.438Z"
   },
   {
    "duration": 6,
    "start_time": "2025-01-24T18:21:09.447Z"
   },
   {
    "duration": 5,
    "start_time": "2025-01-24T18:21:09.454Z"
   },
   {
    "duration": 6,
    "start_time": "2025-01-24T18:21:09.461Z"
   },
   {
    "duration": 16,
    "start_time": "2025-01-24T18:21:09.507Z"
   },
   {
    "duration": 19,
    "start_time": "2025-01-24T18:21:09.525Z"
   },
   {
    "duration": 10,
    "start_time": "2025-01-24T18:21:09.545Z"
   },
   {
    "duration": 18,
    "start_time": "2025-01-24T18:21:09.557Z"
   },
   {
    "duration": 84,
    "start_time": "2025-01-24T18:21:09.608Z"
   },
   {
    "duration": 363,
    "start_time": "2025-01-24T18:21:09.694Z"
   },
   {
    "duration": 10,
    "start_time": "2025-01-24T18:21:10.059Z"
   },
   {
    "duration": 32,
    "start_time": "2025-01-24T18:21:10.071Z"
   },
   {
    "duration": 267,
    "start_time": "2025-01-24T18:21:10.105Z"
   },
   {
    "duration": 399,
    "start_time": "2025-01-24T18:21:10.373Z"
   },
   {
    "duration": 26,
    "start_time": "2025-01-24T18:21:10.774Z"
   },
   {
    "duration": 43,
    "start_time": "2025-01-24T18:21:10.802Z"
   },
   {
    "duration": 81,
    "start_time": "2025-01-24T18:21:10.847Z"
   },
   {
    "duration": 35,
    "start_time": "2025-01-24T18:21:10.930Z"
   },
   {
    "duration": 21,
    "start_time": "2025-01-24T18:21:10.967Z"
   },
   {
    "duration": 691,
    "start_time": "2025-01-24T18:21:10.990Z"
   },
   {
    "duration": 263,
    "start_time": "2025-01-24T18:21:11.683Z"
   },
   {
    "duration": 379,
    "start_time": "2025-01-24T18:21:11.947Z"
   },
   {
    "duration": 303,
    "start_time": "2025-01-24T18:21:12.327Z"
   },
   {
    "duration": 4,
    "start_time": "2025-01-24T18:21:12.631Z"
   },
   {
    "duration": 168,
    "start_time": "2025-01-24T18:21:12.637Z"
   },
   {
    "duration": 4,
    "start_time": "2025-01-24T18:21:12.808Z"
   },
   {
    "duration": 266,
    "start_time": "2025-01-24T18:21:12.813Z"
   },
   {
    "duration": 5,
    "start_time": "2025-01-24T18:21:13.081Z"
   },
   {
    "duration": 22,
    "start_time": "2025-01-24T18:21:13.087Z"
   },
   {
    "duration": 305,
    "start_time": "2025-01-24T18:21:13.111Z"
   },
   {
    "duration": 9,
    "start_time": "2025-01-24T18:21:13.417Z"
   },
   {
    "duration": 6,
    "start_time": "2025-01-24T18:21:13.431Z"
   },
   {
    "duration": 368,
    "start_time": "2025-01-24T18:21:13.439Z"
   },
   {
    "duration": 7,
    "start_time": "2025-01-24T18:21:13.809Z"
   },
   {
    "duration": 3,
    "start_time": "2025-01-24T18:21:13.818Z"
   },
   {
    "duration": 96,
    "start_time": "2025-01-24T18:21:13.822Z"
   },
   {
    "duration": 195,
    "start_time": "2025-01-24T18:21:13.920Z"
   },
   {
    "duration": 557,
    "start_time": "2025-01-24T18:21:14.116Z"
   },
   {
    "duration": 6,
    "start_time": "2025-01-24T18:21:14.675Z"
   },
   {
    "duration": 66,
    "start_time": "2025-01-24T18:21:14.683Z"
   },
   {
    "duration": 6,
    "start_time": "2025-01-24T18:21:14.750Z"
   },
   {
    "duration": 3,
    "start_time": "2025-01-24T18:21:14.758Z"
   },
   {
    "duration": 348,
    "start_time": "2025-01-24T18:21:14.762Z"
   },
   {
    "duration": 8,
    "start_time": "2025-01-24T18:21:15.112Z"
   },
   {
    "duration": 41,
    "start_time": "2025-01-24T18:21:15.122Z"
   },
   {
    "duration": 24,
    "start_time": "2025-01-24T18:21:15.164Z"
   },
   {
    "duration": 14,
    "start_time": "2025-01-24T18:21:15.191Z"
   },
   {
    "duration": 366,
    "start_time": "2025-01-24T18:21:15.207Z"
   },
   {
    "duration": 13,
    "start_time": "2025-01-24T18:21:15.575Z"
   },
   {
    "duration": 64,
    "start_time": "2025-01-24T18:21:15.589Z"
   },
   {
    "duration": 19,
    "start_time": "2025-01-24T18:21:15.655Z"
   },
   {
    "duration": 24,
    "start_time": "2025-01-24T18:21:15.676Z"
   },
   {
    "duration": 41,
    "start_time": "2025-01-24T18:21:15.701Z"
   },
   {
    "duration": 10,
    "start_time": "2025-01-24T18:21:15.743Z"
   },
   {
    "duration": 52,
    "start_time": "2025-01-25T13:30:55.218Z"
   },
   {
    "duration": 1507,
    "start_time": "2025-01-25T13:31:13.024Z"
   },
   {
    "duration": 59,
    "start_time": "2025-01-25T13:31:14.533Z"
   },
   {
    "duration": 1100,
    "start_time": "2025-01-25T13:37:26.842Z"
   },
   {
    "duration": 56,
    "start_time": "2025-01-25T13:37:39.689Z"
   },
   {
    "duration": 20,
    "start_time": "2025-01-25T13:37:39.906Z"
   },
   {
    "duration": 17,
    "start_time": "2025-01-25T13:37:40.088Z"
   },
   {
    "duration": 16,
    "start_time": "2025-01-25T13:37:41.639Z"
   },
   {
    "duration": 6,
    "start_time": "2025-01-25T13:37:43.701Z"
   },
   {
    "duration": 11,
    "start_time": "2025-01-25T13:37:44.533Z"
   },
   {
    "duration": 12,
    "start_time": "2025-01-25T13:37:45.402Z"
   },
   {
    "duration": 16,
    "start_time": "2025-01-25T13:37:45.738Z"
   },
   {
    "duration": 1128,
    "start_time": "2025-01-25T14:12:29.250Z"
   },
   {
    "duration": 11,
    "start_time": "2025-01-25T14:12:42.007Z"
   }
  ],
  "kernelspec": {
   "display_name": "Python 3 (ipykernel)",
   "language": "python",
   "name": "python3"
  },
  "language_info": {
   "codemirror_mode": {
    "name": "ipython",
    "version": 3
   },
   "file_extension": ".py",
   "mimetype": "text/x-python",
   "name": "python",
   "nbconvert_exporter": "python",
   "pygments_lexer": "ipython3",
   "version": "3.9.20"
  },
  "toc": {
   "base_numbering": 1,
   "nav_menu": {},
   "number_sections": true,
   "sideBar": true,
   "skip_h1_title": true,
   "title_cell": "Table of Contents",
   "title_sidebar": "Contents",
   "toc_cell": false,
   "toc_position": {
    "height": "calc(100% - 180px)",
    "left": "10px",
    "top": "150px",
    "width": "165px"
   },
   "toc_section_display": true,
   "toc_window_display": true
  },
  "varInspector": {
   "cols": {
    "lenName": 16,
    "lenType": 16,
    "lenVar": 40
   },
   "kernels_config": {
    "python": {
     "delete_cmd_postfix": "",
     "delete_cmd_prefix": "del ",
     "library": "var_list.py",
     "varRefreshCmd": "print(var_dic_list())"
    },
    "r": {
     "delete_cmd_postfix": ") ",
     "delete_cmd_prefix": "rm(",
     "library": "var_list.r",
     "varRefreshCmd": "cat(var_dic_list()) "
    }
   },
   "types_to_exclude": [
    "module",
    "function",
    "builtin_function_or_method",
    "instance",
    "_Feature"
   ],
   "window_display": false
  }
 },
 "nbformat": 4,
 "nbformat_minor": 2
}
